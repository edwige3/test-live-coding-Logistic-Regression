{
  "nbformat": 4,
  "nbformat_minor": 0,
  "metadata": {
    "colab": {
      "name": "Santatriniaina_Avotra_Randrianambinina_LogRegression.ipynb",
      "provenance": [],
      "collapsed_sections": [],
      "toc_visible": true,
      "include_colab_link": true
    },
    "kernelspec": {
      "name": "python3",
      "display_name": "Python 3"
    },
    "language_info": {
      "name": "python"
    }
  },
  "cells": [
    {
      "cell_type": "markdown",
      "metadata": {
        "id": "view-in-github",
        "colab_type": "text"
      },
      "source": [
        "<a href=\"https://colab.research.google.com/github/AvotraRan/test-live-coding/blob/master/Santatriniaina_Avotra_Randrianambinina_LogRegression.ipynb\" target=\"_parent\"><img src=\"https://colab.research.google.com/assets/colab-badge.svg\" alt=\"Open In Colab\"/></a>"
      ]
    },
    {
      "cell_type": "markdown",
      "source": [
        "[![Open In Colab](https://colab.research.google.com/assets/colab-badge.svg)](https://colab.research.google.com/github/googlecolab/colabtools/blob/master/notebooks/colab-github-demo.ipynb)"
      ],
      "metadata": {
        "id": "3hu6wCiSyg4B"
      }
    },
    {
      "cell_type": "markdown",
      "source": [
        "# Logistic Regression Implementation"
      ],
      "metadata": {
        "id": "3H4HVu_0ckc5"
      }
    },
    {
      "cell_type": "markdown",
      "source": [
        "# Instructions:\n",
        "1. Save a copy of this notebook in your drive;\n",
        "2. Name it by: `Your_fullname_LogRegression.ipynb`\n",
        "3. Close the original notebook\n",
        "4. Start typing your codes.\n",
        "\n",
        "`Note:` Discuss with your neighbors."
      ],
      "metadata": {
        "id": "7RO8S4CbmJVH"
      }
    },
    {
      "cell_type": "markdown",
      "source": [
        "# Part 1: Data preparation\n",
        "\n",
        "## Import Dataset Libraries"
      ],
      "metadata": {
        "id": "VhL_jPWQZCoX"
      }
    },
    {
      "cell_type": "code",
      "execution_count": 64,
      "metadata": {
        "id": "h5tJBDqB444I"
      },
      "outputs": [],
      "source": [
        "import numpy as np\n",
        "import pandas as pd\n",
        "import matplotlib.pyplot as plt"
      ]
    },
    {
      "cell_type": "markdown",
      "source": [
        "Question 0: Import the dataset Dataset"
      ],
      "metadata": {
        "id": "wwf9SiJ4ZEvs"
      }
    },
    {
      "cell_type": "code",
      "source": [
        "##### WRITE YOUR CODE HERE #####\n",
        "path= '/content/diabetes.csv'\n",
        "data=pd.read_csv(\"diabetes.csv\")\n",
        "#### END CODE ####"
      ],
      "metadata": {
        "id": "R42UJPRzUYPW"
      },
      "execution_count": 65,
      "outputs": []
    },
    {
      "cell_type": "markdown",
      "source": [
        "Question 1: Print the first five rows of the Dataset"
      ],
      "metadata": {
        "id": "cFQTnXLoXgy4"
      }
    },
    {
      "cell_type": "code",
      "source": [
        "##### WRITE YOUR CODE HERE #####\n",
        "data.head()\n",
        "#### END CODE ####"
      ],
      "metadata": {
        "colab": {
          "base_uri": "https://localhost:8080/",
          "height": 204
        },
        "id": "Fj4Vhz42U5fd",
        "outputId": "c814a30f-ea59-48b9-cf86-7509e1985596"
      },
      "execution_count": 66,
      "outputs": [
        {
          "output_type": "execute_result",
          "data": {
            "text/html": [
              "\n",
              "  <div id=\"df-48685ae8-fd18-44bf-98f0-11b0f82e32a7\">\n",
              "    <div class=\"colab-df-container\">\n",
              "      <div>\n",
              "<style scoped>\n",
              "    .dataframe tbody tr th:only-of-type {\n",
              "        vertical-align: middle;\n",
              "    }\n",
              "\n",
              "    .dataframe tbody tr th {\n",
              "        vertical-align: top;\n",
              "    }\n",
              "\n",
              "    .dataframe thead th {\n",
              "        text-align: right;\n",
              "    }\n",
              "</style>\n",
              "<table border=\"1\" class=\"dataframe\">\n",
              "  <thead>\n",
              "    <tr style=\"text-align: right;\">\n",
              "      <th></th>\n",
              "      <th>Pregnancies</th>\n",
              "      <th>Glucose</th>\n",
              "      <th>BloodPressure</th>\n",
              "      <th>SkinThickness</th>\n",
              "      <th>Insulin</th>\n",
              "      <th>BMI</th>\n",
              "      <th>DiabetesPedigreeFunction</th>\n",
              "      <th>Age</th>\n",
              "      <th>Outcome</th>\n",
              "    </tr>\n",
              "  </thead>\n",
              "  <tbody>\n",
              "    <tr>\n",
              "      <th>0</th>\n",
              "      <td>6</td>\n",
              "      <td>148</td>\n",
              "      <td>72</td>\n",
              "      <td>35</td>\n",
              "      <td>0</td>\n",
              "      <td>33.6</td>\n",
              "      <td>0.627</td>\n",
              "      <td>50</td>\n",
              "      <td>1</td>\n",
              "    </tr>\n",
              "    <tr>\n",
              "      <th>1</th>\n",
              "      <td>1</td>\n",
              "      <td>85</td>\n",
              "      <td>66</td>\n",
              "      <td>29</td>\n",
              "      <td>0</td>\n",
              "      <td>26.6</td>\n",
              "      <td>0.351</td>\n",
              "      <td>31</td>\n",
              "      <td>0</td>\n",
              "    </tr>\n",
              "    <tr>\n",
              "      <th>2</th>\n",
              "      <td>8</td>\n",
              "      <td>183</td>\n",
              "      <td>64</td>\n",
              "      <td>0</td>\n",
              "      <td>0</td>\n",
              "      <td>23.3</td>\n",
              "      <td>0.672</td>\n",
              "      <td>32</td>\n",
              "      <td>1</td>\n",
              "    </tr>\n",
              "    <tr>\n",
              "      <th>3</th>\n",
              "      <td>1</td>\n",
              "      <td>89</td>\n",
              "      <td>66</td>\n",
              "      <td>23</td>\n",
              "      <td>94</td>\n",
              "      <td>28.1</td>\n",
              "      <td>0.167</td>\n",
              "      <td>21</td>\n",
              "      <td>0</td>\n",
              "    </tr>\n",
              "    <tr>\n",
              "      <th>4</th>\n",
              "      <td>0</td>\n",
              "      <td>137</td>\n",
              "      <td>40</td>\n",
              "      <td>35</td>\n",
              "      <td>168</td>\n",
              "      <td>43.1</td>\n",
              "      <td>2.288</td>\n",
              "      <td>33</td>\n",
              "      <td>1</td>\n",
              "    </tr>\n",
              "  </tbody>\n",
              "</table>\n",
              "</div>\n",
              "      <button class=\"colab-df-convert\" onclick=\"convertToInteractive('df-48685ae8-fd18-44bf-98f0-11b0f82e32a7')\"\n",
              "              title=\"Convert this dataframe to an interactive table.\"\n",
              "              style=\"display:none;\">\n",
              "        \n",
              "  <svg xmlns=\"http://www.w3.org/2000/svg\" height=\"24px\"viewBox=\"0 0 24 24\"\n",
              "       width=\"24px\">\n",
              "    <path d=\"M0 0h24v24H0V0z\" fill=\"none\"/>\n",
              "    <path d=\"M18.56 5.44l.94 2.06.94-2.06 2.06-.94-2.06-.94-.94-2.06-.94 2.06-2.06.94zm-11 1L8.5 8.5l.94-2.06 2.06-.94-2.06-.94L8.5 2.5l-.94 2.06-2.06.94zm10 10l.94 2.06.94-2.06 2.06-.94-2.06-.94-.94-2.06-.94 2.06-2.06.94z\"/><path d=\"M17.41 7.96l-1.37-1.37c-.4-.4-.92-.59-1.43-.59-.52 0-1.04.2-1.43.59L10.3 9.45l-7.72 7.72c-.78.78-.78 2.05 0 2.83L4 21.41c.39.39.9.59 1.41.59.51 0 1.02-.2 1.41-.59l7.78-7.78 2.81-2.81c.8-.78.8-2.07 0-2.86zM5.41 20L4 18.59l7.72-7.72 1.47 1.35L5.41 20z\"/>\n",
              "  </svg>\n",
              "      </button>\n",
              "      \n",
              "  <style>\n",
              "    .colab-df-container {\n",
              "      display:flex;\n",
              "      flex-wrap:wrap;\n",
              "      gap: 12px;\n",
              "    }\n",
              "\n",
              "    .colab-df-convert {\n",
              "      background-color: #E8F0FE;\n",
              "      border: none;\n",
              "      border-radius: 50%;\n",
              "      cursor: pointer;\n",
              "      display: none;\n",
              "      fill: #1967D2;\n",
              "      height: 32px;\n",
              "      padding: 0 0 0 0;\n",
              "      width: 32px;\n",
              "    }\n",
              "\n",
              "    .colab-df-convert:hover {\n",
              "      background-color: #E2EBFA;\n",
              "      box-shadow: 0px 1px 2px rgba(60, 64, 67, 0.3), 0px 1px 3px 1px rgba(60, 64, 67, 0.15);\n",
              "      fill: #174EA6;\n",
              "    }\n",
              "\n",
              "    [theme=dark] .colab-df-convert {\n",
              "      background-color: #3B4455;\n",
              "      fill: #D2E3FC;\n",
              "    }\n",
              "\n",
              "    [theme=dark] .colab-df-convert:hover {\n",
              "      background-color: #434B5C;\n",
              "      box-shadow: 0px 1px 3px 1px rgba(0, 0, 0, 0.15);\n",
              "      filter: drop-shadow(0px 1px 2px rgba(0, 0, 0, 0.3));\n",
              "      fill: #FFFFFF;\n",
              "    }\n",
              "  </style>\n",
              "\n",
              "      <script>\n",
              "        const buttonEl =\n",
              "          document.querySelector('#df-48685ae8-fd18-44bf-98f0-11b0f82e32a7 button.colab-df-convert');\n",
              "        buttonEl.style.display =\n",
              "          google.colab.kernel.accessAllowed ? 'block' : 'none';\n",
              "\n",
              "        async function convertToInteractive(key) {\n",
              "          const element = document.querySelector('#df-48685ae8-fd18-44bf-98f0-11b0f82e32a7');\n",
              "          const dataTable =\n",
              "            await google.colab.kernel.invokeFunction('convertToInteractive',\n",
              "                                                     [key], {});\n",
              "          if (!dataTable) return;\n",
              "\n",
              "          const docLinkHtml = 'Like what you see? Visit the ' +\n",
              "            '<a target=\"_blank\" href=https://colab.research.google.com/notebooks/data_table.ipynb>data table notebook</a>'\n",
              "            + ' to learn more about interactive tables.';\n",
              "          element.innerHTML = '';\n",
              "          dataTable['output_type'] = 'display_data';\n",
              "          await google.colab.output.renderOutput(dataTable, element);\n",
              "          const docLink = document.createElement('div');\n",
              "          docLink.innerHTML = docLinkHtml;\n",
              "          element.appendChild(docLink);\n",
              "        }\n",
              "      </script>\n",
              "    </div>\n",
              "  </div>\n",
              "  "
            ],
            "text/plain": [
              "   Pregnancies  Glucose  BloodPressure  ...  DiabetesPedigreeFunction  Age  Outcome\n",
              "0            6      148             72  ...                     0.627   50        1\n",
              "1            1       85             66  ...                     0.351   31        0\n",
              "2            8      183             64  ...                     0.672   32        1\n",
              "3            1       89             66  ...                     0.167   21        0\n",
              "4            0      137             40  ...                     2.288   33        1\n",
              "\n",
              "[5 rows x 9 columns]"
            ]
          },
          "metadata": {},
          "execution_count": 66
        }
      ]
    },
    {
      "cell_type": "markdown",
      "source": [
        "Question 2: Check the types of your variables/features"
      ],
      "metadata": {
        "id": "6iVatSkruxwb"
      }
    },
    {
      "cell_type": "code",
      "source": [
        "##### WRITE YOUR CODE HERE #####\n",
        "data.dtypes\n",
        "#### END CODE ####"
      ],
      "metadata": {
        "colab": {
          "base_uri": "https://localhost:8080/"
        },
        "id": "tM09phY_U8J_",
        "outputId": "549e041f-a9a2-4016-dad1-e6c42ea63744"
      },
      "execution_count": 67,
      "outputs": [
        {
          "output_type": "execute_result",
          "data": {
            "text/plain": [
              "Pregnancies                   int64\n",
              "Glucose                       int64\n",
              "BloodPressure                 int64\n",
              "SkinThickness                 int64\n",
              "Insulin                       int64\n",
              "BMI                         float64\n",
              "DiabetesPedigreeFunction    float64\n",
              "Age                           int64\n",
              "Outcome                       int64\n",
              "dtype: object"
            ]
          },
          "metadata": {},
          "execution_count": 67
        }
      ]
    },
    {
      "cell_type": "markdown",
      "source": [
        "Question 3: Describe your dataset"
      ],
      "metadata": {
        "id": "o7idUq99XlAH"
      }
    },
    {
      "cell_type": "code",
      "source": [
        "##### WRITE YOUR CODE HERE #####\n",
        "data.describe()\n",
        "#### END CODE ####"
      ],
      "metadata": {
        "colab": {
          "base_uri": "https://localhost:8080/",
          "height": 297
        },
        "id": "qWo3tf5dZadO",
        "outputId": "8b7016a3-7e08-4f82-c557-b3e83e8de8a0"
      },
      "execution_count": 68,
      "outputs": [
        {
          "output_type": "execute_result",
          "data": {
            "text/html": [
              "\n",
              "  <div id=\"df-ebb37027-ee43-459b-a5c8-840948133d31\">\n",
              "    <div class=\"colab-df-container\">\n",
              "      <div>\n",
              "<style scoped>\n",
              "    .dataframe tbody tr th:only-of-type {\n",
              "        vertical-align: middle;\n",
              "    }\n",
              "\n",
              "    .dataframe tbody tr th {\n",
              "        vertical-align: top;\n",
              "    }\n",
              "\n",
              "    .dataframe thead th {\n",
              "        text-align: right;\n",
              "    }\n",
              "</style>\n",
              "<table border=\"1\" class=\"dataframe\">\n",
              "  <thead>\n",
              "    <tr style=\"text-align: right;\">\n",
              "      <th></th>\n",
              "      <th>Pregnancies</th>\n",
              "      <th>Glucose</th>\n",
              "      <th>BloodPressure</th>\n",
              "      <th>SkinThickness</th>\n",
              "      <th>Insulin</th>\n",
              "      <th>BMI</th>\n",
              "      <th>DiabetesPedigreeFunction</th>\n",
              "      <th>Age</th>\n",
              "      <th>Outcome</th>\n",
              "    </tr>\n",
              "  </thead>\n",
              "  <tbody>\n",
              "    <tr>\n",
              "      <th>count</th>\n",
              "      <td>768.000000</td>\n",
              "      <td>768.000000</td>\n",
              "      <td>768.000000</td>\n",
              "      <td>768.000000</td>\n",
              "      <td>768.000000</td>\n",
              "      <td>768.000000</td>\n",
              "      <td>768.000000</td>\n",
              "      <td>768.000000</td>\n",
              "      <td>768.000000</td>\n",
              "    </tr>\n",
              "    <tr>\n",
              "      <th>mean</th>\n",
              "      <td>3.845052</td>\n",
              "      <td>120.894531</td>\n",
              "      <td>69.105469</td>\n",
              "      <td>20.536458</td>\n",
              "      <td>79.799479</td>\n",
              "      <td>31.992578</td>\n",
              "      <td>0.471876</td>\n",
              "      <td>33.240885</td>\n",
              "      <td>0.348958</td>\n",
              "    </tr>\n",
              "    <tr>\n",
              "      <th>std</th>\n",
              "      <td>3.369578</td>\n",
              "      <td>31.972618</td>\n",
              "      <td>19.355807</td>\n",
              "      <td>15.952218</td>\n",
              "      <td>115.244002</td>\n",
              "      <td>7.884160</td>\n",
              "      <td>0.331329</td>\n",
              "      <td>11.760232</td>\n",
              "      <td>0.476951</td>\n",
              "    </tr>\n",
              "    <tr>\n",
              "      <th>min</th>\n",
              "      <td>0.000000</td>\n",
              "      <td>0.000000</td>\n",
              "      <td>0.000000</td>\n",
              "      <td>0.000000</td>\n",
              "      <td>0.000000</td>\n",
              "      <td>0.000000</td>\n",
              "      <td>0.078000</td>\n",
              "      <td>21.000000</td>\n",
              "      <td>0.000000</td>\n",
              "    </tr>\n",
              "    <tr>\n",
              "      <th>25%</th>\n",
              "      <td>1.000000</td>\n",
              "      <td>99.000000</td>\n",
              "      <td>62.000000</td>\n",
              "      <td>0.000000</td>\n",
              "      <td>0.000000</td>\n",
              "      <td>27.300000</td>\n",
              "      <td>0.243750</td>\n",
              "      <td>24.000000</td>\n",
              "      <td>0.000000</td>\n",
              "    </tr>\n",
              "    <tr>\n",
              "      <th>50%</th>\n",
              "      <td>3.000000</td>\n",
              "      <td>117.000000</td>\n",
              "      <td>72.000000</td>\n",
              "      <td>23.000000</td>\n",
              "      <td>30.500000</td>\n",
              "      <td>32.000000</td>\n",
              "      <td>0.372500</td>\n",
              "      <td>29.000000</td>\n",
              "      <td>0.000000</td>\n",
              "    </tr>\n",
              "    <tr>\n",
              "      <th>75%</th>\n",
              "      <td>6.000000</td>\n",
              "      <td>140.250000</td>\n",
              "      <td>80.000000</td>\n",
              "      <td>32.000000</td>\n",
              "      <td>127.250000</td>\n",
              "      <td>36.600000</td>\n",
              "      <td>0.626250</td>\n",
              "      <td>41.000000</td>\n",
              "      <td>1.000000</td>\n",
              "    </tr>\n",
              "    <tr>\n",
              "      <th>max</th>\n",
              "      <td>17.000000</td>\n",
              "      <td>199.000000</td>\n",
              "      <td>122.000000</td>\n",
              "      <td>99.000000</td>\n",
              "      <td>846.000000</td>\n",
              "      <td>67.100000</td>\n",
              "      <td>2.420000</td>\n",
              "      <td>81.000000</td>\n",
              "      <td>1.000000</td>\n",
              "    </tr>\n",
              "  </tbody>\n",
              "</table>\n",
              "</div>\n",
              "      <button class=\"colab-df-convert\" onclick=\"convertToInteractive('df-ebb37027-ee43-459b-a5c8-840948133d31')\"\n",
              "              title=\"Convert this dataframe to an interactive table.\"\n",
              "              style=\"display:none;\">\n",
              "        \n",
              "  <svg xmlns=\"http://www.w3.org/2000/svg\" height=\"24px\"viewBox=\"0 0 24 24\"\n",
              "       width=\"24px\">\n",
              "    <path d=\"M0 0h24v24H0V0z\" fill=\"none\"/>\n",
              "    <path d=\"M18.56 5.44l.94 2.06.94-2.06 2.06-.94-2.06-.94-.94-2.06-.94 2.06-2.06.94zm-11 1L8.5 8.5l.94-2.06 2.06-.94-2.06-.94L8.5 2.5l-.94 2.06-2.06.94zm10 10l.94 2.06.94-2.06 2.06-.94-2.06-.94-.94-2.06-.94 2.06-2.06.94z\"/><path d=\"M17.41 7.96l-1.37-1.37c-.4-.4-.92-.59-1.43-.59-.52 0-1.04.2-1.43.59L10.3 9.45l-7.72 7.72c-.78.78-.78 2.05 0 2.83L4 21.41c.39.39.9.59 1.41.59.51 0 1.02-.2 1.41-.59l7.78-7.78 2.81-2.81c.8-.78.8-2.07 0-2.86zM5.41 20L4 18.59l7.72-7.72 1.47 1.35L5.41 20z\"/>\n",
              "  </svg>\n",
              "      </button>\n",
              "      \n",
              "  <style>\n",
              "    .colab-df-container {\n",
              "      display:flex;\n",
              "      flex-wrap:wrap;\n",
              "      gap: 12px;\n",
              "    }\n",
              "\n",
              "    .colab-df-convert {\n",
              "      background-color: #E8F0FE;\n",
              "      border: none;\n",
              "      border-radius: 50%;\n",
              "      cursor: pointer;\n",
              "      display: none;\n",
              "      fill: #1967D2;\n",
              "      height: 32px;\n",
              "      padding: 0 0 0 0;\n",
              "      width: 32px;\n",
              "    }\n",
              "\n",
              "    .colab-df-convert:hover {\n",
              "      background-color: #E2EBFA;\n",
              "      box-shadow: 0px 1px 2px rgba(60, 64, 67, 0.3), 0px 1px 3px 1px rgba(60, 64, 67, 0.15);\n",
              "      fill: #174EA6;\n",
              "    }\n",
              "\n",
              "    [theme=dark] .colab-df-convert {\n",
              "      background-color: #3B4455;\n",
              "      fill: #D2E3FC;\n",
              "    }\n",
              "\n",
              "    [theme=dark] .colab-df-convert:hover {\n",
              "      background-color: #434B5C;\n",
              "      box-shadow: 0px 1px 3px 1px rgba(0, 0, 0, 0.15);\n",
              "      filter: drop-shadow(0px 1px 2px rgba(0, 0, 0, 0.3));\n",
              "      fill: #FFFFFF;\n",
              "    }\n",
              "  </style>\n",
              "\n",
              "      <script>\n",
              "        const buttonEl =\n",
              "          document.querySelector('#df-ebb37027-ee43-459b-a5c8-840948133d31 button.colab-df-convert');\n",
              "        buttonEl.style.display =\n",
              "          google.colab.kernel.accessAllowed ? 'block' : 'none';\n",
              "\n",
              "        async function convertToInteractive(key) {\n",
              "          const element = document.querySelector('#df-ebb37027-ee43-459b-a5c8-840948133d31');\n",
              "          const dataTable =\n",
              "            await google.colab.kernel.invokeFunction('convertToInteractive',\n",
              "                                                     [key], {});\n",
              "          if (!dataTable) return;\n",
              "\n",
              "          const docLinkHtml = 'Like what you see? Visit the ' +\n",
              "            '<a target=\"_blank\" href=https://colab.research.google.com/notebooks/data_table.ipynb>data table notebook</a>'\n",
              "            + ' to learn more about interactive tables.';\n",
              "          element.innerHTML = '';\n",
              "          dataTable['output_type'] = 'display_data';\n",
              "          await google.colab.output.renderOutput(dataTable, element);\n",
              "          const docLink = document.createElement('div');\n",
              "          docLink.innerHTML = docLinkHtml;\n",
              "          element.appendChild(docLink);\n",
              "        }\n",
              "      </script>\n",
              "    </div>\n",
              "  </div>\n",
              "  "
            ],
            "text/plain": [
              "       Pregnancies     Glucose  ...         Age     Outcome\n",
              "count   768.000000  768.000000  ...  768.000000  768.000000\n",
              "mean      3.845052  120.894531  ...   33.240885    0.348958\n",
              "std       3.369578   31.972618  ...   11.760232    0.476951\n",
              "min       0.000000    0.000000  ...   21.000000    0.000000\n",
              "25%       1.000000   99.000000  ...   24.000000    0.000000\n",
              "50%       3.000000  117.000000  ...   29.000000    0.000000\n",
              "75%       6.000000  140.250000  ...   41.000000    1.000000\n",
              "max      17.000000  199.000000  ...   81.000000    1.000000\n",
              "\n",
              "[8 rows x 9 columns]"
            ]
          },
          "metadata": {},
          "execution_count": 68
        }
      ]
    },
    {
      "cell_type": "markdown",
      "source": [
        "Question 4: write a function that scale your features.\n",
        "`Hint:` $x'= \\dfrac{x-\\mu}{\\sigma}$ \n",
        "where $\\mu$ is the mean and $\\sigma$ the standard deviation of $x$."
      ],
      "metadata": {
        "id": "XLhl5xo2XpTi"
      }
    },
    {
      "cell_type": "code",
      "source": [
        "##### WRITE YOUR CODE HERE #####\n",
        "def scale(data_scaled):\n",
        "  mu=np.mean(data)\n",
        "  std=np.std(data)\n",
        "  data_scaled=(data-mu)/std\n",
        "  return data_scaled\n",
        "#### END CODE ####"
      ],
      "metadata": {
        "id": "uHqEW65wXvNf"
      },
      "execution_count": 69,
      "outputs": []
    },
    {
      "cell_type": "code",
      "source": [
        "scale(data)"
      ],
      "metadata": {
        "colab": {
          "base_uri": "https://localhost:8080/",
          "height": 419
        },
        "id": "1uPQf_j6HDhC",
        "outputId": "20b93fbb-dfb4-4a24-e649-a0f47d70755a"
      },
      "execution_count": 70,
      "outputs": [
        {
          "output_type": "execute_result",
          "data": {
            "text/html": [
              "\n",
              "  <div id=\"df-f45bf511-5249-41b8-b6ea-6acc3c1b88ab\">\n",
              "    <div class=\"colab-df-container\">\n",
              "      <div>\n",
              "<style scoped>\n",
              "    .dataframe tbody tr th:only-of-type {\n",
              "        vertical-align: middle;\n",
              "    }\n",
              "\n",
              "    .dataframe tbody tr th {\n",
              "        vertical-align: top;\n",
              "    }\n",
              "\n",
              "    .dataframe thead th {\n",
              "        text-align: right;\n",
              "    }\n",
              "</style>\n",
              "<table border=\"1\" class=\"dataframe\">\n",
              "  <thead>\n",
              "    <tr style=\"text-align: right;\">\n",
              "      <th></th>\n",
              "      <th>Pregnancies</th>\n",
              "      <th>Glucose</th>\n",
              "      <th>BloodPressure</th>\n",
              "      <th>SkinThickness</th>\n",
              "      <th>Insulin</th>\n",
              "      <th>BMI</th>\n",
              "      <th>DiabetesPedigreeFunction</th>\n",
              "      <th>Age</th>\n",
              "      <th>Outcome</th>\n",
              "    </tr>\n",
              "  </thead>\n",
              "  <tbody>\n",
              "    <tr>\n",
              "      <th>0</th>\n",
              "      <td>0.639947</td>\n",
              "      <td>0.848324</td>\n",
              "      <td>0.149641</td>\n",
              "      <td>0.907270</td>\n",
              "      <td>-0.692891</td>\n",
              "      <td>0.204013</td>\n",
              "      <td>0.468492</td>\n",
              "      <td>1.425995</td>\n",
              "      <td>1.365896</td>\n",
              "    </tr>\n",
              "    <tr>\n",
              "      <th>1</th>\n",
              "      <td>-0.844885</td>\n",
              "      <td>-1.123396</td>\n",
              "      <td>-0.160546</td>\n",
              "      <td>0.530902</td>\n",
              "      <td>-0.692891</td>\n",
              "      <td>-0.684422</td>\n",
              "      <td>-0.365061</td>\n",
              "      <td>-0.190672</td>\n",
              "      <td>-0.732120</td>\n",
              "    </tr>\n",
              "    <tr>\n",
              "      <th>2</th>\n",
              "      <td>1.233880</td>\n",
              "      <td>1.943724</td>\n",
              "      <td>-0.263941</td>\n",
              "      <td>-1.288212</td>\n",
              "      <td>-0.692891</td>\n",
              "      <td>-1.103255</td>\n",
              "      <td>0.604397</td>\n",
              "      <td>-0.105584</td>\n",
              "      <td>1.365896</td>\n",
              "    </tr>\n",
              "    <tr>\n",
              "      <th>3</th>\n",
              "      <td>-0.844885</td>\n",
              "      <td>-0.998208</td>\n",
              "      <td>-0.160546</td>\n",
              "      <td>0.154533</td>\n",
              "      <td>0.123302</td>\n",
              "      <td>-0.494043</td>\n",
              "      <td>-0.920763</td>\n",
              "      <td>-1.041549</td>\n",
              "      <td>-0.732120</td>\n",
              "    </tr>\n",
              "    <tr>\n",
              "      <th>4</th>\n",
              "      <td>-1.141852</td>\n",
              "      <td>0.504055</td>\n",
              "      <td>-1.504687</td>\n",
              "      <td>0.907270</td>\n",
              "      <td>0.765836</td>\n",
              "      <td>1.409746</td>\n",
              "      <td>5.484909</td>\n",
              "      <td>-0.020496</td>\n",
              "      <td>1.365896</td>\n",
              "    </tr>\n",
              "    <tr>\n",
              "      <th>...</th>\n",
              "      <td>...</td>\n",
              "      <td>...</td>\n",
              "      <td>...</td>\n",
              "      <td>...</td>\n",
              "      <td>...</td>\n",
              "      <td>...</td>\n",
              "      <td>...</td>\n",
              "      <td>...</td>\n",
              "      <td>...</td>\n",
              "    </tr>\n",
              "    <tr>\n",
              "      <th>763</th>\n",
              "      <td>1.827813</td>\n",
              "      <td>-0.622642</td>\n",
              "      <td>0.356432</td>\n",
              "      <td>1.722735</td>\n",
              "      <td>0.870031</td>\n",
              "      <td>0.115169</td>\n",
              "      <td>-0.908682</td>\n",
              "      <td>2.532136</td>\n",
              "      <td>-0.732120</td>\n",
              "    </tr>\n",
              "    <tr>\n",
              "      <th>764</th>\n",
              "      <td>-0.547919</td>\n",
              "      <td>0.034598</td>\n",
              "      <td>0.046245</td>\n",
              "      <td>0.405445</td>\n",
              "      <td>-0.692891</td>\n",
              "      <td>0.610154</td>\n",
              "      <td>-0.398282</td>\n",
              "      <td>-0.531023</td>\n",
              "      <td>-0.732120</td>\n",
              "    </tr>\n",
              "    <tr>\n",
              "      <th>765</th>\n",
              "      <td>0.342981</td>\n",
              "      <td>0.003301</td>\n",
              "      <td>0.149641</td>\n",
              "      <td>0.154533</td>\n",
              "      <td>0.279594</td>\n",
              "      <td>-0.735190</td>\n",
              "      <td>-0.685193</td>\n",
              "      <td>-0.275760</td>\n",
              "      <td>-0.732120</td>\n",
              "    </tr>\n",
              "    <tr>\n",
              "      <th>766</th>\n",
              "      <td>-0.844885</td>\n",
              "      <td>0.159787</td>\n",
              "      <td>-0.470732</td>\n",
              "      <td>-1.288212</td>\n",
              "      <td>-0.692891</td>\n",
              "      <td>-0.240205</td>\n",
              "      <td>-0.371101</td>\n",
              "      <td>1.170732</td>\n",
              "      <td>1.365896</td>\n",
              "    </tr>\n",
              "    <tr>\n",
              "      <th>767</th>\n",
              "      <td>-0.844885</td>\n",
              "      <td>-0.873019</td>\n",
              "      <td>0.046245</td>\n",
              "      <td>0.656358</td>\n",
              "      <td>-0.692891</td>\n",
              "      <td>-0.202129</td>\n",
              "      <td>-0.473785</td>\n",
              "      <td>-0.871374</td>\n",
              "      <td>-0.732120</td>\n",
              "    </tr>\n",
              "  </tbody>\n",
              "</table>\n",
              "<p>768 rows × 9 columns</p>\n",
              "</div>\n",
              "      <button class=\"colab-df-convert\" onclick=\"convertToInteractive('df-f45bf511-5249-41b8-b6ea-6acc3c1b88ab')\"\n",
              "              title=\"Convert this dataframe to an interactive table.\"\n",
              "              style=\"display:none;\">\n",
              "        \n",
              "  <svg xmlns=\"http://www.w3.org/2000/svg\" height=\"24px\"viewBox=\"0 0 24 24\"\n",
              "       width=\"24px\">\n",
              "    <path d=\"M0 0h24v24H0V0z\" fill=\"none\"/>\n",
              "    <path d=\"M18.56 5.44l.94 2.06.94-2.06 2.06-.94-2.06-.94-.94-2.06-.94 2.06-2.06.94zm-11 1L8.5 8.5l.94-2.06 2.06-.94-2.06-.94L8.5 2.5l-.94 2.06-2.06.94zm10 10l.94 2.06.94-2.06 2.06-.94-2.06-.94-.94-2.06-.94 2.06-2.06.94z\"/><path d=\"M17.41 7.96l-1.37-1.37c-.4-.4-.92-.59-1.43-.59-.52 0-1.04.2-1.43.59L10.3 9.45l-7.72 7.72c-.78.78-.78 2.05 0 2.83L4 21.41c.39.39.9.59 1.41.59.51 0 1.02-.2 1.41-.59l7.78-7.78 2.81-2.81c.8-.78.8-2.07 0-2.86zM5.41 20L4 18.59l7.72-7.72 1.47 1.35L5.41 20z\"/>\n",
              "  </svg>\n",
              "      </button>\n",
              "      \n",
              "  <style>\n",
              "    .colab-df-container {\n",
              "      display:flex;\n",
              "      flex-wrap:wrap;\n",
              "      gap: 12px;\n",
              "    }\n",
              "\n",
              "    .colab-df-convert {\n",
              "      background-color: #E8F0FE;\n",
              "      border: none;\n",
              "      border-radius: 50%;\n",
              "      cursor: pointer;\n",
              "      display: none;\n",
              "      fill: #1967D2;\n",
              "      height: 32px;\n",
              "      padding: 0 0 0 0;\n",
              "      width: 32px;\n",
              "    }\n",
              "\n",
              "    .colab-df-convert:hover {\n",
              "      background-color: #E2EBFA;\n",
              "      box-shadow: 0px 1px 2px rgba(60, 64, 67, 0.3), 0px 1px 3px 1px rgba(60, 64, 67, 0.15);\n",
              "      fill: #174EA6;\n",
              "    }\n",
              "\n",
              "    [theme=dark] .colab-df-convert {\n",
              "      background-color: #3B4455;\n",
              "      fill: #D2E3FC;\n",
              "    }\n",
              "\n",
              "    [theme=dark] .colab-df-convert:hover {\n",
              "      background-color: #434B5C;\n",
              "      box-shadow: 0px 1px 3px 1px rgba(0, 0, 0, 0.15);\n",
              "      filter: drop-shadow(0px 1px 2px rgba(0, 0, 0, 0.3));\n",
              "      fill: #FFFFFF;\n",
              "    }\n",
              "  </style>\n",
              "\n",
              "      <script>\n",
              "        const buttonEl =\n",
              "          document.querySelector('#df-f45bf511-5249-41b8-b6ea-6acc3c1b88ab button.colab-df-convert');\n",
              "        buttonEl.style.display =\n",
              "          google.colab.kernel.accessAllowed ? 'block' : 'none';\n",
              "\n",
              "        async function convertToInteractive(key) {\n",
              "          const element = document.querySelector('#df-f45bf511-5249-41b8-b6ea-6acc3c1b88ab');\n",
              "          const dataTable =\n",
              "            await google.colab.kernel.invokeFunction('convertToInteractive',\n",
              "                                                     [key], {});\n",
              "          if (!dataTable) return;\n",
              "\n",
              "          const docLinkHtml = 'Like what you see? Visit the ' +\n",
              "            '<a target=\"_blank\" href=https://colab.research.google.com/notebooks/data_table.ipynb>data table notebook</a>'\n",
              "            + ' to learn more about interactive tables.';\n",
              "          element.innerHTML = '';\n",
              "          dataTable['output_type'] = 'display_data';\n",
              "          await google.colab.output.renderOutput(dataTable, element);\n",
              "          const docLink = document.createElement('div');\n",
              "          docLink.innerHTML = docLinkHtml;\n",
              "          element.appendChild(docLink);\n",
              "        }\n",
              "      </script>\n",
              "    </div>\n",
              "  </div>\n",
              "  "
            ],
            "text/plain": [
              "     Pregnancies   Glucose  ...       Age   Outcome\n",
              "0       0.639947  0.848324  ...  1.425995  1.365896\n",
              "1      -0.844885 -1.123396  ... -0.190672 -0.732120\n",
              "2       1.233880  1.943724  ... -0.105584  1.365896\n",
              "3      -0.844885 -0.998208  ... -1.041549 -0.732120\n",
              "4      -1.141852  0.504055  ... -0.020496  1.365896\n",
              "..           ...       ...  ...       ...       ...\n",
              "763     1.827813 -0.622642  ...  2.532136 -0.732120\n",
              "764    -0.547919  0.034598  ... -0.531023 -0.732120\n",
              "765     0.342981  0.003301  ... -0.275760 -0.732120\n",
              "766    -0.844885  0.159787  ...  1.170732  1.365896\n",
              "767    -0.844885 -0.873019  ... -0.871374 -0.732120\n",
              "\n",
              "[768 rows x 9 columns]"
            ]
          },
          "metadata": {},
          "execution_count": 70
        }
      ]
    },
    {
      "cell_type": "markdown",
      "source": [
        "Question 5: Scale your features, except the target. "
      ],
      "metadata": {
        "id": "xHrdxls1Xx-6"
      }
    },
    {
      "cell_type": "code",
      "source": [
        "##### WRITE YOUR CODE HERE #####\n",
        "data.iloc[:,:-1]=scale(data.iloc[:,:-1])\n",
        "data\n",
        "#### END CODE #### "
      ],
      "metadata": {
        "id": "dF2xJum5YAkM",
        "colab": {
          "base_uri": "https://localhost:8080/",
          "height": 419
        },
        "outputId": "d01e55f3-4b78-4ae7-f238-fa437cecd2cc"
      },
      "execution_count": 71,
      "outputs": [
        {
          "output_type": "execute_result",
          "data": {
            "text/html": [
              "\n",
              "  <div id=\"df-f6e97847-e1b6-4457-af16-7bdf0baf5db1\">\n",
              "    <div class=\"colab-df-container\">\n",
              "      <div>\n",
              "<style scoped>\n",
              "    .dataframe tbody tr th:only-of-type {\n",
              "        vertical-align: middle;\n",
              "    }\n",
              "\n",
              "    .dataframe tbody tr th {\n",
              "        vertical-align: top;\n",
              "    }\n",
              "\n",
              "    .dataframe thead th {\n",
              "        text-align: right;\n",
              "    }\n",
              "</style>\n",
              "<table border=\"1\" class=\"dataframe\">\n",
              "  <thead>\n",
              "    <tr style=\"text-align: right;\">\n",
              "      <th></th>\n",
              "      <th>Pregnancies</th>\n",
              "      <th>Glucose</th>\n",
              "      <th>BloodPressure</th>\n",
              "      <th>SkinThickness</th>\n",
              "      <th>Insulin</th>\n",
              "      <th>BMI</th>\n",
              "      <th>DiabetesPedigreeFunction</th>\n",
              "      <th>Age</th>\n",
              "      <th>Outcome</th>\n",
              "    </tr>\n",
              "  </thead>\n",
              "  <tbody>\n",
              "    <tr>\n",
              "      <th>0</th>\n",
              "      <td>0.639947</td>\n",
              "      <td>0.848324</td>\n",
              "      <td>0.149641</td>\n",
              "      <td>0.907270</td>\n",
              "      <td>-0.692891</td>\n",
              "      <td>0.204013</td>\n",
              "      <td>0.468492</td>\n",
              "      <td>1.425995</td>\n",
              "      <td>1</td>\n",
              "    </tr>\n",
              "    <tr>\n",
              "      <th>1</th>\n",
              "      <td>-0.844885</td>\n",
              "      <td>-1.123396</td>\n",
              "      <td>-0.160546</td>\n",
              "      <td>0.530902</td>\n",
              "      <td>-0.692891</td>\n",
              "      <td>-0.684422</td>\n",
              "      <td>-0.365061</td>\n",
              "      <td>-0.190672</td>\n",
              "      <td>0</td>\n",
              "    </tr>\n",
              "    <tr>\n",
              "      <th>2</th>\n",
              "      <td>1.233880</td>\n",
              "      <td>1.943724</td>\n",
              "      <td>-0.263941</td>\n",
              "      <td>-1.288212</td>\n",
              "      <td>-0.692891</td>\n",
              "      <td>-1.103255</td>\n",
              "      <td>0.604397</td>\n",
              "      <td>-0.105584</td>\n",
              "      <td>1</td>\n",
              "    </tr>\n",
              "    <tr>\n",
              "      <th>3</th>\n",
              "      <td>-0.844885</td>\n",
              "      <td>-0.998208</td>\n",
              "      <td>-0.160546</td>\n",
              "      <td>0.154533</td>\n",
              "      <td>0.123302</td>\n",
              "      <td>-0.494043</td>\n",
              "      <td>-0.920763</td>\n",
              "      <td>-1.041549</td>\n",
              "      <td>0</td>\n",
              "    </tr>\n",
              "    <tr>\n",
              "      <th>4</th>\n",
              "      <td>-1.141852</td>\n",
              "      <td>0.504055</td>\n",
              "      <td>-1.504687</td>\n",
              "      <td>0.907270</td>\n",
              "      <td>0.765836</td>\n",
              "      <td>1.409746</td>\n",
              "      <td>5.484909</td>\n",
              "      <td>-0.020496</td>\n",
              "      <td>1</td>\n",
              "    </tr>\n",
              "    <tr>\n",
              "      <th>...</th>\n",
              "      <td>...</td>\n",
              "      <td>...</td>\n",
              "      <td>...</td>\n",
              "      <td>...</td>\n",
              "      <td>...</td>\n",
              "      <td>...</td>\n",
              "      <td>...</td>\n",
              "      <td>...</td>\n",
              "      <td>...</td>\n",
              "    </tr>\n",
              "    <tr>\n",
              "      <th>763</th>\n",
              "      <td>1.827813</td>\n",
              "      <td>-0.622642</td>\n",
              "      <td>0.356432</td>\n",
              "      <td>1.722735</td>\n",
              "      <td>0.870031</td>\n",
              "      <td>0.115169</td>\n",
              "      <td>-0.908682</td>\n",
              "      <td>2.532136</td>\n",
              "      <td>0</td>\n",
              "    </tr>\n",
              "    <tr>\n",
              "      <th>764</th>\n",
              "      <td>-0.547919</td>\n",
              "      <td>0.034598</td>\n",
              "      <td>0.046245</td>\n",
              "      <td>0.405445</td>\n",
              "      <td>-0.692891</td>\n",
              "      <td>0.610154</td>\n",
              "      <td>-0.398282</td>\n",
              "      <td>-0.531023</td>\n",
              "      <td>0</td>\n",
              "    </tr>\n",
              "    <tr>\n",
              "      <th>765</th>\n",
              "      <td>0.342981</td>\n",
              "      <td>0.003301</td>\n",
              "      <td>0.149641</td>\n",
              "      <td>0.154533</td>\n",
              "      <td>0.279594</td>\n",
              "      <td>-0.735190</td>\n",
              "      <td>-0.685193</td>\n",
              "      <td>-0.275760</td>\n",
              "      <td>0</td>\n",
              "    </tr>\n",
              "    <tr>\n",
              "      <th>766</th>\n",
              "      <td>-0.844885</td>\n",
              "      <td>0.159787</td>\n",
              "      <td>-0.470732</td>\n",
              "      <td>-1.288212</td>\n",
              "      <td>-0.692891</td>\n",
              "      <td>-0.240205</td>\n",
              "      <td>-0.371101</td>\n",
              "      <td>1.170732</td>\n",
              "      <td>1</td>\n",
              "    </tr>\n",
              "    <tr>\n",
              "      <th>767</th>\n",
              "      <td>-0.844885</td>\n",
              "      <td>-0.873019</td>\n",
              "      <td>0.046245</td>\n",
              "      <td>0.656358</td>\n",
              "      <td>-0.692891</td>\n",
              "      <td>-0.202129</td>\n",
              "      <td>-0.473785</td>\n",
              "      <td>-0.871374</td>\n",
              "      <td>0</td>\n",
              "    </tr>\n",
              "  </tbody>\n",
              "</table>\n",
              "<p>768 rows × 9 columns</p>\n",
              "</div>\n",
              "      <button class=\"colab-df-convert\" onclick=\"convertToInteractive('df-f6e97847-e1b6-4457-af16-7bdf0baf5db1')\"\n",
              "              title=\"Convert this dataframe to an interactive table.\"\n",
              "              style=\"display:none;\">\n",
              "        \n",
              "  <svg xmlns=\"http://www.w3.org/2000/svg\" height=\"24px\"viewBox=\"0 0 24 24\"\n",
              "       width=\"24px\">\n",
              "    <path d=\"M0 0h24v24H0V0z\" fill=\"none\"/>\n",
              "    <path d=\"M18.56 5.44l.94 2.06.94-2.06 2.06-.94-2.06-.94-.94-2.06-.94 2.06-2.06.94zm-11 1L8.5 8.5l.94-2.06 2.06-.94-2.06-.94L8.5 2.5l-.94 2.06-2.06.94zm10 10l.94 2.06.94-2.06 2.06-.94-2.06-.94-.94-2.06-.94 2.06-2.06.94z\"/><path d=\"M17.41 7.96l-1.37-1.37c-.4-.4-.92-.59-1.43-.59-.52 0-1.04.2-1.43.59L10.3 9.45l-7.72 7.72c-.78.78-.78 2.05 0 2.83L4 21.41c.39.39.9.59 1.41.59.51 0 1.02-.2 1.41-.59l7.78-7.78 2.81-2.81c.8-.78.8-2.07 0-2.86zM5.41 20L4 18.59l7.72-7.72 1.47 1.35L5.41 20z\"/>\n",
              "  </svg>\n",
              "      </button>\n",
              "      \n",
              "  <style>\n",
              "    .colab-df-container {\n",
              "      display:flex;\n",
              "      flex-wrap:wrap;\n",
              "      gap: 12px;\n",
              "    }\n",
              "\n",
              "    .colab-df-convert {\n",
              "      background-color: #E8F0FE;\n",
              "      border: none;\n",
              "      border-radius: 50%;\n",
              "      cursor: pointer;\n",
              "      display: none;\n",
              "      fill: #1967D2;\n",
              "      height: 32px;\n",
              "      padding: 0 0 0 0;\n",
              "      width: 32px;\n",
              "    }\n",
              "\n",
              "    .colab-df-convert:hover {\n",
              "      background-color: #E2EBFA;\n",
              "      box-shadow: 0px 1px 2px rgba(60, 64, 67, 0.3), 0px 1px 3px 1px rgba(60, 64, 67, 0.15);\n",
              "      fill: #174EA6;\n",
              "    }\n",
              "\n",
              "    [theme=dark] .colab-df-convert {\n",
              "      background-color: #3B4455;\n",
              "      fill: #D2E3FC;\n",
              "    }\n",
              "\n",
              "    [theme=dark] .colab-df-convert:hover {\n",
              "      background-color: #434B5C;\n",
              "      box-shadow: 0px 1px 3px 1px rgba(0, 0, 0, 0.15);\n",
              "      filter: drop-shadow(0px 1px 2px rgba(0, 0, 0, 0.3));\n",
              "      fill: #FFFFFF;\n",
              "    }\n",
              "  </style>\n",
              "\n",
              "      <script>\n",
              "        const buttonEl =\n",
              "          document.querySelector('#df-f6e97847-e1b6-4457-af16-7bdf0baf5db1 button.colab-df-convert');\n",
              "        buttonEl.style.display =\n",
              "          google.colab.kernel.accessAllowed ? 'block' : 'none';\n",
              "\n",
              "        async function convertToInteractive(key) {\n",
              "          const element = document.querySelector('#df-f6e97847-e1b6-4457-af16-7bdf0baf5db1');\n",
              "          const dataTable =\n",
              "            await google.colab.kernel.invokeFunction('convertToInteractive',\n",
              "                                                     [key], {});\n",
              "          if (!dataTable) return;\n",
              "\n",
              "          const docLinkHtml = 'Like what you see? Visit the ' +\n",
              "            '<a target=\"_blank\" href=https://colab.research.google.com/notebooks/data_table.ipynb>data table notebook</a>'\n",
              "            + ' to learn more about interactive tables.';\n",
              "          element.innerHTML = '';\n",
              "          dataTable['output_type'] = 'display_data';\n",
              "          await google.colab.output.renderOutput(dataTable, element);\n",
              "          const docLink = document.createElement('div');\n",
              "          docLink.innerHTML = docLinkHtml;\n",
              "          element.appendChild(docLink);\n",
              "        }\n",
              "      </script>\n",
              "    </div>\n",
              "  </div>\n",
              "  "
            ],
            "text/plain": [
              "     Pregnancies   Glucose  ...       Age  Outcome\n",
              "0       0.639947  0.848324  ...  1.425995        1\n",
              "1      -0.844885 -1.123396  ... -0.190672        0\n",
              "2       1.233880  1.943724  ... -0.105584        1\n",
              "3      -0.844885 -0.998208  ... -1.041549        0\n",
              "4      -1.141852  0.504055  ... -0.020496        1\n",
              "..           ...       ...  ...       ...      ...\n",
              "763     1.827813 -0.622642  ...  2.532136        0\n",
              "764    -0.547919  0.034598  ... -0.531023        0\n",
              "765     0.342981  0.003301  ... -0.275760        0\n",
              "766    -0.844885  0.159787  ...  1.170732        1\n",
              "767    -0.844885 -0.873019  ... -0.871374        0\n",
              "\n",
              "[768 rows x 9 columns]"
            ]
          },
          "metadata": {},
          "execution_count": 71
        }
      ]
    },
    {
      "cell_type": "markdown",
      "source": [
        "Question 6: Write a function that split your (x,y) to (x_train, y_train) and (x_test, y_test).\n",
        "`Note:` This function must return an arrays."
      ],
      "metadata": {
        "id": "EaLTFVDPeeQp"
      }
    },
    {
      "cell_type": "code",
      "source": [
        "##### WRITE YOUR CODE HERE #####\n",
        "def split_data(df, train_percent= 0.8):\n",
        "  np.random.seed(2)\n",
        "  perm = np.random.permutation(df.index)\n",
        "\n",
        "  n= len(df)\n",
        "  train_index = int(train_percent * n)\n",
        "\n",
        "  train = df.iloc[perm[:train_index]]\n",
        "  test = df.iloc[perm[train_index:]]\n",
        "\n",
        "  x_train, x_test, y_train, y_test= train.iloc[:, :-1], test.iloc[:, :-1], train.iloc[:, -1], test.iloc[:, -1]\n",
        "  return x_train.values, x_test.values, y_train.values, y_test.values\n",
        "#### END CODE ####"
      ],
      "metadata": {
        "id": "4qE0hOeia1Xx"
      },
      "execution_count": 72,
      "outputs": []
    },
    {
      "cell_type": "code",
      "source": [
        "x_train, x_test, y_train, y_test= split_data(data) \n",
        "x_train.shape, y_train.shape, x_test.shape, y_test.shape"
      ],
      "metadata": {
        "id": "gApO25M7b4_0",
        "colab": {
          "base_uri": "https://localhost:8080/"
        },
        "outputId": "672d0f87-ebfd-4a49-ab91-2345de5f763e"
      },
      "execution_count": 73,
      "outputs": [
        {
          "output_type": "execute_result",
          "data": {
            "text/plain": [
              "((614, 8), (614,), (154, 8), (154,))"
            ]
          },
          "metadata": {},
          "execution_count": 73
        }
      ]
    },
    {
      "cell_type": "markdown",
      "source": [
        "# Part 2: Logistic Regression without Regularization.\n",
        "\n",
        "## Recaps:\n",
        "1. Logistic/sigmoid function of $z$:\n",
        "\\begin{equation}\n",
        "g(z)= \\dfrac{1}{1+ exp(-z)}\n",
        "\\end{equation}\n",
        "where $z= x^t \\theta$ and $x, y \\in \\mathbb{R}^d$.\n",
        "2. Derivative of Logistic/sigmoid function with respective to $z$:\n",
        "\\begin{equation}\n",
        "dg(z)= g(z)(1-g(z))\n",
        "\\end{equation}\n",
        "3. Cross-entropy loss:\n",
        "\\begin{equation}\n",
        "l(\\theta)= -\\sum_{i= 1}^{N} \\left(y_{true} \\times \\log y_{pred} + (1-y_{true}) \\times \\log (1-y_{pred}) \\right)\n",
        "\\end{equation}\n",
        "where $y_{true}= g(z)$, $z= x^t \\theta$ and $y_{true}$ is the ground-truth for a given $x$.\n",
        "\n",
        "4. Derivative of Cross-entropy loss with respective to $\\theta$:\n",
        "\\begin{equation}\n",
        "dl(\\theta)= -\\sum_{i= 1}^{N} x^t\\left(y_{true} -y_{ped} \\right)\n",
        "\\end{equation}\n",
        "5. Apply Batch gradient descent to update $\\theta$.\n",
        "\n",
        "Question: Create a class called LogReg. See the description in the below cells.\n"
      ],
      "metadata": {
        "id": "-iHA8LO0dq05"
      }
    },
    {
      "cell_type": "code",
      "source": [
        "from matplotlib import axis\n",
        "class logistic_regression:\n",
        "  def __init__(self, x_test, y_test, num_iters= 100, threshold= 0.5, tolerance= 1e-10, lr= 0.00001):\n",
        "    ##### WRITE YOUR CODE HERE #####\n",
        "    self.num_iters=num_iters\n",
        "    self.threshold=threshold\n",
        "    self.tolerance=tolerance\n",
        "    self.lr=lr\n",
        "    self.theta=None\n",
        "    self.cost_history=[]\n",
        "    self.cost_history_test=[]\n",
        "    self.x_test=x_test\n",
        "    self.y_test=y_test\n",
        "    #### END CODE ####\n",
        "\n",
        "  def add_ones(self, x):\n",
        "    ##### WRITE YOUR CODE HERE #####\n",
        "    # x_new=np.ones((len(x),1))\n",
        "    # x_new=np.c_[np.ones((x.shape[0])),x]\n",
        "    x_new=np.hstack([np.ones((x.shape[0],1)),x])\n",
        "    # x_new = np.concatenate((np.ones((len(x),1)) , x ), axis = 1)\n",
        "    return x_new\n",
        "    #### END CODE ####\n",
        "\n",
        "  def sigmoid(self, x, theta):\n",
        "    ##### WRITE YOUR CODE HERE #####\n",
        "    z=x@theta\n",
        "    return 1/(1+np.exp(-z)) \n",
        "    #### END CODE ####\n",
        "\n",
        "  def cross_entropy(self, x, y_true):\n",
        "    ##### WRITE YOUR CODE HERE #####\n",
        "    n = len(x) # Length of x\n",
        "    y_pred = self.sigmoid(x,self.theta)\n",
        "    Cost = -np.sum(y_true*np.log(y_pred)+(1-y_true)*np.log(1-y_pred))/n\n",
        "        \n",
        "    return Cost\n",
        "    #### END CODE ####\n",
        "\n",
        "  def fit(self, x,y):\n",
        "    ##### WRITE YOUR CODE HERE #####\n",
        "    x=self.add_ones(x)# Add ones to x\n",
        "    y= y.reshape(-1,1) # reshape y. This is optional, do it if needed\n",
        "    self.x_test=self.add_ones(self.x_test)\n",
        "    self.y_test=self.y_test.reshape(-1,1)\n",
        "    self.theta= np.zeros((x.shape[1],1)) # Initialize theta to zeros vector >>> (x.shape[1])\n",
        "    current_iter= 1\n",
        "    norm= 1\n",
        "    \n",
        "    while (norm >= self.tolerance and current_iter < self.num_iters):\n",
        "      theta_old = self.theta.copy() # Get old theta`\n",
        "\n",
        "      # make predictions\n",
        "      y_pred= self.sigmoid(x, self.theta) # using sigmoid function \n",
        "      # Gradient of cross-entropy\n",
        "      grad= -x.T@(y-y_pred)\n",
        "      grad= grad.reshape(-1,1) # Reshape, if it is needed\n",
        "\n",
        "      # update rules\n",
        "      self.theta= self.theta-self.lr*grad\n",
        "      # Compute the training loss\n",
        "      self.cost_history.append(self.cross_entropy(x, y))\n",
        "      self.cost_history_test.append(self.cross_entropy(self.x_test, self.y_test))\n",
        "\n",
        "      # Convergence criteria:\n",
        "      if current_iter % 100 == 0:\n",
        "        print(f'cost for {current_iter} iteration : {self.cross_entropy(x, y)}')\n",
        "      norm = np.linalg.norm(theta_old - self.theta)\n",
        "      current_iter += 1\n",
        "    #### END CODE ####\n",
        "  \n",
        "  def predict(self, x):\n",
        "    proba=self.predict_proba(x) # Get probability of x\n",
        "    result= [1 if (k >=self.threshold)  else 0 for k in proba] # Convert proba to 0 or 1. hint: list comprehension\n",
        "    return result\n",
        "    \n",
        "  def predict_proba(self, x):\n",
        "    x=self.add_ones(x) # Apply add ones to x\n",
        "    y_pred_prob= self.sigmoid(x, self.theta)# Predict proba with sigmoid\n",
        "    return y_pred_prob\n",
        "  \n",
        "  def plot(self):\n",
        "    ##### WRITE YOUR CODE HERE #####\n",
        "    # plt.xlabel('Epoch')\n",
        "    # plt.ylabel('Cost')\n",
        "    # plt.plot(np.arange(len(self.cost_history)), self.cost_history, 'r', label='Train loss')\n",
        "    # plt.plot(np.arange(len(self.cost_history_test)), self.cost_history_test, 'b', label='Test loss')\n",
        "    plt.plot(np.arange(len(self.cost_history)),self.cost_history, label='Train loss', color='r')\n",
        "    plt.plot(np.arange(len(self.cost_history_test)),self.cost_history_test, label='Test loss', color='b')\n",
        "    plt.legend()\n",
        "    plt.show()\n",
        "    #### END CODE ####"
      ],
      "metadata": {
        "id": "fcwOt19ygOVu"
      },
      "execution_count": 74,
      "outputs": []
    },
    {
      "cell_type": "code",
      "source": [
        "# Create a model by instanciating the class logistic_regression\n",
        "model = logistic_regression(x_test, y_test,num_iters=10000)"
      ],
      "metadata": {
        "id": "PyAKBcDvgOYg"
      },
      "execution_count": 75,
      "outputs": []
    },
    {
      "cell_type": "code",
      "source": [
        "# %%time\n",
        "model.fit(x_train, y_train)"
      ],
      "metadata": {
        "colab": {
          "base_uri": "https://localhost:8080/"
        },
        "id": "NdezNg1egOb9",
        "outputId": "377d6d3b-465d-45b2-b7f6-32f95d7dc1e4"
      },
      "execution_count": 76,
      "outputs": [
        {
          "output_type": "stream",
          "name": "stdout",
          "text": [
            "cost for 100 iteration : 0.6361937545081015\n",
            "cost for 200 iteration : 0.5987906607943532\n",
            "cost for 300 iteration : 0.5730690324377251\n",
            "cost for 400 iteration : 0.5546046708720571\n",
            "cost for 500 iteration : 0.54086589635088\n",
            "cost for 600 iteration : 0.5303427167700747\n",
            "cost for 700 iteration : 0.5220927387171681\n",
            "cost for 800 iteration : 0.5155022467431675\n",
            "cost for 900 iteration : 0.510156146914654\n",
            "cost for 1000 iteration : 0.5057642731225686\n",
            "cost for 1100 iteration : 0.5021179365422827\n",
            "cost for 1200 iteration : 0.49906333436891454\n",
            "cost for 1300 iteration : 0.49648471097216107\n",
            "cost for 1400 iteration : 0.4942933591386856\n",
            "cost for 1500 iteration : 0.4924202321546067\n",
            "cost for 1600 iteration : 0.4908108549079812\n",
            "cost for 1700 iteration : 0.4894217386345165\n",
            "cost for 1800 iteration : 0.4882178035304924\n",
            "cost for 1900 iteration : 0.48717049219831987\n",
            "cost for 2000 iteration : 0.48625636634166375\n",
            "cost for 2100 iteration : 0.4854560477947473\n",
            "cost for 2200 iteration : 0.48475340903599096\n",
            "cost for 2300 iteration : 0.48413494721580286\n",
            "cost for 2400 iteration : 0.4835892950303805\n",
            "cost for 2500 iteration : 0.48310683491147816\n",
            "cost for 2600 iteration : 0.4826793920972465\n",
            "cost for 2700 iteration : 0.4822999885449949\n",
            "cost for 2800 iteration : 0.48196264420978674\n",
            "cost for 2900 iteration : 0.48166221551206956\n",
            "cost for 3000 iteration : 0.4813942632325627\n",
            "cost for 3100 iteration : 0.48115494386051677\n",
            "cost for 3200 iteration : 0.48094091975892117\n",
            "cost for 3300 iteration : 0.4807492845204017\n",
            "cost for 3400 iteration : 0.480577500657304\n",
            "cost for 3500 iteration : 0.480423347360833\n",
            "cost for 3600 iteration : 0.4802848765219128\n",
            "cost for 3700 iteration : 0.48016037556332963\n",
            "cost for 3800 iteration : 0.4800483359127823\n",
            "cost for 3900 iteration : 0.4799474261676117\n",
            "cost for 4000 iteration : 0.47985646917758457\n",
            "cost for 4100 iteration : 0.4797744224123331\n",
            "cost for 4200 iteration : 0.4797003610925924\n",
            "cost for 4300 iteration : 0.4796334636551313\n",
            "cost for 4400 iteration : 0.47957299919481233\n",
            "cost for 4500 iteration : 0.47951831658705274\n",
            "cost for 4600 iteration : 0.47946883504285787\n",
            "cost for 4700 iteration : 0.47942403588872495\n",
            "cost for 4800 iteration : 0.479383455396753\n",
            "cost for 4900 iteration : 0.4793466785176161\n",
            "cost for 5000 iteration : 0.47931333339171844\n",
            "cost for 5100 iteration : 0.479283086532713\n",
            "cost for 5200 iteration : 0.47925563859331904\n",
            "cost for 5300 iteration : 0.47923072063657796\n",
            "cost for 5400 iteration : 0.4792080908467724\n",
            "cost for 5500 iteration : 0.4791875316235877\n",
            "cost for 5600 iteration : 0.47916884701099416\n",
            "cost for 5700 iteration : 0.47915186041902535\n",
            "cost for 5800 iteration : 0.4791364126023225\n",
            "cost for 5900 iteration : 0.47912235986415963\n",
            "cost for 6000 iteration : 0.47910957245880814\n",
            "cost for 6100 iteration : 0.4790979331686459\n",
            "cost for 6200 iteration : 0.479087336035456\n",
            "cost for 6300 iteration : 0.47907768522798094\n",
            "cost for 6400 iteration : 0.47906889403004876\n",
            "cost for 6500 iteration : 0.4790608839355419\n",
            "cost for 6600 iteration : 0.47905358383815894\n",
            "cost for 6700 iteration : 0.479046929305388\n",
            "cost for 6800 iteration : 0.4790408619273758\n",
            "cost for 6900 iteration : 0.47903532873248555\n",
            "cost for 7000 iteration : 0.47903028166229866\n",
            "cost for 7100 iteration : 0.4790256770996585\n",
            "cost for 7200 iteration : 0.4790214754440924\n",
            "cost for 7300 iteration : 0.4790176407295888\n",
            "cost for 7400 iteration : 0.47901414028028155\n",
            "cost for 7500 iteration : 0.47901094440008024\n",
            "cost for 7600 iteration : 0.47900802609273585\n",
            "cost for 7700 iteration : 0.4790053608092062\n",
            "cost for 7800 iteration : 0.4790029262195355\n",
            "cost for 7900 iteration : 0.47900070200675726\n",
            "cost for 8000 iteration : 0.47899866968060095\n",
            "cost for 8100 iteration : 0.4789968124090159\n",
            "cost for 8200 iteration : 0.47899511486573787\n",
            "cost for 8300 iteration : 0.4789935630923083\n",
            "cost for 8400 iteration : 0.4789921443731208\n",
            "cost for 8500 iteration : 0.4789908471222203\n",
            "cost for 8600 iteration : 0.4789896607807055\n",
            "cost for 8700 iteration : 0.4789885757237097\n",
            "cost for 8800 iteration : 0.4789875831760309\n",
            "cost for 8900 iteration : 0.4789866751355819\n",
            "cost for 9000 iteration : 0.4789858443039125\n",
            "cost for 9100 iteration : 0.47898508402312745\n",
            "cost for 9200 iteration : 0.4789843882185964\n",
            "cost for 9300 iteration : 0.478983751346905\n",
            "cost for 9400 iteration : 0.4789831683485567\n",
            "cost for 9500 iteration : 0.47898263460497803\n",
            "cost for 9600 iteration : 0.47898214589942484\n",
            "cost for 9700 iteration : 0.4789816983814272\n",
            "cost for 9800 iteration : 0.478981288534444\n",
            "cost for 9900 iteration : 0.47898091314643126\n"
          ]
        }
      ]
    },
    {
      "cell_type": "code",
      "source": [
        "pred= model.predict(x_test)"
      ],
      "metadata": {
        "id": "OvI1XF0Wju9H"
      },
      "execution_count": 77,
      "outputs": []
    },
    {
      "cell_type": "code",
      "source": [
        "pred"
      ],
      "metadata": {
        "colab": {
          "base_uri": "https://localhost:8080/"
        },
        "id": "3izqcnB6Tm4R",
        "outputId": "e50b6c62-fe1b-4e14-8ae1-7700043f6782"
      },
      "execution_count": 78,
      "outputs": [
        {
          "output_type": "execute_result",
          "data": {
            "text/plain": [
              "[0,\n",
              " 0,\n",
              " 0,\n",
              " 0,\n",
              " 1,\n",
              " 1,\n",
              " 0,\n",
              " 0,\n",
              " 0,\n",
              " 0,\n",
              " 0,\n",
              " 0,\n",
              " 1,\n",
              " 0,\n",
              " 1,\n",
              " 0,\n",
              " 0,\n",
              " 0,\n",
              " 0,\n",
              " 0,\n",
              " 0,\n",
              " 0,\n",
              " 0,\n",
              " 0,\n",
              " 0,\n",
              " 1,\n",
              " 0,\n",
              " 0,\n",
              " 0,\n",
              " 0,\n",
              " 0,\n",
              " 1,\n",
              " 0,\n",
              " 0,\n",
              " 0,\n",
              " 0,\n",
              " 1,\n",
              " 0,\n",
              " 0,\n",
              " 1,\n",
              " 0,\n",
              " 0,\n",
              " 1,\n",
              " 1,\n",
              " 0,\n",
              " 0,\n",
              " 0,\n",
              " 1,\n",
              " 0,\n",
              " 0,\n",
              " 0,\n",
              " 1,\n",
              " 1,\n",
              " 0,\n",
              " 0,\n",
              " 0,\n",
              " 0,\n",
              " 1,\n",
              " 0,\n",
              " 1,\n",
              " 1,\n",
              " 0,\n",
              " 0,\n",
              " 0,\n",
              " 0,\n",
              " 0,\n",
              " 0,\n",
              " 0,\n",
              " 0,\n",
              " 1,\n",
              " 1,\n",
              " 1,\n",
              " 0,\n",
              " 0,\n",
              " 0,\n",
              " 0,\n",
              " 1,\n",
              " 1,\n",
              " 0,\n",
              " 1,\n",
              " 1,\n",
              " 0,\n",
              " 0,\n",
              " 0,\n",
              " 0,\n",
              " 1,\n",
              " 1,\n",
              " 0,\n",
              " 0,\n",
              " 0,\n",
              " 0,\n",
              " 0,\n",
              " 0,\n",
              " 0,\n",
              " 0,\n",
              " 0,\n",
              " 1,\n",
              " 0,\n",
              " 0,\n",
              " 1,\n",
              " 0,\n",
              " 1,\n",
              " 0,\n",
              " 0,\n",
              " 0,\n",
              " 1,\n",
              " 1,\n",
              " 1,\n",
              " 1,\n",
              " 0,\n",
              " 1,\n",
              " 0,\n",
              " 0,\n",
              " 0,\n",
              " 1,\n",
              " 0,\n",
              " 1,\n",
              " 0,\n",
              " 0,\n",
              " 0,\n",
              " 1,\n",
              " 1,\n",
              " 0,\n",
              " 1,\n",
              " 0,\n",
              " 0,\n",
              " 1,\n",
              " 0,\n",
              " 1,\n",
              " 0,\n",
              " 0,\n",
              " 1,\n",
              " 0,\n",
              " 0,\n",
              " 0,\n",
              " 1,\n",
              " 0,\n",
              " 0,\n",
              " 0,\n",
              " 0,\n",
              " 0,\n",
              " 0,\n",
              " 0,\n",
              " 0,\n",
              " 1,\n",
              " 1,\n",
              " 0,\n",
              " 0,\n",
              " 0,\n",
              " 0,\n",
              " 0,\n",
              " 0,\n",
              " 0,\n",
              " 0]"
            ]
          },
          "metadata": {},
          "execution_count": 78
        }
      ]
    },
    {
      "cell_type": "code",
      "source": [
        "# Predict Proba\n",
        "print(model.predict_proba(x_test))"
      ],
      "metadata": {
        "id": "8PozH_SWVTI5",
        "colab": {
          "base_uri": "https://localhost:8080/"
        },
        "outputId": "33661e9f-6756-463a-8da9-214538b8fe87"
      },
      "execution_count": 79,
      "outputs": [
        {
          "output_type": "stream",
          "name": "stdout",
          "text": [
            "[[0.0621027 ]\n",
            " [0.14364075]\n",
            " [0.16770029]\n",
            " [0.05649998]\n",
            " [0.68656307]\n",
            " [0.59077239]\n",
            " [0.24011922]\n",
            " [0.24245529]\n",
            " [0.03851676]\n",
            " [0.18856335]\n",
            " [0.04468985]\n",
            " [0.30989675]\n",
            " [0.6543891 ]\n",
            " [0.01782879]\n",
            " [0.64128438]\n",
            " [0.05287078]\n",
            " [0.37171023]\n",
            " [0.49402766]\n",
            " [0.341567  ]\n",
            " [0.07367515]\n",
            " [0.27098316]\n",
            " [0.47521352]\n",
            " [0.43470765]\n",
            " [0.19201003]\n",
            " [0.25107223]\n",
            " [0.80400819]\n",
            " [0.11154124]\n",
            " [0.42469167]\n",
            " [0.41338548]\n",
            " [0.20698992]\n",
            " [0.03079193]\n",
            " [0.92110075]\n",
            " [0.07050737]\n",
            " [0.40547424]\n",
            " [0.07062423]\n",
            " [0.46365743]\n",
            " [0.72786897]\n",
            " [0.44583131]\n",
            " [0.11584159]\n",
            " [0.9547328 ]\n",
            " [0.09357638]\n",
            " [0.26586146]\n",
            " [0.83754169]\n",
            " [0.91433131]\n",
            " [0.2087228 ]\n",
            " [0.07891804]\n",
            " [0.23721354]\n",
            " [0.71758088]\n",
            " [0.4111789 ]\n",
            " [0.35725047]\n",
            " [0.25488846]\n",
            " [0.67704974]\n",
            " [0.73545972]\n",
            " [0.02285975]\n",
            " [0.42272291]\n",
            " [0.18641832]\n",
            " [0.30398741]\n",
            " [0.77636051]\n",
            " [0.14298036]\n",
            " [0.91329833]\n",
            " [0.94938528]\n",
            " [0.38777932]\n",
            " [0.12882725]\n",
            " [0.06987208]\n",
            " [0.1692367 ]\n",
            " [0.0835011 ]\n",
            " [0.06106942]\n",
            " [0.0546371 ]\n",
            " [0.38977273]\n",
            " [0.54234849]\n",
            " [0.59467355]\n",
            " [0.50716296]\n",
            " [0.00570841]\n",
            " [0.01645693]\n",
            " [0.17878493]\n",
            " [0.08759519]\n",
            " [0.9268438 ]\n",
            " [0.84609549]\n",
            " [0.23778358]\n",
            " [0.80722504]\n",
            " [0.50709403]\n",
            " [0.0741758 ]\n",
            " [0.03809355]\n",
            " [0.4085546 ]\n",
            " [0.26873667]\n",
            " [0.8278623 ]\n",
            " [0.78364804]\n",
            " [0.26758054]\n",
            " [0.17829645]\n",
            " [0.08746538]\n",
            " [0.05282821]\n",
            " [0.07718652]\n",
            " [0.15334431]\n",
            " [0.25063395]\n",
            " [0.10969617]\n",
            " [0.04808665]\n",
            " [0.85055762]\n",
            " [0.39159604]\n",
            " [0.07686231]\n",
            " [0.71958201]\n",
            " [0.07046634]\n",
            " [0.66710809]\n",
            " [0.15559557]\n",
            " [0.10557564]\n",
            " [0.42000653]\n",
            " [0.84670523]\n",
            " [0.71723448]\n",
            " [0.7723758 ]\n",
            " [0.61903369]\n",
            " [0.03480489]\n",
            " [0.75039174]\n",
            " [0.09421801]\n",
            " [0.44370644]\n",
            " [0.02395855]\n",
            " [0.50095717]\n",
            " [0.26633284]\n",
            " [0.55373483]\n",
            " [0.32050737]\n",
            " [0.21660882]\n",
            " [0.09904317]\n",
            " [0.74861831]\n",
            " [0.73533113]\n",
            " [0.21638922]\n",
            " [0.6824355 ]\n",
            " [0.21065927]\n",
            " [0.09383634]\n",
            " [0.79950784]\n",
            " [0.10423452]\n",
            " [0.82406348]\n",
            " [0.0852379 ]\n",
            " [0.06410868]\n",
            " [0.62875778]\n",
            " [0.05935201]\n",
            " [0.41692288]\n",
            " [0.14597937]\n",
            " [0.71454638]\n",
            " [0.2227649 ]\n",
            " [0.4345229 ]\n",
            " [0.04171043]\n",
            " [0.36126822]\n",
            " [0.10791412]\n",
            " [0.03488761]\n",
            " [0.20113876]\n",
            " [0.4244043 ]\n",
            " [0.54422814]\n",
            " [0.72882397]\n",
            " [0.00258385]\n",
            " [0.03399029]\n",
            " [0.34933701]\n",
            " [0.1332871 ]\n",
            " [0.25051613]\n",
            " [0.42086587]\n",
            " [0.09105183]\n",
            " [0.2334232 ]]\n"
          ]
        }
      ]
    },
    {
      "cell_type": "code",
      "source": [
        "model.plot()"
      ],
      "metadata": {
        "colab": {
          "base_uri": "https://localhost:8080/",
          "height": 266
        },
        "id": "iKjM9LqgLFxp",
        "outputId": "f9c79f6d-bacd-469f-df06-4cef612b3d7c"
      },
      "execution_count": 80,
      "outputs": [
        {
          "output_type": "display_data",
          "data": {
            "image/png": "[encoded data removed]",
            "text/plain": [
              "<Figure size 432x288 with 1 Axes>"
            ]
          },
          "metadata": {
            "needs_background": "light"
          }
        }
      ]
    },
    {
      "cell_type": "markdown",
      "source": [
        "## Push your works to Githup Repo\n",
        "\n",
        "Setps:\n",
        "1. Fork the repo: `https://github.com/AMMI-2022/test-live-coding`\n",
        "2. Clone in your colab;\n",
        "3. Push\n",
        "4. Make a pull request"
      ],
      "metadata": {
        "id": "7pyf_N6pOCK5"
      }
    },
    {
      "cell_type": "markdown",
      "source": [
        "Set your credential"
      ],
      "metadata": {
        "id": "2S-a49qmeUGp"
      }
    },
    {
      "cell_type": "code",
      "source": [
        "my_token= \"\"\n",
        "my_repository= \"\"\n",
        "username= \"\"\n",
        "useremail= \"\""
      ],
      "metadata": {
        "id": "ECo9DTv9PfNU"
      },
      "execution_count": 81,
      "outputs": []
    },
    {
      "cell_type": "markdown",
      "source": [
        "Clone the repo"
      ],
      "metadata": {
        "id": "pTUr6f9JeWiG"
      }
    },
    {
      "cell_type": "code",
      "source": [
        "! git clone https://github.com/{username}/{my_repository}.git"
      ],
      "metadata": {
        "id": "EQhDd_U_PfRm",
        "colab": {
          "base_uri": "https://localhost:8080/"
        },
        "outputId": "f9230e1f-34b2-4b86-a39b-5d19616e69de"
      },
      "execution_count": 82,
      "outputs": [
        {
          "output_type": "stream",
          "name": "stdout",
          "text": [
            "Cloning into 'github.com'...\n",
            "fatal: could not read Username for 'https://github.com': No such device or address\n"
          ]
        }
      ]
    },
    {
      "cell_type": "code",
      "source": [
        "! git remote -v"
      ],
      "metadata": {
        "id": "Uv69w1Bfe0i3",
        "colab": {
          "base_uri": "https://localhost:8080/"
        },
        "outputId": "5aa838ad-78a1-489f-f036-1357ca846c37"
      },
      "execution_count": 83,
      "outputs": [
        {
          "output_type": "stream",
          "name": "stdout",
          "text": [
            "fatal: not a git repository (or any of the parent directories): .git\n"
          ]
        }
      ]
    },
    {
      "cell_type": "markdown",
      "source": [
        "Copy data to test-live-coding folder"
      ],
      "metadata": {
        "id": "Kse_ZT1henjR"
      }
    },
    {
      "cell_type": "code",
      "source": [
        "!cp diabetes.csv /content/test-live-coding"
      ],
      "metadata": {
        "id": "AS207mQ3PfTp"
      },
      "execution_count": 84,
      "outputs": []
    },
    {
      "cell_type": "code",
      "source": [
        "%cd /content/test-live-coding"
      ],
      "metadata": {
        "id": "ua0-f8gFPfXu",
        "colab": {
          "base_uri": "https://localhost:8080/"
        },
        "outputId": "5cf7947d-cfaa-4fda-c973-167fe1c1c8be"
      },
      "execution_count": 85,
      "outputs": [
        {
          "output_type": "stream",
          "name": "stdout",
          "text": [
            "[Errno 20] Not a directory: '/content/test-live-coding'\n",
            "/content\n"
          ]
        }
      ]
    },
    {
      "cell_type": "code",
      "source": [
        "!git status"
      ],
      "metadata": {
        "id": "S0SNgpwZPfsk",
        "colab": {
          "base_uri": "https://localhost:8080/"
        },
        "outputId": "326d710b-6501-416d-8d94-8b4cecc93b37"
      },
      "execution_count": 86,
      "outputs": [
        {
          "output_type": "stream",
          "name": "stdout",
          "text": [
            "fatal: not a git repository (or any of the parent directories): .git\n"
          ]
        }
      ]
    },
    {
      "cell_type": "code",
      "source": [
        "!git config user.email useremail\n",
        "!git config user.name username"
      ],
      "metadata": {
        "id": "331HWnMJeuSN",
        "colab": {
          "base_uri": "https://localhost:8080/"
        },
        "outputId": "1fa012c7-bea3-4158-bbc6-7463ac976906"
      },
      "execution_count": 87,
      "outputs": [
        {
          "output_type": "stream",
          "name": "stdout",
          "text": [
            "fatal: not in a git directory\n",
            "fatal: not in a git directory\n"
          ]
        }
      ]
    },
    {
      "cell_type": "code",
      "source": [
        "!git add .\n",
        "!git commit -m \"Add my files\""
      ],
      "metadata": {
        "id": "XIkRAG99fUGf",
        "colab": {
          "base_uri": "https://localhost:8080/"
        },
        "outputId": "d15fc4bf-48c1-4294-f9da-b87976881c07"
      },
      "execution_count": 88,
      "outputs": [
        {
          "output_type": "stream",
          "name": "stdout",
          "text": [
            "fatal: not a git repository (or any of the parent directories): .git\n",
            "fatal: not a git repository (or any of the parent directories): .git\n"
          ]
        }
      ]
    },
    {
      "cell_type": "code",
      "source": [
        "!git status"
      ],
      "metadata": {
        "id": "kK8TdaCifXJ-",
        "colab": {
          "base_uri": "https://localhost:8080/"
        },
        "outputId": "44013619-ef6e-48ea-b5a7-5ba9f4a93d16"
      },
      "execution_count": 89,
      "outputs": [
        {
          "output_type": "stream",
          "name": "stdout",
          "text": [
            "fatal: not a git repository (or any of the parent directories): .git\n"
          ]
        }
      ]
    },
    {
      "cell_type": "code",
      "source": [
        "!git push -u origin master --force"
      ],
      "metadata": {
        "id": "gObs-0HjeuV8",
        "colab": {
          "base_uri": "https://localhost:8080/"
        },
        "outputId": "67d86157-82c1-4a4d-a183-1e2d19e58cac"
      },
      "execution_count": 90,
      "outputs": [
        {
          "output_type": "stream",
          "name": "stdout",
          "text": [
            "fatal: not a git repository (or any of the parent directories): .git\n"
          ]
        }
      ]
    },
    {
      "cell_type": "markdown",
      "source": [
        "# If you cannot push, use:"
      ],
      "metadata": {
        "id": "niOB3_vIe5n7"
      }
    },
    {
      "cell_type": "code",
      "source": [
        "!git remote rm origin"
      ],
      "metadata": {
        "id": "XCRZgbm8e_1f",
        "colab": {
          "base_uri": "https://localhost:8080/"
        },
        "outputId": "deb1053e-0c4d-4f52-c8b7-0c29faca344d"
      },
      "execution_count": 91,
      "outputs": [
        {
          "output_type": "stream",
          "name": "stdout",
          "text": [
            "fatal: not a git repository (or any of the parent directories): .git\n"
          ]
        }
      ]
    },
    {
      "cell_type": "code",
      "source": [
        "!git remote add origin https://{my_token}@github.com/{username}/{my_repository}.git\n",
        "!git remote -v"
      ],
      "metadata": {
        "id": "61psHyK3fCRM",
        "colab": {
          "base_uri": "https://localhost:8080/"
        },
        "outputId": "214f50cc-5ce6-450d-962a-a82dc9b69c2d"
      },
      "execution_count": 92,
      "outputs": [
        {
          "output_type": "stream",
          "name": "stdout",
          "text": [
            "fatal: not a git repository (or any of the parent directories): .git\n",
            "fatal: not a git repository (or any of the parent directories): .git\n"
          ]
        }
      ]
    },
    {
      "cell_type": "code",
      "source": [
        "!git push -u origin master --force"
      ],
      "metadata": {
        "id": "c0sQOc7ffCYP",
        "colab": {
          "base_uri": "https://localhost:8080/"
        },
        "outputId": "4910a6e9-3a4a-42d2-aed8-f591b3a60099"
      },
      "execution_count": 93,
      "outputs": [
        {
          "output_type": "stream",
          "name": "stdout",
          "text": [
            "fatal: not a git repository (or any of the parent directories): .git\n"
          ]
        }
      ]
    },
    {
      "cell_type": "markdown",
      "source": [
        "---\n",
        "\n",
        "\n",
        "\n",
        "---\n",
        "\n",
        "\n",
        "\n",
        "---"
      ],
      "metadata": {
        "id": "C0hWgk1XMjl-"
      }
    },
    {
      "cell_type": "markdown",
      "source": [
        "# Assignment\n",
        "\n",
        "Just follow the class logistic_regression, try to implement Logistic regression with `l1`, `l2` and `l1-l2`. That we call respectively `Lasso (least absolute shrinkage and selection operator)`, `Ridge` and `ElasticNet`.\n",
        "Given cross-entropy:\n",
        "\\begin{equation}\n",
        "  l(θ)= -\\sum_{i= 1}^{N} \\left(y_{true} \\times \\log y_{pred} + (1-y_{true}) \\times \\log (1-y_{pred}) \\right)\n",
        "\\end{equation}\n",
        "\n",
        "1. l1-regularization (LASSO):\n",
        "\n",
        "\\begin{equation}\n",
        "   l(θ) + λ\\| \\theta\\|_1\n",
        "\\end{equation}\n",
        "\n",
        "\n",
        "2. l2-regularization (Ridge):\n",
        "\\begin{equation}\n",
        "   l(θ)+ λ\\| \\theta\\|_2\n",
        "\\end{equation}\n",
        "\n",
        "3. l1-l2-regularization (ElasticNet):\n",
        "\\begin{equation}\n",
        "  l(θ) + λ_1\\| \\theta\\|_1 + λ_2\\| \\theta\\|_2\n",
        "\\end{equation}\n",
        "\n",
        "`Note: please use mini-batch as learning algorithm`"
      ],
      "metadata": {
        "id": "9WIvYaFRTEOo"
      }
    },
    {
      "cell_type": "code",
      "source": [
        "class logistic_regression_l1:\n",
        "  pass"
      ],
      "metadata": {
        "id": "oru7W5P6FNyh"
      },
      "execution_count": 94,
      "outputs": []
    },
    {
      "cell_type": "code",
      "source": [
        "class logistic_regression_l2:\n",
        "  pass"
      ],
      "metadata": {
        "id": "Q4MuLTNNT5qE"
      },
      "execution_count": 95,
      "outputs": []
    },
    {
      "cell_type": "code",
      "source": [
        "class logistic_regression_l1_l2:\n",
        "  pass"
      ],
      "metadata": {
        "id": "vnHpkvRIT71Z"
      },
      "execution_count": 96,
      "outputs": []
    },
    {
      "cell_type": "markdown",
      "source": [
        "# Concepts [Assignment]:\n",
        "1. Why there is no close form for cross-entropy loss?\n",
        "2. Why we need cross-entropy loss instead of mse?\n",
        "3. Why is logistic regression a type of classification technique and not a regression?"
      ],
      "metadata": {
        "id": "jqSi--hEpa9N"
      }
    },
    {
      "cell_type": "code",
      "source": [
        ""
      ],
      "metadata": {
        "id": "3IPn0NYZrUdP"
      },
      "execution_count": 96,
      "outputs": []
    }
  ]
}