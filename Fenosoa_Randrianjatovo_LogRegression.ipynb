{
  "nbformat": 4,
  "nbformat_minor": 0,
  "metadata": {
    "colab": {
      "name": "Fenosoa_Randrianjatovo_LogRegression.ipynb",
      "provenance": [],
      "collapsed_sections": [],
      "include_colab_link": true
    },
    "kernelspec": {
      "name": "python3",
      "display_name": "Python 3"
    },
    "language_info": {
      "name": "python"
    }
  },
  "cells": [
    {
      "cell_type": "markdown",
      "metadata": {
        "id": "view-in-github",
        "colab_type": "text"
      },
      "source": [
        "<a href=\"https://colab.research.google.com/github/FenosoaRandrianjatovo/test-live-coding/blob/master/Fenosoa_Randrianjatovo_LogRegression.ipynb\" target=\"_parent\"><img src=\"https://colab.research.google.com/assets/colab-badge.svg\" alt=\"Open In Colab\"/></a>"
      ]
    },
    {
      "cell_type": "markdown",
      "source": [
        "### Fenosoa Randrianjatovo"
      ],
      "metadata": {
        "id": "r-rmLDVvD672"
      }
    },
    {
      "cell_type": "markdown",
      "source": [
        "[![Open In Colab](https://colab.research.google.com/assets/colab-badge.svg)](https://colab.research.google.com/github/googlecolab/colabtools/blob/master/notebooks/colab-github-demo.ipynb)"
      ],
      "metadata": {
        "id": "3hu6wCiSyg4B"
      }
    },
    {
      "cell_type": "markdown",
      "source": [
        "# Logistic Regression Implementation"
      ],
      "metadata": {
        "id": "3H4HVu_0ckc5"
      }
    },
    {
      "cell_type": "markdown",
      "source": [
        ""
      ],
      "metadata": {
        "id": "2mqSouAOD5mg"
      }
    },
    {
      "cell_type": "markdown",
      "source": [
        "# Instructions:\n",
        "1. Save a copy of this notebook in your drive;\n",
        "2. Name it by: `Your_fullname_LogRegression.ipynb`\n",
        "3. Close the original notebook\n",
        "4. Start typing your codes.\n",
        "\n",
        "`Note:` Discuss with your neighbors."
      ],
      "metadata": {
        "id": "7RO8S4CbmJVH"
      }
    },
    {
      "cell_type": "markdown",
      "source": [
        "# Part 1: Data preparation\n",
        "\n",
        "## Import Dataset Libraries"
      ],
      "metadata": {
        "id": "VhL_jPWQZCoX"
      }
    },
    {
      "cell_type": "code",
      "execution_count": 249,
      "metadata": {
        "id": "h5tJBDqB444I"
      },
      "outputs": [],
      "source": [
        "import numpy as np\n",
        "import pandas as pd\n",
        "import matplotlib.pyplot as plt"
      ]
    },
    {
      "cell_type": "markdown",
      "source": [
        "Question 0: Import the dataset Dataset"
      ],
      "metadata": {
        "id": "wwf9SiJ4ZEvs"
      }
    },
    {
      "cell_type": "code",
      "source": [
        "from google.colab import drive\n",
        "drive.mount('/content/drive')"
      ],
      "metadata": {
        "colab": {
          "base_uri": "https://localhost:8080/"
        },
        "id": "OesJFwOzELzf",
        "outputId": "7bf4af05-8c09-4757-8756-39174e3f69b2"
      },
      "execution_count": 250,
      "outputs": [
        {
          "output_type": "stream",
          "name": "stdout",
          "text": [
            "Drive already mounted at /content/drive; to attempt to forcibly remount, call drive.mount(\"/content/drive\", force_remount=True).\n"
          ]
        }
      ]
    },
    {
      "cell_type": "code",
      "source": [
        "##### WRITE YOUR CODE HERE #####\n",
        "path= '/content/drive/MyDrive/Colab Notebooks/Introduction to Machine Learning/Week 4/diabetes.csv'\n",
        "data= pd.read_csv(path)\n",
        "#### END CODE ####"
      ],
      "metadata": {
        "id": "R42UJPRzUYPW"
      },
      "execution_count": 251,
      "outputs": []
    },
    {
      "cell_type": "markdown",
      "source": [
        "Question 1: Print the first five rows of the Dataset"
      ],
      "metadata": {
        "id": "cFQTnXLoXgy4"
      }
    },
    {
      "cell_type": "code",
      "source": [
        "##### WRITE YOUR CODE HERE #####\n",
        "data.head(5)\n",
        "#### END CODE ####"
      ],
      "metadata": {
        "colab": {
          "base_uri": "https://localhost:8080/",
          "height": 228
        },
        "id": "Fj4Vhz42U5fd",
        "outputId": "fda004fd-b051-4f47-d5ca-6d90d1042e93"
      },
      "execution_count": 252,
      "outputs": [
        {
          "output_type": "execute_result",
          "data": {
            "text/html": [
              "\n",
              "  <div id=\"df-29c8aa07-73c0-4c1c-8340-830b8f1decec\">\n",
              "    <div class=\"colab-df-container\">\n",
              "      <div>\n",
              "<style scoped>\n",
              "    .dataframe tbody tr th:only-of-type {\n",
              "        vertical-align: middle;\n",
              "    }\n",
              "\n",
              "    .dataframe tbody tr th {\n",
              "        vertical-align: top;\n",
              "    }\n",
              "\n",
              "    .dataframe thead th {\n",
              "        text-align: right;\n",
              "    }\n",
              "</style>\n",
              "<table border=\"1\" class=\"dataframe\">\n",
              "  <thead>\n",
              "    <tr style=\"text-align: right;\">\n",
              "      <th></th>\n",
              "      <th>Pregnancies</th>\n",
              "      <th>Glucose</th>\n",
              "      <th>BloodPressure</th>\n",
              "      <th>SkinThickness</th>\n",
              "      <th>Insulin</th>\n",
              "      <th>BMI</th>\n",
              "      <th>DiabetesPedigreeFunction</th>\n",
              "      <th>Age</th>\n",
              "      <th>Outcome</th>\n",
              "    </tr>\n",
              "  </thead>\n",
              "  <tbody>\n",
              "    <tr>\n",
              "      <th>0</th>\n",
              "      <td>6</td>\n",
              "      <td>148</td>\n",
              "      <td>72</td>\n",
              "      <td>35</td>\n",
              "      <td>0</td>\n",
              "      <td>33.6</td>\n",
              "      <td>0.627</td>\n",
              "      <td>50</td>\n",
              "      <td>1</td>\n",
              "    </tr>\n",
              "    <tr>\n",
              "      <th>1</th>\n",
              "      <td>1</td>\n",
              "      <td>85</td>\n",
              "      <td>66</td>\n",
              "      <td>29</td>\n",
              "      <td>0</td>\n",
              "      <td>26.6</td>\n",
              "      <td>0.351</td>\n",
              "      <td>31</td>\n",
              "      <td>0</td>\n",
              "    </tr>\n",
              "    <tr>\n",
              "      <th>2</th>\n",
              "      <td>8</td>\n",
              "      <td>183</td>\n",
              "      <td>64</td>\n",
              "      <td>0</td>\n",
              "      <td>0</td>\n",
              "      <td>23.3</td>\n",
              "      <td>0.672</td>\n",
              "      <td>32</td>\n",
              "      <td>1</td>\n",
              "    </tr>\n",
              "    <tr>\n",
              "      <th>3</th>\n",
              "      <td>1</td>\n",
              "      <td>89</td>\n",
              "      <td>66</td>\n",
              "      <td>23</td>\n",
              "      <td>94</td>\n",
              "      <td>28.1</td>\n",
              "      <td>0.167</td>\n",
              "      <td>21</td>\n",
              "      <td>0</td>\n",
              "    </tr>\n",
              "    <tr>\n",
              "      <th>4</th>\n",
              "      <td>0</td>\n",
              "      <td>137</td>\n",
              "      <td>40</td>\n",
              "      <td>35</td>\n",
              "      <td>168</td>\n",
              "      <td>43.1</td>\n",
              "      <td>2.288</td>\n",
              "      <td>33</td>\n",
              "      <td>1</td>\n",
              "    </tr>\n",
              "  </tbody>\n",
              "</table>\n",
              "</div>\n",
              "      <button class=\"colab-df-convert\" onclick=\"convertToInteractive('df-29c8aa07-73c0-4c1c-8340-830b8f1decec')\"\n",
              "              title=\"Convert this dataframe to an interactive table.\"\n",
              "              style=\"display:none;\">\n",
              "        \n",
              "  <svg xmlns=\"http://www.w3.org/2000/svg\" height=\"24px\"viewBox=\"0 0 24 24\"\n",
              "       width=\"24px\">\n",
              "    <path d=\"M0 0h24v24H0V0z\" fill=\"none\"/>\n",
              "    <path d=\"M18.56 5.44l.94 2.06.94-2.06 2.06-.94-2.06-.94-.94-2.06-.94 2.06-2.06.94zm-11 1L8.5 8.5l.94-2.06 2.06-.94-2.06-.94L8.5 2.5l-.94 2.06-2.06.94zm10 10l.94 2.06.94-2.06 2.06-.94-2.06-.94-.94-2.06-.94 2.06-2.06.94z\"/><path d=\"M17.41 7.96l-1.37-1.37c-.4-.4-.92-.59-1.43-.59-.52 0-1.04.2-1.43.59L10.3 9.45l-7.72 7.72c-.78.78-.78 2.05 0 2.83L4 21.41c.39.39.9.59 1.41.59.51 0 1.02-.2 1.41-.59l7.78-7.78 2.81-2.81c.8-.78.8-2.07 0-2.86zM5.41 20L4 18.59l7.72-7.72 1.47 1.35L5.41 20z\"/>\n",
              "  </svg>\n",
              "      </button>\n",
              "      \n",
              "  <style>\n",
              "    .colab-df-container {\n",
              "      display:flex;\n",
              "      flex-wrap:wrap;\n",
              "      gap: 12px;\n",
              "    }\n",
              "\n",
              "    .colab-df-convert {\n",
              "      background-color: #E8F0FE;\n",
              "      border: none;\n",
              "      border-radius: 50%;\n",
              "      cursor: pointer;\n",
              "      display: none;\n",
              "      fill: #1967D2;\n",
              "      height: 32px;\n",
              "      padding: 0 0 0 0;\n",
              "      width: 32px;\n",
              "    }\n",
              "\n",
              "    .colab-df-convert:hover {\n",
              "      background-color: #E2EBFA;\n",
              "      box-shadow: 0px 1px 2px rgba(60, 64, 67, 0.3), 0px 1px 3px 1px rgba(60, 64, 67, 0.15);\n",
              "      fill: #174EA6;\n",
              "    }\n",
              "\n",
              "    [theme=dark] .colab-df-convert {\n",
              "      background-color: #3B4455;\n",
              "      fill: #D2E3FC;\n",
              "    }\n",
              "\n",
              "    [theme=dark] .colab-df-convert:hover {\n",
              "      background-color: #434B5C;\n",
              "      box-shadow: 0px 1px 3px 1px rgba(0, 0, 0, 0.15);\n",
              "      filter: drop-shadow(0px 1px 2px rgba(0, 0, 0, 0.3));\n",
              "      fill: #FFFFFF;\n",
              "    }\n",
              "  </style>\n",
              "\n",
              "      <script>\n",
              "        const buttonEl =\n",
              "          document.querySelector('#df-29c8aa07-73c0-4c1c-8340-830b8f1decec button.colab-df-convert');\n",
              "        buttonEl.style.display =\n",
              "          google.colab.kernel.accessAllowed ? 'block' : 'none';\n",
              "\n",
              "        async function convertToInteractive(key) {\n",
              "          const element = document.querySelector('#df-29c8aa07-73c0-4c1c-8340-830b8f1decec');\n",
              "          const dataTable =\n",
              "            await google.colab.kernel.invokeFunction('convertToInteractive',\n",
              "                                                     [key], {});\n",
              "          if (!dataTable) return;\n",
              "\n",
              "          const docLinkHtml = 'Like what you see? Visit the ' +\n",
              "            '<a target=\"_blank\" href=https://colab.research.google.com/notebooks/data_table.ipynb>data table notebook</a>'\n",
              "            + ' to learn more about interactive tables.';\n",
              "          element.innerHTML = '';\n",
              "          dataTable['output_type'] = 'display_data';\n",
              "          await google.colab.output.renderOutput(dataTable, element);\n",
              "          const docLink = document.createElement('div');\n",
              "          docLink.innerHTML = docLinkHtml;\n",
              "          element.appendChild(docLink);\n",
              "        }\n",
              "      </script>\n",
              "    </div>\n",
              "  </div>\n",
              "  "
            ],
            "text/plain": [
              "   Pregnancies  Glucose  BloodPressure  ...  DiabetesPedigreeFunction  Age  Outcome\n",
              "0            6      148             72  ...                     0.627   50        1\n",
              "1            1       85             66  ...                     0.351   31        0\n",
              "2            8      183             64  ...                     0.672   32        1\n",
              "3            1       89             66  ...                     0.167   21        0\n",
              "4            0      137             40  ...                     2.288   33        1\n",
              "\n",
              "[5 rows x 9 columns]"
            ]
          },
          "metadata": {},
          "execution_count": 252
        }
      ]
    },
    {
      "cell_type": "markdown",
      "source": [
        "Question 2: Check the types of your variables/features"
      ],
      "metadata": {
        "id": "6iVatSkruxwb"
      }
    },
    {
      "cell_type": "code",
      "source": [
        "##### WRITE YOUR CODE HERE #####\n",
        "data.dtypes\n",
        "#### END CODE ####"
      ],
      "metadata": {
        "colab": {
          "base_uri": "https://localhost:8080/"
        },
        "id": "tM09phY_U8J_",
        "outputId": "59b3b521-cde4-4e52-8ead-c95bcad0a53a"
      },
      "execution_count": 253,
      "outputs": [
        {
          "output_type": "execute_result",
          "data": {
            "text/plain": [
              "Pregnancies                   int64\n",
              "Glucose                       int64\n",
              "BloodPressure                 int64\n",
              "SkinThickness                 int64\n",
              "Insulin                       int64\n",
              "BMI                         float64\n",
              "DiabetesPedigreeFunction    float64\n",
              "Age                           int64\n",
              "Outcome                       int64\n",
              "dtype: object"
            ]
          },
          "metadata": {},
          "execution_count": 253
        }
      ]
    },
    {
      "cell_type": "markdown",
      "source": [
        "Question 3: Describe your dataset"
      ],
      "metadata": {
        "id": "o7idUq99XlAH"
      }
    },
    {
      "cell_type": "code",
      "source": [
        "##### WRITE YOUR CODE HERE #####\n",
        "data.describe()\n",
        "#### END CODE ####"
      ],
      "metadata": {
        "colab": {
          "base_uri": "https://localhost:8080/",
          "height": 323
        },
        "id": "qWo3tf5dZadO",
        "outputId": "e3fc4561-a016-45f2-fd78-98bacd209df8"
      },
      "execution_count": 254,
      "outputs": [
        {
          "output_type": "execute_result",
          "data": {
            "text/html": [
              "\n",
              "  <div id=\"df-f3d2e704-d529-424b-a05d-3ce010430adf\">\n",
              "    <div class=\"colab-df-container\">\n",
              "      <div>\n",
              "<style scoped>\n",
              "    .dataframe tbody tr th:only-of-type {\n",
              "        vertical-align: middle;\n",
              "    }\n",
              "\n",
              "    .dataframe tbody tr th {\n",
              "        vertical-align: top;\n",
              "    }\n",
              "\n",
              "    .dataframe thead th {\n",
              "        text-align: right;\n",
              "    }\n",
              "</style>\n",
              "<table border=\"1\" class=\"dataframe\">\n",
              "  <thead>\n",
              "    <tr style=\"text-align: right;\">\n",
              "      <th></th>\n",
              "      <th>Pregnancies</th>\n",
              "      <th>Glucose</th>\n",
              "      <th>BloodPressure</th>\n",
              "      <th>SkinThickness</th>\n",
              "      <th>Insulin</th>\n",
              "      <th>BMI</th>\n",
              "      <th>DiabetesPedigreeFunction</th>\n",
              "      <th>Age</th>\n",
              "      <th>Outcome</th>\n",
              "    </tr>\n",
              "  </thead>\n",
              "  <tbody>\n",
              "    <tr>\n",
              "      <th>count</th>\n",
              "      <td>768.000000</td>\n",
              "      <td>768.000000</td>\n",
              "      <td>768.000000</td>\n",
              "      <td>768.000000</td>\n",
              "      <td>768.000000</td>\n",
              "      <td>768.000000</td>\n",
              "      <td>768.000000</td>\n",
              "      <td>768.000000</td>\n",
              "      <td>768.000000</td>\n",
              "    </tr>\n",
              "    <tr>\n",
              "      <th>mean</th>\n",
              "      <td>3.845052</td>\n",
              "      <td>120.894531</td>\n",
              "      <td>69.105469</td>\n",
              "      <td>20.536458</td>\n",
              "      <td>79.799479</td>\n",
              "      <td>31.992578</td>\n",
              "      <td>0.471876</td>\n",
              "      <td>33.240885</td>\n",
              "      <td>0.348958</td>\n",
              "    </tr>\n",
              "    <tr>\n",
              "      <th>std</th>\n",
              "      <td>3.369578</td>\n",
              "      <td>31.972618</td>\n",
              "      <td>19.355807</td>\n",
              "      <td>15.952218</td>\n",
              "      <td>115.244002</td>\n",
              "      <td>7.884160</td>\n",
              "      <td>0.331329</td>\n",
              "      <td>11.760232</td>\n",
              "      <td>0.476951</td>\n",
              "    </tr>\n",
              "    <tr>\n",
              "      <th>min</th>\n",
              "      <td>0.000000</td>\n",
              "      <td>0.000000</td>\n",
              "      <td>0.000000</td>\n",
              "      <td>0.000000</td>\n",
              "      <td>0.000000</td>\n",
              "      <td>0.000000</td>\n",
              "      <td>0.078000</td>\n",
              "      <td>21.000000</td>\n",
              "      <td>0.000000</td>\n",
              "    </tr>\n",
              "    <tr>\n",
              "      <th>25%</th>\n",
              "      <td>1.000000</td>\n",
              "      <td>99.000000</td>\n",
              "      <td>62.000000</td>\n",
              "      <td>0.000000</td>\n",
              "      <td>0.000000</td>\n",
              "      <td>27.300000</td>\n",
              "      <td>0.243750</td>\n",
              "      <td>24.000000</td>\n",
              "      <td>0.000000</td>\n",
              "    </tr>\n",
              "    <tr>\n",
              "      <th>50%</th>\n",
              "      <td>3.000000</td>\n",
              "      <td>117.000000</td>\n",
              "      <td>72.000000</td>\n",
              "      <td>23.000000</td>\n",
              "      <td>30.500000</td>\n",
              "      <td>32.000000</td>\n",
              "      <td>0.372500</td>\n",
              "      <td>29.000000</td>\n",
              "      <td>0.000000</td>\n",
              "    </tr>\n",
              "    <tr>\n",
              "      <th>75%</th>\n",
              "      <td>6.000000</td>\n",
              "      <td>140.250000</td>\n",
              "      <td>80.000000</td>\n",
              "      <td>32.000000</td>\n",
              "      <td>127.250000</td>\n",
              "      <td>36.600000</td>\n",
              "      <td>0.626250</td>\n",
              "      <td>41.000000</td>\n",
              "      <td>1.000000</td>\n",
              "    </tr>\n",
              "    <tr>\n",
              "      <th>max</th>\n",
              "      <td>17.000000</td>\n",
              "      <td>199.000000</td>\n",
              "      <td>122.000000</td>\n",
              "      <td>99.000000</td>\n",
              "      <td>846.000000</td>\n",
              "      <td>67.100000</td>\n",
              "      <td>2.420000</td>\n",
              "      <td>81.000000</td>\n",
              "      <td>1.000000</td>\n",
              "    </tr>\n",
              "  </tbody>\n",
              "</table>\n",
              "</div>\n",
              "      <button class=\"colab-df-convert\" onclick=\"convertToInteractive('df-f3d2e704-d529-424b-a05d-3ce010430adf')\"\n",
              "              title=\"Convert this dataframe to an interactive table.\"\n",
              "              style=\"display:none;\">\n",
              "        \n",
              "  <svg xmlns=\"http://www.w3.org/2000/svg\" height=\"24px\"viewBox=\"0 0 24 24\"\n",
              "       width=\"24px\">\n",
              "    <path d=\"M0 0h24v24H0V0z\" fill=\"none\"/>\n",
              "    <path d=\"M18.56 5.44l.94 2.06.94-2.06 2.06-.94-2.06-.94-.94-2.06-.94 2.06-2.06.94zm-11 1L8.5 8.5l.94-2.06 2.06-.94-2.06-.94L8.5 2.5l-.94 2.06-2.06.94zm10 10l.94 2.06.94-2.06 2.06-.94-2.06-.94-.94-2.06-.94 2.06-2.06.94z\"/><path d=\"M17.41 7.96l-1.37-1.37c-.4-.4-.92-.59-1.43-.59-.52 0-1.04.2-1.43.59L10.3 9.45l-7.72 7.72c-.78.78-.78 2.05 0 2.83L4 21.41c.39.39.9.59 1.41.59.51 0 1.02-.2 1.41-.59l7.78-7.78 2.81-2.81c.8-.78.8-2.07 0-2.86zM5.41 20L4 18.59l7.72-7.72 1.47 1.35L5.41 20z\"/>\n",
              "  </svg>\n",
              "      </button>\n",
              "      \n",
              "  <style>\n",
              "    .colab-df-container {\n",
              "      display:flex;\n",
              "      flex-wrap:wrap;\n",
              "      gap: 12px;\n",
              "    }\n",
              "\n",
              "    .colab-df-convert {\n",
              "      background-color: #E8F0FE;\n",
              "      border: none;\n",
              "      border-radius: 50%;\n",
              "      cursor: pointer;\n",
              "      display: none;\n",
              "      fill: #1967D2;\n",
              "      height: 32px;\n",
              "      padding: 0 0 0 0;\n",
              "      width: 32px;\n",
              "    }\n",
              "\n",
              "    .colab-df-convert:hover {\n",
              "      background-color: #E2EBFA;\n",
              "      box-shadow: 0px 1px 2px rgba(60, 64, 67, 0.3), 0px 1px 3px 1px rgba(60, 64, 67, 0.15);\n",
              "      fill: #174EA6;\n",
              "    }\n",
              "\n",
              "    [theme=dark] .colab-df-convert {\n",
              "      background-color: #3B4455;\n",
              "      fill: #D2E3FC;\n",
              "    }\n",
              "\n",
              "    [theme=dark] .colab-df-convert:hover {\n",
              "      background-color: #434B5C;\n",
              "      box-shadow: 0px 1px 3px 1px rgba(0, 0, 0, 0.15);\n",
              "      filter: drop-shadow(0px 1px 2px rgba(0, 0, 0, 0.3));\n",
              "      fill: #FFFFFF;\n",
              "    }\n",
              "  </style>\n",
              "\n",
              "      <script>\n",
              "        const buttonEl =\n",
              "          document.querySelector('#df-f3d2e704-d529-424b-a05d-3ce010430adf button.colab-df-convert');\n",
              "        buttonEl.style.display =\n",
              "          google.colab.kernel.accessAllowed ? 'block' : 'none';\n",
              "\n",
              "        async function convertToInteractive(key) {\n",
              "          const element = document.querySelector('#df-f3d2e704-d529-424b-a05d-3ce010430adf');\n",
              "          const dataTable =\n",
              "            await google.colab.kernel.invokeFunction('convertToInteractive',\n",
              "                                                     [key], {});\n",
              "          if (!dataTable) return;\n",
              "\n",
              "          const docLinkHtml = 'Like what you see? Visit the ' +\n",
              "            '<a target=\"_blank\" href=https://colab.research.google.com/notebooks/data_table.ipynb>data table notebook</a>'\n",
              "            + ' to learn more about interactive tables.';\n",
              "          element.innerHTML = '';\n",
              "          dataTable['output_type'] = 'display_data';\n",
              "          await google.colab.output.renderOutput(dataTable, element);\n",
              "          const docLink = document.createElement('div');\n",
              "          docLink.innerHTML = docLinkHtml;\n",
              "          element.appendChild(docLink);\n",
              "        }\n",
              "      </script>\n",
              "    </div>\n",
              "  </div>\n",
              "  "
            ],
            "text/plain": [
              "       Pregnancies     Glucose  ...         Age     Outcome\n",
              "count   768.000000  768.000000  ...  768.000000  768.000000\n",
              "mean      3.845052  120.894531  ...   33.240885    0.348958\n",
              "std       3.369578   31.972618  ...   11.760232    0.476951\n",
              "min       0.000000    0.000000  ...   21.000000    0.000000\n",
              "25%       1.000000   99.000000  ...   24.000000    0.000000\n",
              "50%       3.000000  117.000000  ...   29.000000    0.000000\n",
              "75%       6.000000  140.250000  ...   41.000000    1.000000\n",
              "max      17.000000  199.000000  ...   81.000000    1.000000\n",
              "\n",
              "[8 rows x 9 columns]"
            ]
          },
          "metadata": {},
          "execution_count": 254
        }
      ]
    },
    {
      "cell_type": "markdown",
      "source": [
        "Question 4: write a function that scale your features.\n",
        "`Hint:` $x'= \\dfrac{x-\\mu}{\\sigma}$ \n",
        "where $\\mu$ is the mean and $\\sigma$ the standard deviation of $x$."
      ],
      "metadata": {
        "id": "XLhl5xo2XpTi"
      }
    },
    {
      "cell_type": "code",
      "source": [
        "##### WRITE YOUR CODE HERE #####\n",
        "def scale_feature(x):\n",
        "  \n",
        "  mu=x.mean()\n",
        "  std=x.std()\n",
        "  return (x-mu)/std\n",
        "#### END CODE ####"
      ],
      "metadata": {
        "id": "uHqEW65wXvNf"
      },
      "execution_count": 255,
      "outputs": []
    },
    {
      "cell_type": "markdown",
      "source": [
        "Question 5: Scale your features, except the target. "
      ],
      "metadata": {
        "id": "xHrdxls1Xx-6"
      }
    },
    {
      "cell_type": "code",
      "source": [
        "##### WRITE YOUR CODE HERE #####\n",
        "scale_data=data.copy()\n",
        "\n",
        "scale_data.iloc[:,:-1]=data.iloc[:,:-1].apply(scale_feature, axis=0)\n",
        "\n",
        "scale_data\n",
        "#### END CODE #### "
      ],
      "metadata": {
        "id": "dF2xJum5YAkM",
        "colab": {
          "base_uri": "https://localhost:8080/",
          "height": 447
        },
        "outputId": "191536c1-a660-4aac-ad2e-56e2100f27d1"
      },
      "execution_count": 256,
      "outputs": [
        {
          "output_type": "execute_result",
          "data": {
            "text/html": [
              "\n",
              "  <div id=\"df-8b7b2530-6ca1-452c-95d2-46ff1af6933a\">\n",
              "    <div class=\"colab-df-container\">\n",
              "      <div>\n",
              "<style scoped>\n",
              "    .dataframe tbody tr th:only-of-type {\n",
              "        vertical-align: middle;\n",
              "    }\n",
              "\n",
              "    .dataframe tbody tr th {\n",
              "        vertical-align: top;\n",
              "    }\n",
              "\n",
              "    .dataframe thead th {\n",
              "        text-align: right;\n",
              "    }\n",
              "</style>\n",
              "<table border=\"1\" class=\"dataframe\">\n",
              "  <thead>\n",
              "    <tr style=\"text-align: right;\">\n",
              "      <th></th>\n",
              "      <th>Pregnancies</th>\n",
              "      <th>Glucose</th>\n",
              "      <th>BloodPressure</th>\n",
              "      <th>SkinThickness</th>\n",
              "      <th>Insulin</th>\n",
              "      <th>BMI</th>\n",
              "      <th>DiabetesPedigreeFunction</th>\n",
              "      <th>Age</th>\n",
              "      <th>Outcome</th>\n",
              "    </tr>\n",
              "  </thead>\n",
              "  <tbody>\n",
              "    <tr>\n",
              "      <th>0</th>\n",
              "      <td>0.639530</td>\n",
              "      <td>0.847771</td>\n",
              "      <td>0.149543</td>\n",
              "      <td>0.906679</td>\n",
              "      <td>-0.692439</td>\n",
              "      <td>0.203880</td>\n",
              "      <td>0.468187</td>\n",
              "      <td>1.425067</td>\n",
              "      <td>1</td>\n",
              "    </tr>\n",
              "    <tr>\n",
              "      <th>1</th>\n",
              "      <td>-0.844335</td>\n",
              "      <td>-1.122665</td>\n",
              "      <td>-0.160441</td>\n",
              "      <td>0.530556</td>\n",
              "      <td>-0.692439</td>\n",
              "      <td>-0.683976</td>\n",
              "      <td>-0.364823</td>\n",
              "      <td>-0.190548</td>\n",
              "      <td>0</td>\n",
              "    </tr>\n",
              "    <tr>\n",
              "      <th>2</th>\n",
              "      <td>1.233077</td>\n",
              "      <td>1.942458</td>\n",
              "      <td>-0.263769</td>\n",
              "      <td>-1.287373</td>\n",
              "      <td>-0.692439</td>\n",
              "      <td>-1.102537</td>\n",
              "      <td>0.604004</td>\n",
              "      <td>-0.105515</td>\n",
              "      <td>1</td>\n",
              "    </tr>\n",
              "    <tr>\n",
              "      <th>3</th>\n",
              "      <td>-0.844335</td>\n",
              "      <td>-0.997558</td>\n",
              "      <td>-0.160441</td>\n",
              "      <td>0.154433</td>\n",
              "      <td>0.123221</td>\n",
              "      <td>-0.493721</td>\n",
              "      <td>-0.920163</td>\n",
              "      <td>-1.040871</td>\n",
              "      <td>0</td>\n",
              "    </tr>\n",
              "    <tr>\n",
              "      <th>4</th>\n",
              "      <td>-1.141108</td>\n",
              "      <td>0.503727</td>\n",
              "      <td>-1.503707</td>\n",
              "      <td>0.906679</td>\n",
              "      <td>0.765337</td>\n",
              "      <td>1.408828</td>\n",
              "      <td>5.481337</td>\n",
              "      <td>-0.020483</td>\n",
              "      <td>1</td>\n",
              "    </tr>\n",
              "    <tr>\n",
              "      <th>...</th>\n",
              "      <td>...</td>\n",
              "      <td>...</td>\n",
              "      <td>...</td>\n",
              "      <td>...</td>\n",
              "      <td>...</td>\n",
              "      <td>...</td>\n",
              "      <td>...</td>\n",
              "      <td>...</td>\n",
              "      <td>...</td>\n",
              "    </tr>\n",
              "    <tr>\n",
              "      <th>763</th>\n",
              "      <td>1.826623</td>\n",
              "      <td>-0.622237</td>\n",
              "      <td>0.356200</td>\n",
              "      <td>1.721613</td>\n",
              "      <td>0.869464</td>\n",
              "      <td>0.115094</td>\n",
              "      <td>-0.908090</td>\n",
              "      <td>2.530487</td>\n",
              "      <td>0</td>\n",
              "    </tr>\n",
              "    <tr>\n",
              "      <th>764</th>\n",
              "      <td>-0.547562</td>\n",
              "      <td>0.034575</td>\n",
              "      <td>0.046215</td>\n",
              "      <td>0.405181</td>\n",
              "      <td>-0.692439</td>\n",
              "      <td>0.609757</td>\n",
              "      <td>-0.398023</td>\n",
              "      <td>-0.530677</td>\n",
              "      <td>0</td>\n",
              "    </tr>\n",
              "    <tr>\n",
              "      <th>765</th>\n",
              "      <td>0.342757</td>\n",
              "      <td>0.003299</td>\n",
              "      <td>0.149543</td>\n",
              "      <td>0.154433</td>\n",
              "      <td>0.279412</td>\n",
              "      <td>-0.734711</td>\n",
              "      <td>-0.684747</td>\n",
              "      <td>-0.275580</td>\n",
              "      <td>0</td>\n",
              "    </tr>\n",
              "    <tr>\n",
              "      <th>766</th>\n",
              "      <td>-0.844335</td>\n",
              "      <td>0.159683</td>\n",
              "      <td>-0.470426</td>\n",
              "      <td>-1.287373</td>\n",
              "      <td>-0.692439</td>\n",
              "      <td>-0.240048</td>\n",
              "      <td>-0.370859</td>\n",
              "      <td>1.169970</td>\n",
              "      <td>1</td>\n",
              "    </tr>\n",
              "    <tr>\n",
              "      <th>767</th>\n",
              "      <td>-0.844335</td>\n",
              "      <td>-0.872451</td>\n",
              "      <td>0.046215</td>\n",
              "      <td>0.655930</td>\n",
              "      <td>-0.692439</td>\n",
              "      <td>-0.201997</td>\n",
              "      <td>-0.473476</td>\n",
              "      <td>-0.870806</td>\n",
              "      <td>0</td>\n",
              "    </tr>\n",
              "  </tbody>\n",
              "</table>\n",
              "<p>768 rows × 9 columns</p>\n",
              "</div>\n",
              "      <button class=\"colab-df-convert\" onclick=\"convertToInteractive('df-8b7b2530-6ca1-452c-95d2-46ff1af6933a')\"\n",
              "              title=\"Convert this dataframe to an interactive table.\"\n",
              "              style=\"display:none;\">\n",
              "        \n",
              "  <svg xmlns=\"http://www.w3.org/2000/svg\" height=\"24px\"viewBox=\"0 0 24 24\"\n",
              "       width=\"24px\">\n",
              "    <path d=\"M0 0h24v24H0V0z\" fill=\"none\"/>\n",
              "    <path d=\"M18.56 5.44l.94 2.06.94-2.06 2.06-.94-2.06-.94-.94-2.06-.94 2.06-2.06.94zm-11 1L8.5 8.5l.94-2.06 2.06-.94-2.06-.94L8.5 2.5l-.94 2.06-2.06.94zm10 10l.94 2.06.94-2.06 2.06-.94-2.06-.94-.94-2.06-.94 2.06-2.06.94z\"/><path d=\"M17.41 7.96l-1.37-1.37c-.4-.4-.92-.59-1.43-.59-.52 0-1.04.2-1.43.59L10.3 9.45l-7.72 7.72c-.78.78-.78 2.05 0 2.83L4 21.41c.39.39.9.59 1.41.59.51 0 1.02-.2 1.41-.59l7.78-7.78 2.81-2.81c.8-.78.8-2.07 0-2.86zM5.41 20L4 18.59l7.72-7.72 1.47 1.35L5.41 20z\"/>\n",
              "  </svg>\n",
              "      </button>\n",
              "      \n",
              "  <style>\n",
              "    .colab-df-container {\n",
              "      display:flex;\n",
              "      flex-wrap:wrap;\n",
              "      gap: 12px;\n",
              "    }\n",
              "\n",
              "    .colab-df-convert {\n",
              "      background-color: #E8F0FE;\n",
              "      border: none;\n",
              "      border-radius: 50%;\n",
              "      cursor: pointer;\n",
              "      display: none;\n",
              "      fill: #1967D2;\n",
              "      height: 32px;\n",
              "      padding: 0 0 0 0;\n",
              "      width: 32px;\n",
              "    }\n",
              "\n",
              "    .colab-df-convert:hover {\n",
              "      background-color: #E2EBFA;\n",
              "      box-shadow: 0px 1px 2px rgba(60, 64, 67, 0.3), 0px 1px 3px 1px rgba(60, 64, 67, 0.15);\n",
              "      fill: #174EA6;\n",
              "    }\n",
              "\n",
              "    [theme=dark] .colab-df-convert {\n",
              "      background-color: #3B4455;\n",
              "      fill: #D2E3FC;\n",
              "    }\n",
              "\n",
              "    [theme=dark] .colab-df-convert:hover {\n",
              "      background-color: #434B5C;\n",
              "      box-shadow: 0px 1px 3px 1px rgba(0, 0, 0, 0.15);\n",
              "      filter: drop-shadow(0px 1px 2px rgba(0, 0, 0, 0.3));\n",
              "      fill: #FFFFFF;\n",
              "    }\n",
              "  </style>\n",
              "\n",
              "      <script>\n",
              "        const buttonEl =\n",
              "          document.querySelector('#df-8b7b2530-6ca1-452c-95d2-46ff1af6933a button.colab-df-convert');\n",
              "        buttonEl.style.display =\n",
              "          google.colab.kernel.accessAllowed ? 'block' : 'none';\n",
              "\n",
              "        async function convertToInteractive(key) {\n",
              "          const element = document.querySelector('#df-8b7b2530-6ca1-452c-95d2-46ff1af6933a');\n",
              "          const dataTable =\n",
              "            await google.colab.kernel.invokeFunction('convertToInteractive',\n",
              "                                                     [key], {});\n",
              "          if (!dataTable) return;\n",
              "\n",
              "          const docLinkHtml = 'Like what you see? Visit the ' +\n",
              "            '<a target=\"_blank\" href=https://colab.research.google.com/notebooks/data_table.ipynb>data table notebook</a>'\n",
              "            + ' to learn more about interactive tables.';\n",
              "          element.innerHTML = '';\n",
              "          dataTable['output_type'] = 'display_data';\n",
              "          await google.colab.output.renderOutput(dataTable, element);\n",
              "          const docLink = document.createElement('div');\n",
              "          docLink.innerHTML = docLinkHtml;\n",
              "          element.appendChild(docLink);\n",
              "        }\n",
              "      </script>\n",
              "    </div>\n",
              "  </div>\n",
              "  "
            ],
            "text/plain": [
              "     Pregnancies   Glucose  ...       Age  Outcome\n",
              "0       0.639530  0.847771  ...  1.425067        1\n",
              "1      -0.844335 -1.122665  ... -0.190548        0\n",
              "2       1.233077  1.942458  ... -0.105515        1\n",
              "3      -0.844335 -0.997558  ... -1.040871        0\n",
              "4      -1.141108  0.503727  ... -0.020483        1\n",
              "..           ...       ...  ...       ...      ...\n",
              "763     1.826623 -0.622237  ...  2.530487        0\n",
              "764    -0.547562  0.034575  ... -0.530677        0\n",
              "765     0.342757  0.003299  ... -0.275580        0\n",
              "766    -0.844335  0.159683  ...  1.169970        1\n",
              "767    -0.844335 -0.872451  ... -0.870806        0\n",
              "\n",
              "[768 rows x 9 columns]"
            ]
          },
          "metadata": {},
          "execution_count": 256
        }
      ]
    },
    {
      "cell_type": "markdown",
      "source": [
        "Question 6: Write a function that split your (x,y) to (x_train, y_train) and (x_test, y_test).\n",
        "`Note:` This function must return an arrays."
      ],
      "metadata": {
        "id": "EaLTFVDPeeQp"
      }
    },
    {
      "cell_type": "code",
      "source": [
        "##### WRITE YOUR CODE HERE #####\n",
        "def split_data(df, train_percent= 0.8):\n",
        "  np.random.seed(2)\n",
        "  perm = np.random.permutation(df.index)\n",
        "\n",
        "  n= len(df)\n",
        "  train_index = int(train_percent * n)\n",
        "\n",
        "  train = df.iloc[perm[:train_index]]\n",
        "  test = df.iloc[perm[train_index:]]\n",
        "\n",
        "  x_train, x_test, y_train, y_test= train.iloc[:, :-1], test.iloc[:, :-1], train.iloc[:, -1], test.iloc[:, -1]\n",
        "  return x_train.values, x_test.values, y_train.values, y_test.values\n",
        "#### END CODE ####"
      ],
      "metadata": {
        "id": "4qE0hOeia1Xx"
      },
      "execution_count": 257,
      "outputs": []
    },
    {
      "cell_type": "code",
      "source": [
        "x_train, x_test, y_train, y_test= split_data(data) \n",
        "x_train.shape, y_train.shape, x_test.shape, y_test.shape"
      ],
      "metadata": {
        "id": "gApO25M7b4_0",
        "colab": {
          "base_uri": "https://localhost:8080/"
        },
        "outputId": "a7afa37f-e579-40bc-a008-8c5825517f5d"
      },
      "execution_count": 258,
      "outputs": [
        {
          "output_type": "execute_result",
          "data": {
            "text/plain": [
              "((614, 8), (614,), (154, 8), (154,))"
            ]
          },
          "metadata": {},
          "execution_count": 258
        }
      ]
    },
    {
      "cell_type": "markdown",
      "source": [
        "# Part 2: Logistic Regression without Regularization.\n",
        "\n",
        "## Recaps:\n",
        "1. Logistic/sigmoid function of $z$:\n",
        "\\begin{equation}\n",
        "g(z)= \\dfrac{1}{1+ exp(-z)}\n",
        "\\end{equation}\n",
        "where $z= x^t \\theta$ and $x, y \\in \\mathbb{R}^d$.\n",
        "2. Derivative of Logistic/sigmoid function with respective to $z$:\n",
        "\\begin{equation}\n",
        "dg(z)= g(z)(1-g(z))\n",
        "\\end{equation}\n",
        "3. Cross-entropy loss:\n",
        "\\begin{equation}\n",
        "l(\\theta)= -\\sum_{i= 1}^{N} \\left(y_{true} \\times \\log y_{pred} + (1-y_{true}) \\times \\log (1-y_{pred}) \\right)\n",
        "\\end{equation}\n",
        "where $y_{true}= g(z)$, $z= x^t \\theta$ and $y_{true}$ is the ground-truth for a given $x$.\n",
        "\n",
        "4. Derivative of Cross-entropy loss with respective to $\\theta$:\n",
        "\\begin{equation}\n",
        "dl(\\theta)= -\\sum_{i= 1}^{N} x^t\\left(y_{true} -y_{ped} \\right)\n",
        "\\end{equation}\n",
        "5. Apply Batch gradient descent to update $\\theta$.\n",
        "\n",
        "Question: Create a class called LogReg. See the description in the below cells.\n"
      ],
      "metadata": {
        "id": "-iHA8LO0dq05"
      }
    },
    {
      "cell_type": "code",
      "source": [
        "class logistic_regression:\n",
        "  def __init__(self, x_test,y_test,num_iters= 100, threshold= 0.5, tolerance= 1e-10, lr= 0.00001):\n",
        "    ##### WRITE YOUR CODE HERE #####\n",
        "    self.num_iters=num_iters\n",
        "    self.threshold=threshold\n",
        "    self.tolerance=tolerance\n",
        "    self.lr=lr\n",
        "    self.theta=None\n",
        "    self.cost_history=[]\n",
        "    self.cost_history_test=[]\n",
        "    self.x_test=x_test\n",
        "    self.y_test=y_test\n",
        "    \n",
        "    #### END CODE ####\n",
        "\n",
        "  def add_ones(self, x):\n",
        "    ##### WRITE YOUR CODE HERE #####\n",
        "    # x_new= np.hstack([np.ones((x.shape[0],1)),x])\n",
        "    ones =np.ones((len(x), 1))\n",
        "    x_new=np.concatenate([ones, x], axis=1)\n",
        "    return x_new\n",
        "    #### END CODE ####\n",
        "\n",
        "  def sigmoid(self, x, theta):\n",
        "    ##### WRITE YOUR CODE HERE #####\n",
        "    # x=self.add_ones(x)\n",
        "    z= x@theta\n",
        "\n",
        "    sigmo=1/(1+np.exp(-z))\n",
        "    return sigmo\n",
        "    #### END CODE ####\n",
        "\n",
        "  def cross_entropy(self, x, y_true):\n",
        "    ##### WRITE YOUR CODE HERE #####\n",
        "    n = len(x) # Length of x\n",
        "    # x=self.add_ones(x)\n",
        "    y_pred = self.sigmoid(x,self.theta)\n",
        "\n",
        "    Cost = -np.sum((y_true)*np.log(y_pred)+(1-y_true)*np.log(1-y_pred))/n\n",
        "    \n",
        "    return Cost\n",
        "    #### END CODE ####\n",
        "\n",
        "  def fit(self, x,y):\n",
        "    ##### WRITE YOUR CODE HERE #####\n",
        "    x= self.add_ones(x) # Add ones to x\n",
        "    y= y.reshape(-1,1) # reshape y. This is optional, do it if needed\n",
        "\n",
        "    self.theta= np.zeros((x.shape[1],1)) # Initialize theta to zeros vector >>> (x.shape[1])\n",
        "    self.x_test=self.add_ones(self.x_test)\n",
        "    # print(self.x_theta.shape)\n",
        "    self.y_test=self.y_test.reshape(-1,1)\n",
        "    current_iter= 1\n",
        "    norm= 1\n",
        "\n",
        "    while (norm >= self.tolerance and current_iter < self.num_iters):\n",
        "    # while current_iter < self.num_iters:\n",
        "\n",
        "      theta_old = self.theta.copy() # Get old theta\n",
        "\n",
        "      # make predictions\n",
        "      y_pred= self.sigmoid(x,self.theta) # using sigmoid function \n",
        "\n",
        "      # Gradient of cross-entropy\n",
        "      grad= -x.T@(y.reshape(-1,1) - y_pred.reshape(-1,1))\n",
        "      # return grad\n",
        "      grad= grad.reshape(-1,1) # Reshape, if it is needed\n",
        "\n",
        "      # update rules\n",
        "      self.theta= self.theta - (1/len(y))*self.lr*grad\n",
        "\n",
        "      # theta_old=self.theta\n",
        "\n",
        "      loss=self.cross_entropy(x,y)\n",
        "      loss_test=self.cross_entropy(self.add_ones(x_test),y_test.reshape(-1,1))\n",
        "      # Compute the training loss\n",
        "      self.cost_history.append(loss)\n",
        "      self.cost_history_test.append(loss_test)\n",
        "      \n",
        "       \n",
        "      \n",
        "      # Convergence criteria:\n",
        "      if current_iter%100 == 0:\n",
        "        # print(\"Good\")\n",
        "        print(f'cost for {current_iter} iteration : {self.cross_entropy(x, y.reshape(-1,1))}')\n",
        "        \n",
        "      norm = np.linalg.norm(theta_old - self.theta)\n",
        "      \n",
        "      current_iter += 1\n",
        "      # print(current_iter+11)\n",
        "    print(self.cost_history)\n",
        "    #### END CODE ####\n",
        "    \n",
        "    \n",
        "  \n",
        "  def predict(self, x):\n",
        "    proba= self.predict_proba(x) # Get probability of x\n",
        "     # Convert proba to 0 or 1. hint: list comprehension\n",
        "    result= [1 if (i>=self.threshold) else 0 for i in proba]\n",
        "    return  result\n",
        "  \n",
        "    \n",
        "  def predict_proba(self, x):\n",
        "    x= self.add_ones(x) # Apply add ones to x\n",
        "    y_pred_prob= self.sigmoid(x,self.theta) # Predict proba with sigmoid\n",
        "    return y_pred_prob\n",
        "  \n",
        "  def plot(self):\n",
        "    ##### WRITE YOUR CODE HERE #####\n",
        "    plt.plot(self.cost_history, label='Train Loss')\n",
        "    plt.plot(self.cost_history_test, label='Test Loss')\n",
        "    # plt.lengend()\n",
        "    plt.show()\n",
        "    #### END CODE ####"
      ],
      "metadata": {
        "id": "fcwOt19ygOVu"
      },
      "execution_count": 270,
      "outputs": []
    },
    {
      "cell_type": "code",
      "source": [
        "model = logistic_regression(x_test, y_test, num_iters=10000)\n",
        "model.fit(x_train,y_train)"
      ],
      "metadata": {
        "id": "sCbzHcYfw-pv",
        "colab": {
          "base_uri": "https://localhost:8080/"
        },
        "outputId": "2cc7dc4f-5d64-44c8-ec3e-81e89403e5f2"
      },
      "execution_count": 271,
      "outputs": [
        {
          "output_type": "stream",
          "name": "stdout",
          "text": [
            "cost for 100 iteration : 0.6550338556076294\n",
            "cost for 200 iteration : 0.6482218111709707\n",
            "cost for 300 iteration : 0.6429568630805578\n",
            "cost for 400 iteration : 0.6387708573230167\n",
            "cost for 500 iteration : 0.6354272424115401\n",
            "cost for 600 iteration : 0.6327438658367632\n",
            "cost for 700 iteration : 0.630579192445027\n",
            "cost for 800 iteration : 0.6288233841282764\n",
            "cost for 900 iteration : 0.6273911319673937\n",
            "cost for 1000 iteration : 0.6262160217691015\n",
            "cost for 1100 iteration : 0.6252461766246119\n",
            "cost for 1200 iteration : 0.6244409165468258\n",
            "cost for 1300 iteration : 0.62376820770374\n",
            "cost for 1400 iteration : 0.6232027159170923\n",
            "cost for 1500 iteration : 0.6227243191692721\n",
            "cost for 1600 iteration : 0.6223169677264256\n",
            "cost for 1700 iteration : 0.6219678074792016\n",
            "cost for 1800 iteration : 0.6216665029401518\n",
            "cost for 1900 iteration : 0.6214047121343176\n",
            "cost for 2000 iteration : 0.62117567747852\n",
            "cost for 2100 iteration : 0.6209739056051443\n",
            "cost for 2200 iteration : 0.6207949156965572\n",
            "cost for 2300 iteration : 0.6206350408318513\n",
            "cost for 2400 iteration : 0.6204912705409233\n",
            "cost for 2500 iteration : 0.6203611255335385\n",
            "cost for 2600 iteration : 0.6202425576605309\n",
            "cost for 2700 iteration : 0.6201338697457179\n",
            "cost for 2800 iteration : 0.6200336511293655\n",
            "cost for 2900 iteration : 0.6199407256822957\n",
            "cost for 3000 iteration : 0.6198541097543172\n",
            "cost for 3100 iteration : 0.6197729780637918\n",
            "cost for 3200 iteration : 0.6196966359557392\n",
            "cost for 3300 iteration : 0.619624496782986\n",
            "cost for 3400 iteration : 0.6195560634203765\n",
            "cost for 3500 iteration : 0.6194909131224577\n",
            "cost for 3600 iteration : 0.6194286850928343\n",
            "cost for 3700 iteration : 0.6193690702581109\n",
            "cost for 3800 iteration : 0.6193118028382514\n",
            "cost for 3900 iteration : 0.6192566533839252\n",
            "cost for 4000 iteration : 0.6192034230142723\n",
            "cost for 4100 iteration : 0.6191519386388721\n",
            "cost for 4200 iteration : 0.6191020489881461\n",
            "cost for 4300 iteration : 0.6190536213089983\n",
            "cost for 4400 iteration : 0.6190065386088008\n",
            "cost for 4500 iteration : 0.6189606973521247\n",
            "cost for 4600 iteration : 0.6189160055318893\n",
            "cost for 4700 iteration : 0.6188723810506475\n",
            "cost for 4800 iteration : 0.6188297503591628\n",
            "cost for 4900 iteration : 0.6187880473087769\n",
            "cost for 5000 iteration : 0.6187472121816946\n",
            "cost for 5100 iteration : 0.6187071908695718\n",
            "cost for 5200 iteration : 0.6186679341759205\n",
            "cost for 5300 iteration : 0.6186293972220541\n",
            "cost for 5400 iteration : 0.6185915389397731\n",
            "cost for 5500 iteration : 0.618554321636835\n",
            "cost for 5600 iteration : 0.618517710623618\n",
            "cost for 5700 iteration : 0.6184816738913309\n",
            "cost for 5800 iteration : 0.6184461818337242\n",
            "cost for 5900 iteration : 0.6184112070056011\n",
            "cost for 6000 iteration : 0.6183767239125183\n",
            "cost for 6100 iteration : 0.6183427088269905\n",
            "cost for 6200 iteration : 0.6183091396272694\n",
            "cost for 6300 iteration : 0.6182759956554001\n",
            "cost for 6400 iteration : 0.6182432575917851\n",
            "cost for 6500 iteration : 0.618210907343923\n",
            "cost for 6600 iteration : 0.6181789279473573\n",
            "cost for 6700 iteration : 0.6181473034771711\n",
            "cost for 6800 iteration : 0.6181160189686249\n",
            "cost for 6900 iteration : 0.6180850603457421\n",
            "cost for 7000 iteration : 0.6180544143568308\n",
            "cost for 7100 iteration : 0.6180240685160777\n",
            "cost for 7200 iteration : 0.6179940110504758\n",
            "cost for 7300 iteration : 0.6179642308514574\n",
            "cost for 7400 iteration : 0.6179347174306872\n",
            "cost for 7500 iteration : 0.617905460879553\n",
            "cost for 7600 iteration : 0.6178764518319477\n",
            "cost for 7700 iteration : 0.6178476814299976\n",
            "cost for 7800 iteration : 0.6178191412924323\n",
            "cost for 7900 iteration : 0.6177908234853328\n",
            "cost for 8000 iteration : 0.6177627204950279\n",
            "cost for 8100 iteration : 0.6177348252029367\n",
            "cost for 8200 iteration : 0.6177071308621797\n",
            "cost for 8300 iteration : 0.6176796310757994\n",
            "cost for 8400 iteration : 0.6176523197764547\n",
            "cost for 8500 iteration : 0.617625191207463\n",
            "cost for 8600 iteration : 0.617598239905079\n",
            "cost for 8700 iteration : 0.6175714606819154\n",
            "cost for 8800 iteration : 0.6175448486114117\n",
            "cost for 8900 iteration : 0.6175183990132757\n",
            "cost for 9000 iteration : 0.6174921074398226\n",
            "cost for 9100 iteration : 0.6174659696631482\n",
            "cost for 9200 iteration : 0.6174399816630752\n",
            "cost for 9300 iteration : 0.6174141396158214\n",
            "cost for 9400 iteration : 0.6173884398833358\n",
            "cost for 9500 iteration : 0.6173628790032623\n",
            "cost for 9600 iteration : 0.6173374536794863\n",
            "cost for 9700 iteration : 0.6173121607732271\n",
            "cost for 9800 iteration : 0.6172869972946401\n",
            "cost for 9900 iteration : 0.6172619603948984\n",
            "[0.6893476314426539, 0.6861052904763079, 0.6833311258414697, 0.68095039748483, 0.6789004897157972, 0.677129005042997, 0.675592118237179, 0.6742531734476213, 0.6730814994029113, 0.6720514151710555, 0.671141399444906, 0.6703333984116221, 0.6696122500581979, 0.668965205728408, 0.6683815325891229, 0.667852183243728, 0.6673695209933133, 0.6669270911877772, 0.6665194307500312, 0.666141909329539, 0.6657905966823369, 0.665462151818312, 0.6651537302346704, 0.6648629061951059, 0.6645876075410667, 0.6643260609548202, 0.6640767459504912, 0.6638383561627289, 0.6636097667445207, 0.6633900068852525, 0.6631782366250109, 0.6629737272775722, 0.6627758448876128, 0.6625840362415255, 0.6623978170292528, 0.6622167618195058, 0.6620404955648969, 0.6618686863987392, 0.6617010395230791, 0.6615372920191837, 0.661377208438249, 0.6612205770523643, 0.6610672066644835, 0.6609169238918945, 0.6607695708509296, 0.6606250031818193, 0.6604830883620183, 0.6603437042642643, 0.6602067379223524, 0.6600720844732691, 0.659939646249129, 0.6598093319964058, 0.659681056203386, 0.6595547385196737, 0.6594303032540356, 0.6593076789389587, 0.6591867979520557, 0.659067596185954, 0.6589500127595649, 0.6588339897647076, 0.6587194720429762, 0.6586064069885028, 0.658494744372932, 0.6583844361894728, 0.6582754365133665, 0.6581677013765074, 0.6580611886542926, 0.6579558579630649, 0.6578516705667522, 0.6577485892915196, 0.6576465784474202, 0.6575456037561824, 0.6574456322843935, 0.6573466323814517, 0.6572485736217467, 0.6571514267506003, 0.6570551636335764, 0.6569597572088133, 0.6568651814420825, 0.6567714112843213, 0.656678422631415, 0.6565861922860372, 0.6564946979213803, 0.6564039180466265, 0.6563138319740353, 0.6562244197875269, 0.6561356623126646, 0.6560475410879466, 0.6559600383373225, 0.6558731369438681, 0.6557868204245484, 0.6557010729060135, 0.655615879101371, 0.6555312242878862, 0.6554470942855684, 0.6553634754365947, 0.6552803545855403, 0.6551977190603744, 0.6551155566541885, 0.6550338556076294, 0.6549526045920022, 0.6548717926930202, 0.6547914093951718, 0.6547114445666818, 0.6546318884450429, 0.6545527316230937, 0.6544739650356239, 0.6543955799464858, 0.6543175679361897, 0.6542399208899691, 0.6541626309862957, 0.6540856906858252, 0.6540090927207616, 0.6539328300846201, 0.6538568960223774, 0.6537812840209906, 0.6537059878002753, 0.6536310013041265, 0.653556318692069, 0.653481934331128, 0.6534078427880048, 0.6533340388215476, 0.6532605173755067, 0.6531872735715617, 0.6531143027026131, 0.6530416002263258, 0.6529691617589168, 0.6528969830691776, 0.6528250600727211, 0.6527533888264478, 0.6526819655232184, 0.6526107864867302, 0.6525398481665854, 0.6524691471335464, 0.6523986800749709, 0.6523284437904183, 0.6522584351874238, 0.6521886512774318, 0.6521190891718822, 0.6520497460784467, 0.6519806192974055, 0.6519117062181627, 0.6518430043158931, 0.6517745111483157, 0.6517062243525893, 0.6516381416423269, 0.6515702608047214, 0.6515025796977815, 0.6514350962476719, 0.6513678084461545, 0.6513007143481256, 0.6512338120692481, 0.6511670997836722, 0.6511005757218428, 0.6510342381683898, 0.6509680854600999, 0.6509021159839622, 0.6508363281752914, 0.6507707205159197, 0.6507052915324582, 0.6506400397946245, 0.650574963913633, 0.6505100625406469, 0.6504453343652884, 0.6503807781142058, 0.6503163925496945, 0.6502521764683716, 0.6501881286998984, 0.6501242481057535, 0.6500605335780519, 0.6499969840384082, 0.6499335984368435, 0.649870375750734, 0.6498073149837993, 0.6497444151651279, 0.6496816753482416, 0.649619094610195, 0.6495566720507073, 0.6494944067913297, 0.6494322979746421, 0.6493703447634818, 0.6493085463402011, 0.6492469019059525, 0.6491854106800015, 0.6491240718990653, 0.6490628848166772, 0.6490018487025734, 0.6489409628421056, 0.6488802265356735, 0.6488196390981801, 0.6487591998585078, 0.6486989081590134, 0.6486387633550429, 0.6485787648144642, 0.6485189119172193, 0.6484592040548905, 0.6483996406302854, 0.6483402210570367, 0.6482809447592175, 0.6482218111709707, 0.6481628197361528, 0.6481039699079916, 0.6480452611487558, 0.6479866929294383, 0.6479282647294503, 0.6478699760363283, 0.647811826345451, 0.6477538151597677, 0.6476959419895368, 0.647638206352074, 0.6475806077715098, 0.6475231457785575, 0.6474658199102877, 0.647408629709914, 0.6473515747265846, 0.6472946545151826, 0.6472378686361347, 0.6471812166552254, 0.6471246981434196, 0.6470683126766913, 0.6470120598358594, 0.6469559392064285, 0.646899950378437, 0.64684409294631, 0.6467883665087185, 0.6467327706684431, 0.646677305032244, 0.6466219692107346, 0.6465667628182602, 0.6465116854727826, 0.646456736795767, 0.6464019164120743, 0.6463472239498583, 0.6462926590404637, 0.6462382213183325, 0.6461839104209095, 0.6461297259885539, 0.6460756676644545, 0.6460217350945454, 0.6459679279274281, 0.6459142458142946, 0.6458606884088539, 0.6458072553672614, 0.6457539463480498, 0.6457007610120653, 0.6456476990224027, 0.645594760044346, 0.6455419437453088, 0.6454892497947787, 0.6454366778642632, 0.6453842276272367, 0.6453318987590911, 0.6452796909370871, 0.6452276038403076, 0.6451756371496129, 0.6451237905475973, 0.6450720637185483, 0.6450204563484054, 0.6449689681247226, 0.6449175987366305, 0.6448663478748013, 0.6448152152314135, 0.6447642005001195, 0.6447133033760134, 0.6446625235555998, 0.644611860736765, 0.6445613146187475, 0.6445108849021115, 0.6444605712887191, 0.6444103734817065, 0.6443602911854573, 0.6443103241055809, 0.6442604719488882, 0.64421073442337, 0.6441611112381759, 0.6441116021035934, 0.6440622067310292, 0.6440129248329887, 0.643963756123059, 0.6439147003158905, 0.64386575712718, 0.643816926273654, 0.6437682074730539, 0.643719600444119, 0.6436711049065732, 0.6436227205811101, 0.6435744471893796, 0.643526284453974, 0.6434782320984158, 0.6434302898471452, 0.6433824574255085, 0.6433347345597454, 0.6432871209769797, 0.6432396164052065, 0.6431922205732843, 0.6431449332109221, 0.6430977540486724, 0.64305068281792, 0.6430037192508737, 0.6429568630805578, 0.6429101140408027, 0.6428634718662382, 0.6428169362922839, 0.6427705070551429, 0.6427241838917938, 0.6426779665399838, 0.642631854738221, 0.6425858482257693, 0.64253994674264, 0.6424941500295868, 0.6424484578280993, 0.6424028698803972, 0.6423573859294243, 0.6423120057188432, 0.6422667289930296, 0.6422215554970683, 0.6421764849767458, 0.6421315171785478, 0.6420866518496524, 0.6420418887379278, 0.6419972275919252, 0.6419526681608764, 0.6419082101946882, 0.6418638534439396, 0.6418195976598764, 0.6417754425944086, 0.6417313880001053, 0.6416874336301922, 0.6416435792385472, 0.6415998245796974, 0.6415561694088149, 0.6415126134817147, 0.64146915655485, 0.6414257983853104, 0.6413825387308181, 0.6413393773497245, 0.6412963140010082, 0.6412533484442716, 0.6412104804397379, 0.6411677097482489, 0.6411250361312618, 0.641082459350847, 0.6410399791696848, 0.6409975953510639, 0.6409553076588784, 0.6409131158576253, 0.6408710197124023, 0.6408290189889055, 0.6407871134534268, 0.6407453028728524, 0.6407035870146595, 0.6406619656469155, 0.6406204385382751, 0.6405790054579777, 0.6405376661758471, 0.6404964204622872, 0.6404552680882819, 0.6404142088253926, 0.6403732424457558, 0.6403323687220819, 0.6402915874276529, 0.6402508983363208, 0.6402103012225057, 0.6401697958611943, 0.6401293820279376, 0.6400890594988498, 0.6400488280506063, 0.6400086874604419, 0.6399686375061494, 0.6399286779660779, 0.6398888086191312, 0.6398490292447659, 0.6398093396229902, 0.6397697395343623, 0.6397302287599886, 0.6396908070815227, 0.6396514742811633, 0.6396122301416526, 0.6395730744462755, 0.6395340069788581, 0.6394950275237653, 0.6394561358659003, 0.639417331790703, 0.6393786150841484, 0.6393399855327447, 0.6393014429235332, 0.6392629870440858, 0.6392246176825039, 0.6391863346274175, 0.639148137667983, 0.6391100265938826, 0.6390720011953229, 0.6390340612630331, 0.6389962065882638, 0.6389584369627863, 0.6389207521788904, 0.6388831520293842, 0.6388456363075913, 0.6388082048073512, 0.6387708573230167, 0.6387335936494537, 0.6386964135820388, 0.638659316916659, 0.63862230344971, 0.6385853729780954, 0.6385485252992246, 0.6385117602110127, 0.6384750775118783, 0.6384384770007427, 0.6384019584770291, 0.6383655217406603, 0.6383291665920587, 0.6382928928321443, 0.638256700262334, 0.6382205886845401, 0.638184557901169, 0.6381486077151206, 0.6381127379297865, 0.6380769483490493, 0.638041238777281, 0.6380056090193421, 0.6379700588805807, 0.6379345881668307, 0.6378991966844111, 0.6378638842401247, 0.6378286506412575, 0.6377934956955763, 0.6377584192113288, 0.6377234209972419, 0.6376885008625206, 0.6376536586168472, 0.6376188940703794, 0.6375842070337503, 0.6375495973180663, 0.6375150647349065, 0.6374806090963212, 0.6374462302148314, 0.6374119279034269, 0.6373777019755661, 0.6373435522451742, 0.6373094785266422, 0.637275480634826, 0.6372415583850453, 0.6372077115930822, 0.6371739400751808, 0.6371402436480452, 0.6371066221288392, 0.6370730753351844, 0.6370396030851603, 0.6370062051973019, 0.6369728814905997, 0.6369396317844978, 0.6369064558988935, 0.6368733536541359, 0.6368403248710246, 0.6368073693708093, 0.6367744869751881, 0.6367416775063067, 0.6367089407867572, 0.6366762766395775, 0.6366436848882496, 0.636611165356699, 0.6365787178692935, 0.6365463422508422, 0.6365140383265941, 0.6364818059222379, 0.6364496448638999, 0.6364175549781439, 0.6363855360919694, 0.6363535880328111, 0.6363217106285377, 0.6362899037074508, 0.6362581670982835, 0.6362265006302006, 0.6361949041327962, 0.6361633774360933, 0.6361319203705426, 0.6361005327670218, 0.6360692144568344, 0.6360379652717084, 0.6360067850437956, 0.6359756736056708, 0.6359446307903298, 0.63591365643119, 0.6358827503620879, 0.6358519124172786, 0.635821142431435, 0.6357904402396471, 0.6357598056774201, 0.6357292385806739, 0.635698738785742, 0.6356683061293708, 0.6356379404487185, 0.6356076415813534, 0.6355774093652541, 0.6355472436388074, 0.6355171442408085, 0.6354871110104587, 0.6354571437873651, 0.6354272424115401, 0.6353974067233993, 0.6353676365637613, 0.6353379317738467, 0.635308292195277, 0.6352787176700729, 0.6352492080406553, 0.6352197631498417, 0.6351903828408475, 0.6351610669572836, 0.6351318153431563, 0.635102627842866, 0.6350735043012058, 0.6350444445633614, 0.6350154484749096, 0.6349865158818173, 0.6349576466304412, 0.6349288405675257, 0.634900097540203, 0.6348714173959917, 0.634842799982796, 0.6348142451489047, 0.63478575274299, 0.6347573226141068, 0.634728954611692, 0.6347006485855632, 0.6346724043859179, 0.6346442218633324, 0.6346161008687614, 0.6345880412535361, 0.6345600428693645, 0.6345321055683294, 0.6345042292028882, 0.6344764136258713, 0.634448658690482, 0.6344209642502947, 0.6343933301592551, 0.634365756271678, 0.6343382424422473, 0.6343107885260147, 0.6342833943783988, 0.6342560598551844, 0.6342287848125215, 0.6342015691069244, 0.6341744125952704, 0.6341473151347998, 0.6341202765831141, 0.6340932967981757, 0.6340663756383067, 0.6340395129621875, 0.6340127086288576, 0.6339859624977127, 0.6339592744285051, 0.6339326442813424, 0.6339060719166864, 0.6338795571953527, 0.6338530999785095, 0.6338267001276767, 0.6338003575047254, 0.6337740719718763, 0.6337478433916997, 0.6337216716271138, 0.6336955565413848, 0.6336694979981244, 0.6336434958612913, 0.6336175499951882, 0.6335916602644619, 0.6335658265341023, 0.6335400486694416, 0.6335143265361534, 0.6334886600002517, 0.6334630489280906, 0.6334374931863621, 0.6334119926420972, 0.6333865471626634, 0.6333611566157645, 0.6333358208694402, 0.6333105397920641, 0.633285313252344, 0.6332601411193206, 0.6332350232623662, 0.633209959551185, 0.6331849498558111, 0.6331599940466083, 0.6331350919942692, 0.6331102435698143, 0.6330854486445908, 0.6330607070902728, 0.6330360187788593, 0.633011383582674, 0.6329868013743644, 0.6329622720269011, 0.6329377954135771, 0.6329133714080057, 0.6328889998841217, 0.6328646807161792, 0.6328404137787513, 0.6328161989467292, 0.6327920360953213, 0.6327679251000524, 0.6327438658367632, 0.6327198581816089, 0.6326959020110593, 0.6326719972018968, 0.632648143631217, 0.6326243411764266, 0.6326005897152435, 0.6325768891256954, 0.6325532392861198, 0.6325296400751623, 0.6325060913717763, 0.6324825930552224, 0.632459145005067, 0.6324357471011822, 0.6324123992237444, 0.6323891012532343, 0.6323658530704351, 0.6323426545564329, 0.6323195055926149, 0.6322964060606687, 0.632273355842583, 0.6322503548206446, 0.6322274028774392, 0.6322044998958501, 0.6321816457590579, 0.6321588403505388, 0.6321360835540646, 0.6321133752537019, 0.632090715333811, 0.6320681036790455, 0.6320455401743516, 0.6320230247049663, 0.6320005571564183, 0.6319781374145267, 0.6319557653653988, 0.6319334408954317, 0.63191116389131, 0.6318889342400055, 0.6318667518287762, 0.6318446165451663, 0.6318225282770048, 0.6318004869124046, 0.631778492339763, 0.6317565444477587, 0.6317346431253538, 0.6317127882617911, 0.6316909797465939, 0.6316692174695658, 0.6316475013207894, 0.6316258311906255, 0.6316042069697132, 0.631582628548968, 0.631561095819582, 0.6315396086730228, 0.6315181670010332, 0.6314967706956298, 0.6314754196491029, 0.6314541137540155, 0.6314328529032023, 0.6314116369897701, 0.6313904659070957, 0.6313693395488261, 0.6313482578088777, 0.6313272205814354, 0.6313062277609517, 0.6312852792421467, 0.6312643749200066, 0.6312435146897838, 0.6312226984469953, 0.6312019260874233, 0.6311811975071128, 0.6311605126023726, 0.6311398712697738, 0.6311192734061487, 0.631098718908591, 0.6310782076744551, 0.6310577396013544, 0.6310373145871614, 0.6310169325300077, 0.6309965933282816, 0.630976296880629, 0.6309560430859519, 0.6309358318434078, 0.6309156630524096, 0.6308955366126245, 0.6308754524239732, 0.6308554103866292, 0.6308354104010191, 0.6308154523678202, 0.6307955361879619, 0.6307756617626233, 0.6307558289932337, 0.630736037781471, 0.6307162880292623, 0.6306965796387816, 0.6306769125124511, 0.6306572865529385, 0.6306377016631581, 0.6306181577462695, 0.6305986547056764, 0.630579192445027, 0.6305597708682124, 0.6305403898793666, 0.6305210493828658, 0.6305017492833277, 0.6304824894856103, 0.6304632698948126, 0.6304440904162727, 0.6304249509555673, 0.6304058514185122, 0.6303867917111607, 0.6303677717398027, 0.6303487914109651, 0.6303298506314103, 0.6303109493081362, 0.6302920873483755, 0.6302732646595942, 0.6302544811494925, 0.6302357367260027, 0.6302170312972901, 0.6301983647717507, 0.6301797370580124, 0.6301611480649327, 0.6301425977015993, 0.6301240858773288, 0.6301056125016667, 0.6300871774843864, 0.6300687807354884, 0.6300504221652007, 0.6300321016839765, 0.6300138192024954, 0.6299955746316619, 0.6299773678826046, 0.6299591988666764, 0.629941067495453, 0.6299229736807332, 0.6299049173345379, 0.6298868983691092, 0.6298689166969103, 0.6298509722306247, 0.629833064883156, 0.6298151945676268, 0.6297973611973783, 0.6297795646859696, 0.6297618049471779, 0.6297440818949969, 0.6297263954436366, 0.629708745507523, 0.6296911320012976, 0.6296735548398157, 0.6296560139381476, 0.6296385092115769, 0.6296210405756001, 0.6296036079459261, 0.6295862112384758, 0.6295688503693815, 0.6295515252549861, 0.6295342358118428, 0.6295169819567145, 0.6294997636065733, 0.6294825806785996, 0.6294654330901822, 0.6294483207589173, 0.6294312436026076, 0.6294142015392629, 0.6293971944870985, 0.6293802223645352, 0.6293632850901981, 0.6293463825829171, 0.6293295147617256, 0.6293126815458604, 0.6292958828547606, 0.6292791186080674, 0.6292623887256242, 0.6292456931274748, 0.6292290317338639, 0.6292124044652359, 0.6291958112422351, 0.6291792519857043, 0.6291627266166854, 0.6291462350564175, 0.6291297772263378, 0.6291133530480795, 0.629096962443473, 0.6290806053345442, 0.6290642816435146, 0.6290479912927999, 0.6290317342050109, 0.6290155103029519, 0.6289993195096201, 0.6289831617482062, 0.628967036942093, 0.6289509450148547, 0.6289348858902571, 0.6289188594922569, 0.6289028657450004, 0.628886904572825, 0.628870975900256, 0.6288550796520083, 0.6288392157529848, 0.6288233841282764, 0.6288075847031611, 0.628791817403104, 0.6287760821537561, 0.6287603788809547, 0.6287447075107222, 0.628729067969266, 0.6287134601829775, 0.6286978840784325, 0.6286823395823901, 0.6286668266217922, 0.6286513451237632, 0.6286358950156095, 0.628620476224819, 0.6286050886790606, 0.6285897323061838, 0.6285744070342182, 0.6285591127913729, 0.628543849506036, 0.6285286171067749, 0.6285134155223344, 0.6284982446816376, 0.6284831045137843, 0.6284679949480518, 0.6284529159138933, 0.6284378673409378, 0.6284228491589898, 0.6284078612980291, 0.6283929036882093, 0.6283779762598587, 0.628363078943479, 0.6283482116697445, 0.628333374369503, 0.6283185669737739, 0.6283037894137486, 0.6282890416207898, 0.628274323526431, 0.628259635062376, 0.628244976160499, 0.6282303467528434, 0.6282157467716215, 0.6282011761492147, 0.6281866348181722, 0.628172122711211, 0.6281576397612159, 0.6281431859012376, 0.628128761064494, 0.6281143651843691, 0.6280999981944121, 0.628085660028337, 0.6280713506200234, 0.6280570699035142, 0.6280428178130167, 0.6280285942829016, 0.6280143992477025, 0.6280002326421154, 0.6279860944009985, 0.6279719844593716, 0.6279579027524161, 0.6279438492154741, 0.6279298237840478, 0.6279158263937998, 0.6279018569805522, 0.6278879154802861, 0.6278740018291415, 0.627860115963417, 0.6278462578195684, 0.6278324273342095, 0.6278186244441113, 0.6278048490862014, 0.6277911011975631, 0.6277773807154365, 0.6277636875772166, 0.6277500217204532, 0.6277363830828515, 0.6277227716022703, 0.6277091872167222, 0.6276956298643739, 0.6276820994835445, 0.6276685960127057, 0.6276551193904819, 0.6276416695556489, 0.6276282464471341, 0.6276148500040158, 0.6276014801655233, 0.6275881368710357, 0.627574820060082, 0.6275615296723409, 0.62754826564764, 0.6275350279259556, 0.6275218164474123, 0.6275086311522826, 0.6274954719809864, 0.6274823388740909, 0.6274692317723097, 0.6274561506165034, 0.6274430953476777, 0.6274300659069847, 0.627417062235721, 0.6274040842753286, 0.6273911319673937, 0.6273782052536464, 0.6273653040759608, 0.6273524283763542, 0.6273395780969866, 0.627326753180161, 0.6273139535683222, 0.6273011792040571, 0.627288430030094, 0.6272757059893019, 0.6272630070246911, 0.6272503330794118, 0.6272376840967543, 0.6272250600201487, 0.627212460793164, 0.6271998863595083, 0.6271873366630282, 0.6271748116477085, 0.6271623112576714, 0.6271498354371773, 0.6271373841306227, 0.6271249572825416, 0.6271125548376041, 0.6271001767406161, 0.6270878229365194, 0.6270754933703911, 0.627063187987443, 0.6270509067330218, 0.6270386495526081, 0.6270264163918163, 0.627014207196395, 0.6270020219122253, 0.6269898604853213, 0.62697772286183, 0.6269656089880298, 0.6269535188103315, 0.6269414522752771, 0.6269294093295397, 0.6269173899199234, 0.6269053939933623, 0.6268934214969208, 0.6268814723777935, 0.6268695465833033, 0.6268576440609034, 0.6268457647581749, 0.6268339086228275, 0.6268220756026993, 0.6268102656457556, 0.6267984787000894, 0.6267867147139206, 0.6267749736355961, 0.6267632554135888, 0.6267515599964981, 0.6267398873330488, 0.6267282373720912, 0.6267166100626006, 0.6267050053536775, 0.6266934231945462, 0.6266818635345557, 0.6266703263231783, 0.6266588115100099, 0.6266473190447697, 0.6266358488772994, 0.6266244009575638, 0.6266129752356491, 0.6266015716617641, 0.6265901901862383, 0.6265788307595234, 0.6265674933321914, 0.6265561778549349, 0.626544884278567, 0.6265336125540205, 0.6265223626323484, 0.6265111344647224, 0.6264999280024335, 0.6264887431968914, 0.6264775799996244, 0.6264664383622787, 0.6264553182366182, 0.6264442195745247, 0.6264331423279967, 0.6264220864491501, 0.6264110518902166, 0.6264000386035453, 0.6263890465416001, 0.6263780756569614, 0.6263671259023246, 0.6263561972305003, 0.6263452895944136, 0.6263344029471046, 0.6263235372417271, 0.626312692431549, 0.6263018684699515, 0.6262910653104297, 0.626280282906591, 0.626269521212156, 0.6262587801809574, 0.6262480597669403, 0.6262373599241611, 0.6262266806067884, 0.6262160217691015, 0.6262053833654911, 0.6261947653504583, 0.6261841676786145, 0.6261735903046813, 0.6261630331834902, 0.6261524962699823, 0.6261419795192075, 0.6261314828863253, 0.626121006326603, 0.6261105497954171, 0.626100113248252, 0.6260896966406996, 0.6260792999284599, 0.6260689230673395, 0.6260585660132526, 0.6260482287222195, 0.6260379111503679, 0.6260276132539305, 0.6260173349892467, 0.6260070763127612, 0.6259968371810243, 0.6259866175506907, 0.6259764173785207, 0.6259662366213788, 0.6259560752362335, 0.6259459331801579, 0.625935810410328, 0.6259257068840238, 0.6259156225586285, 0.6259055573916279, 0.6258955113406106, 0.6258854843632675, 0.6258754764173919, 0.6258654874608787, 0.6258555174517243, 0.6258455663480266, 0.6258356341079845, 0.6258257206898975, 0.6258158260521662, 0.625805950153291, 0.6257960929518723, 0.6257862544066106, 0.6257764344763055, 0.6257666331198561, 0.6257568502962607, 0.6257470859646156, 0.6257373400841163, 0.6257276126140563, 0.6257179035138271, 0.6257082127429178, 0.6256985402609149, 0.6256888860275024, 0.6256792500024609, 0.6256696321456683, 0.6256600324170982, 0.625650450776821, 0.6256408871850029, 0.6256313416019055, 0.6256218139878865, 0.6256123043033983, 0.6256028125089885, 0.6255933385652994, 0.6255838824330677, 0.6255744440731247, 0.6255650234463951, 0.6255556205138979, 0.6255462352367454, 0.6255368675761431, 0.6255275174933898, 0.625518184949877, 0.6255088699070885, 0.6254995723266006, 0.625490292170082, 0.6254810293992927, 0.6254717839760848, 0.6254625558624013, 0.6254533450202768, 0.6254441514118366, 0.6254349749992967, 0.6254258157449631, 0.625416673611233, 0.6254075485605928, 0.6253984405556186, 0.6253893495589765, 0.6253802755334216, 0.6253712184417981, 0.625362178247039, 0.6253531549121659, 0.6253441484002888, 0.6253351586746058, 0.6253261856984031, 0.6253172294350541, 0.6253082898480202, 0.6252993669008502, 0.6252904605571789, 0.6252815707807289, 0.625272697535309, 0.6252638407848143, 0.6252550004932262, 0.6252461766246119, 0.6252373691431242, 0.6252285780130016, 0.6252198031985675, 0.6252110446642306, 0.6252023023744845, 0.6251935762939069, 0.6251848663871606, 0.625176172618992, 0.6251674949542315, 0.6251588333577937, 0.625150187794676, 0.6251415582299595, 0.6251329446288088, 0.6251243469564703, 0.625115765178274, 0.6251071992596322, 0.6250986491660391, 0.6250901148630712, 0.6250815963163865, 0.6250730934917251, 0.6250646063549083, 0.6250561348718383, 0.6250476790084989, 0.6250392387309539, 0.6250308140053484, 0.6250224047979074, 0.6250140110749365, 0.6250056328028205, 0.6249972699480248, 0.6249889224770939, 0.6249805903566518, 0.6249722735534016, 0.624963972034125, 0.6249556857656832, 0.6249474147150151, 0.6249391588491384, 0.6249309181351492, 0.6249226925402211, 0.6249144820316055, 0.6249062865766313, 0.6248981061427049, 0.6248899406973101, 0.6248817902080068, 0.6248736546424327, 0.6248655339683012, 0.6248574281534027, 0.6248493371656035, 0.6248412609728458, 0.6248331995431476, 0.6248251528446027, 0.62481712084538, 0.6248091035137239, 0.6248011008179536, 0.6247931127264632, 0.6247851392077214, 0.6247771802302714, 0.6247692357627307, 0.6247613057737907, 0.6247533902322169, 0.624745489106848, 0.624737602366597, 0.6247297299804497, 0.624721871917465, 0.6247140281467747, 0.6247061986375837, 0.6246983833591694, 0.624690582280881, 0.624682795372141, 0.6246750226024429, 0.6246672639413524, 0.6246595193585072, 0.6246517888236159, 0.6246440723064586, 0.6246363697768869, 0.6246286812048225, 0.6246210065602589, 0.6246133458132593, 0.6246056989339577, 0.6245980658925582, 0.6245904466593349, 0.6245828412046321, 0.6245752494988634, 0.6245676715125119, 0.6245601072161303, 0.6245525565803401, 0.6245450195758323, 0.6245374961733662, 0.6245299863437698, 0.6245224900579399, 0.6245150072868414, 0.624507538001507, 0.6245000821730379, 0.6244926397726026, 0.6244852107714374, 0.6244777951408462, 0.6244703928521997, 0.6244630038769362, 0.6244556281865604, 0.6244482657526442, 0.6244409165468258, 0.6244335805408099, 0.6244262577063673, 0.6244189480153352, 0.6244116514396165, 0.6244043679511798, 0.6243970975220593, 0.6243898401243546, 0.6243825957302308, 0.6243753643119176, 0.6243681458417101, 0.6243609402919679, 0.624353747635115, 0.6243465678436403, 0.6243394008900965, 0.6243322467471009, 0.6243251053873342, 0.6243179767835412, 0.6243108609085304, 0.6243037577351733, 0.6242966672364054, 0.6242895893852246, 0.6242825241546922, 0.6242754715179325, 0.6242684314481318, 0.6242614039185398, 0.6242543889024676, 0.6242473863732894, 0.6242403963044405, 0.6242334186694191, 0.6242264534417842, 0.624219500595157, 0.6242125601032197, 0.6242056319397161, 0.6241987160784509, 0.6241918124932897, 0.6241849211581592, 0.6241780420470463, 0.6241711751339988, 0.6241643203931247, 0.624157477798592, 0.6241506473246292, 0.6241438289455242, 0.624137022635625, 0.6241302283693386, 0.6241234461211325, 0.6241166758655325, 0.6241099175771238, 0.6241031712305509, 0.6240964368005171, 0.6240897142617838, 0.6240830035891718, 0.6240763047575597, 0.6240696177418845, 0.6240629425171417, 0.6240562790583841, 0.6240496273407228, 0.6240429873393264, 0.6240363590294211, 0.6240297423862905, 0.6240231373852753, 0.6240165440017735, 0.62400996221124, 0.6240033919891864, 0.6239968333111813, 0.6239902861528491, 0.6239837504898716, 0.6239772262979861, 0.6239707135529864, 0.6239642122307218, 0.6239577223070981, 0.6239512437580764, 0.6239447765596731, 0.6239383206879607, 0.6239318761190664, 0.623925442829173, 0.6239190207945174, 0.6239126099913928, 0.6239062103961456, 0.623899821985178, 0.6238934447349459, 0.6238870786219599, 0.6238807236227846, 0.6238743797140388, 0.6238680468723949, 0.6238617250745797, 0.6238554142973729, 0.6238491145176083, 0.6238428257121726, 0.6238365478580062, 0.6238302809321024, 0.6238240249115072, 0.6238177797733201, 0.6238115454946926, 0.6238053220528296, 0.6237991094249875, 0.6237929075884757, 0.6237867165206556, 0.6237805361989408, 0.6237743666007964, 0.62376820770374, 0.6237620594853402, 0.6237559219232176, 0.6237497949950441, 0.6237436786785427, 0.623737572951488, 0.623731477791705, 0.6237253931770702, 0.6237193190855107, 0.6237132554950042, 0.6237072023835789, 0.6237011597293135, 0.6236951275103372, 0.6236891057048287, 0.6236830942910174, 0.6236770932471825, 0.6236711025516525, 0.6236651221828062, 0.6236591521190715, 0.6236531923389264, 0.6236472428208969, 0.6236413035435595, 0.623635374485539, 0.6236294556255094, 0.6236235469421936, 0.6236176484143628, 0.6236117600208373, 0.6236058817404853, 0.6236000135522236, 0.6235941554350175, 0.6235883073678798, 0.6235824693298718, 0.6235766413001024, 0.6235708232577281, 0.6235650151819533, 0.6235592170520299, 0.6235534288472567, 0.6235476505469806, 0.623541882130595, 0.6235361235775404, 0.6235303748673043, 0.6235246359794213, 0.6235189068934726, 0.6235131875890849, 0.6235074780459332, 0.6235017782437374, 0.6234960881622643, 0.6234904077813267, 0.6234847370807831, 0.6234790760405383, 0.6234734246405427, 0.6234677828607923, 0.6234621506813286, 0.6234565280822388, 0.6234509150436552, 0.6234453115457557, 0.6234397175687624, 0.6234341330929434, 0.6234285580986111, 0.6234229925661228, 0.6234174364758807, 0.6234118898083311, 0.6234063525439649, 0.6234008246633178, 0.6233953061469691, 0.6233897969755423, 0.6233842971297053, 0.6233788065901696, 0.6233733253376905, 0.6233678533530671, 0.6233623906171418, 0.6233569371108008, 0.6233514928149735, 0.6233460577106327, 0.6233406317787942, 0.6233352150005167, 0.6233298073569022, 0.6233244088290953, 0.6233190193982834, 0.6233136390456964, 0.6233082677526071, 0.6233029055003299, 0.6232975522702227, 0.6232922080436843, 0.6232868728021569, 0.6232815465271236, 0.6232762292001102, 0.6232709208026835, 0.623265621316453, 0.6232603307230689, 0.6232550490042231, 0.6232497761416493, 0.6232445121171222, 0.6232392569124575, 0.6232340105095123, 0.6232287728901845, 0.6232235440364131, 0.6232183239301775, 0.6232131125534982, 0.623207909888436, 0.6232027159170923, 0.6231975306216091, 0.6231923539841682, 0.623187185986992, 0.6231820266123427, 0.6231768758425229, 0.6231717336598745, 0.6231666000467802, 0.623161474985661, 0.6231563584589787, 0.6231512504492341, 0.6231461509389674, 0.6231410599107583, 0.6231359773472256, 0.6231309032310275, 0.6231258375448605, 0.623120780271461, 0.6231157313936034, 0.6231106908941015, 0.6231056587558075, 0.6231006349616118, 0.623095619494444, 0.6230906123372715, 0.6230856134731001, 0.6230806228849738, 0.6230756405559749, 0.6230706664692235, 0.6230657006078776, 0.623060742955133, 0.6230557934942234, 0.62305085220842, 0.6230459190810315, 0.6230409940954041, 0.6230360772349214, 0.6230311684830043, 0.6230262678231109, 0.623021375238736, 0.6230164907134119, 0.6230116142307077, 0.6230067457742291, 0.6230018853276188, 0.6229970328745558, 0.622992188398756, 0.6229873518839717, 0.6229825233139913, 0.6229777026726399, 0.6229728899437784, 0.6229680851113041, 0.6229632881591503, 0.622958499071286, 0.6229537178317163, 0.622948944424482, 0.6229441788336595, 0.622939421043361, 0.6229346710377338, 0.622929928800961, 0.622925194317261, 0.6229204675708873, 0.6229157485461286, 0.6229110372273087, 0.6229063335987863, 0.6229016376449552, 0.622896949350244, 0.622892268699116, 0.6228875956760689, 0.6228829302656352, 0.6228782724523821, 0.622873622220911, 0.6228689795558575, 0.6228643444418916, 0.6228597168637174, 0.6228550968060733, 0.6228504842537312, 0.6228458791914973, 0.6228412816042116, 0.6228366914767477, 0.6228321087940131, 0.6228275335409487, 0.6228229657025289, 0.6228184052637615, 0.6228138522096879, 0.6228093065253825, 0.6228047681959529, 0.62280023720654, 0.6227957135423176, 0.6227911971884924, 0.622786688130304, 0.6227821863530248, 0.6227776918419601, 0.6227732045824473, 0.6227687245598572, 0.622764251759592, 0.6227597861670872, 0.6227553277678104, 0.622750876547261, 0.6227464324909713, 0.6227419955845047, 0.6227375658134578, 0.6227331431634583, 0.6227287276201658, 0.6227243191692721, 0.6227199177965005, 0.6227155234876055, 0.6227111362283739, 0.6227067560046238, 0.6227023828022041, 0.6226980166069956, 0.6226936574049102, 0.6226893051818911, 0.6226849599239124, 0.6226806216169792, 0.6226762902471278, 0.6226719658004253, 0.6226676482629693, 0.6226633376208885, 0.6226590338603423, 0.6226547369675203, 0.6226504469286428, 0.6226461637299608, 0.6226418873577553, 0.6226376177983377, 0.6226333550380497, 0.6226290990632631, 0.6226248498603798, 0.6226206074158316, 0.6226163717160804, 0.6226121427476179, 0.6226079204969656, 0.6226037049506744, 0.6225994960953255, 0.6225952939175291, 0.6225910984039252, 0.6225869095411831, 0.6225827273160017, 0.6225785517151089, 0.622574382725262, 0.6225702203332474, 0.6225660645258806, 0.622561915290006, 0.6225577726124975, 0.6225536364802569, 0.6225495068802156, 0.6225453837993337, 0.6225412672245996, 0.6225371571430304, 0.6225330535416721, 0.6225289564075988, 0.622524865727913, 0.6225207814897458, 0.6225167036802562, 0.6225126322866319, 0.6225085672960884, 0.6225045086958692, 0.622500456473246, 0.6224964106155184, 0.6224923711100138, 0.6224883379440872, 0.622484311105122, 0.6224802905805286, 0.6224762763577454, 0.622472268424238, 0.6224682667674998, 0.6224642713750512, 0.6224602822344406, 0.6224562993332431, 0.6224523226590614, 0.6224483521995248, 0.6224443879422904, 0.6224404298750418, 0.6224364779854898, 0.6224325322613721, 0.6224285926904529, 0.6224246592605237, 0.6224207319594022, 0.6224168107749334, 0.6224128956949878, 0.6224089867074637, 0.6224050838002848, 0.6224011869614018, 0.6223972961787916, 0.622393411440457, 0.6223895327344274, 0.6223856600487586, 0.6223817933715318, 0.6223779326908545, 0.6223740779948604, 0.6223702292717088, 0.622366386509585, 0.6223625496966999, 0.6223587188212903, 0.6223548938716186, 0.6223510748359726, 0.622347261702666, 0.6223434544600376, 0.622339653096452, 0.6223358576002986, 0.6223320679599929, 0.6223282841639746, 0.6223245062007094, 0.6223207340586879, 0.6223169677264256, 0.6223132071924632, 0.622309452445366, 0.6223057034737245, 0.622301960266154, 0.6222982228112944, 0.6222944910978107, 0.6222907651143917, 0.6222870448497516, 0.6222833302926288, 0.6222796214317863, 0.6222759182560114, 0.6222722207541157, 0.6222685289149353, 0.6222648427273303, 0.6222611621801852, 0.6222574872624087, 0.622253817962933, 0.6222501542707151, 0.6222464961747355, 0.6222428436639987, 0.6222391967275328, 0.6222355553543903, 0.6222319195336469, 0.622228289254402, 0.622224664505779, 0.6222210452769245, 0.6222174315570088, 0.6222138233352257, 0.6222102206007921, 0.6222066233429487, 0.6222030315509591, 0.6221994452141103, 0.6221958643217125, 0.6221922888630991, 0.6221887188276263, 0.6221851542046737, 0.6221815949836436, 0.6221780411539612, 0.6221744927050749, 0.6221709496264555, 0.6221674119075965, 0.6221638795380148, 0.6221603525072491, 0.6221568308048613, 0.6221533144204355, 0.6221498033435784, 0.6221462975639193, 0.6221427970711092, 0.6221393018548226, 0.6221358119047552, 0.6221323272106257, 0.6221288477621743, 0.622125373549164, 0.6221219045613793, 0.6221184407886271, 0.622114982220736, 0.6221115288475567, 0.6221080806589621, 0.6221046376448459, 0.6221011997951246, 0.6220977670997362, 0.6220943395486398, 0.6220909171318167, 0.6220874998392696, 0.6220840876610226, 0.6220806805871214, 0.6220772786076333, 0.6220738817126463, 0.6220704898922704, 0.6220671031366367, 0.6220637214358973, 0.6220603447802258, 0.6220569731598163, 0.6220536065648848, 0.6220502449856679, 0.622046888412423, 0.6220435368354286, 0.6220401902449844, 0.6220368486314101, 0.622033511985047, 0.6220301802962568, 0.6220268535554221, 0.6220235317529453, 0.6220202148792507, 0.6220169029247822, 0.6220135958800043, 0.6220102937354022, 0.6220069964814814, 0.6220037041087677, 0.6220004166078072, 0.6219971339691664, 0.621993856183432, 0.6219905832412103, 0.6219873151331285, 0.6219840518498334, 0.6219807933819922, 0.6219775397202916, 0.6219742908554385, 0.6219710467781596, 0.6219678074792016, 0.6219645729493305, 0.6219613431793329, 0.6219581181600145, 0.6219548978822005, 0.6219516823367361, 0.621948471514486, 0.6219452654063342, 0.6219420640031845, 0.6219388672959599, 0.6219356752756027, 0.6219324879330749, 0.6219293052593573, 0.6219261272454503, 0.6219229538823734, 0.6219197851611654, 0.621916621072884, 0.621913461608606, 0.6219103067594274, 0.621907156516463, 0.6219040108708467, 0.621900869813731, 0.6218977333362877, 0.6218946014297071, 0.6218914740851982, 0.6218883512939891, 0.6218852330473261, 0.6218821193364745, 0.6218790101527183, 0.6218759054873594, 0.6218728053317186, 0.6218697096771357, 0.621866618514968, 0.6218635318365919, 0.6218604496334015, 0.6218573718968099, 0.6218542986182478, 0.6218512297891645, 0.6218481654010276, 0.6218451054453222, 0.6218420499135522, 0.6218389987972391, 0.6218359520879227, 0.6218329097771604, 0.6218298718565278, 0.6218268383176186, 0.6218238091520436, 0.6218207843514321, 0.6218177639074308, 0.6218147478117044, 0.6218117360559349, 0.6218087286318223, 0.6218057255310842, 0.6218027267454551, 0.6217997322666879, 0.6217967420865523, 0.6217937561968362, 0.621790774589344, 0.621787797255898, 0.6217848241883377, 0.6217818553785198, 0.6217788908183183, 0.6217759304996247, 0.6217729744143469, 0.6217700225544105, 0.6217670749117584, 0.6217641314783499, 0.6217611922461616, 0.6217582572071871, 0.621755326353437, 0.6217523996769385, 0.6217494771697358, 0.6217465588238902, 0.6217436446314792, 0.6217407345845977, 0.6217378286753565, 0.6217349268958837, 0.6217320292383237, 0.6217291356948378, 0.6217262462576035, 0.6217233609188149, 0.6217204796706824, 0.6217176025054333, 0.621714729415311, 0.6217118603925752, 0.621708995429502, 0.6217061345183835, 0.6217032776515289, 0.6217004248212625, 0.6216975760199254, 0.6216947312398748, 0.621691890473484, 0.6216890537131421, 0.6216862209512544, 0.6216833921802422, 0.6216805673925428, 0.6216777465806093, 0.6216749297369106, 0.6216721168539319, 0.6216693079241734, 0.6216665029401518, 0.6216637018943992, 0.6216609047794637, 0.6216581115879085, 0.6216553223123128, 0.6216525369452715, 0.6216497554793946, 0.6216469779073084, 0.6216442042216539, 0.6216414344150879, 0.6216386684802825, 0.6216359064099253, 0.6216331481967192, 0.6216303938333825, 0.6216276433126484, 0.6216248966272659, 0.621622153769999, 0.6216194147336265, 0.6216166795109427, 0.6216139480947571, 0.621611220477894, 0.621608496653193, 0.6216057766135081, 0.6216030603517092, 0.6216003478606803, 0.621597639133321, 0.6215949341625452, 0.6215922329412819, 0.6215895354624748, 0.6215868417190822, 0.6215841517040777, 0.621581465410449, 0.6215787828311989, 0.6215761039593444, 0.6215734287879174, 0.6215707573099646, 0.6215680895185464, 0.6215654254067385, 0.621562764967631, 0.6215601081943278, 0.621557455079948, 0.6215548056176246, 0.6215521598005048, 0.6215495176217507, 0.6215468790745382, 0.6215442441520576, 0.6215416128475132, 0.6215389851541238, 0.6215363610651221, 0.6215337405737551, 0.6215311236732838, 0.621528510356983, 0.6215259006181421, 0.6215232944500639, 0.6215206918460655, 0.6215180927994777, 0.6215154973036453, 0.6215129053519272, 0.6215103169376958, 0.6215077320543371, 0.6215051506952515, 0.6215025728538527, 0.6214999985235681, 0.6214974276978391, 0.6214948603701206, 0.6214922965338805, 0.6214897361826012, 0.6214871793097784, 0.6214846259089208, 0.6214820759735514, 0.6214795294972059, 0.6214769864734341, 0.6214744468957986, 0.6214719107578756, 0.6214693780532549, 0.6214668487755395, 0.6214643229183452, 0.6214618004753016, 0.6214592814400515, 0.6214567658062506, 0.621454253567568, 0.6214517447176857, 0.6214492392502992, 0.6214467371591162, 0.6214442384378589, 0.621441743080261, 0.6214392510800703, 0.6214367624310468, 0.621434277126964, 0.6214317951616078, 0.6214293165287774, 0.6214268412222845, 0.621424369235954, 0.6214219005636232, 0.6214194351991424, 0.6214169731363745, 0.6214145143691949, 0.6214120588914922, 0.6214096066971674, 0.6214071577801337, 0.6214047121343176, 0.6214022697536576, 0.621399830632105, 0.6213973947636238, 0.6213949621421897, 0.6213925327617916, 0.6213901066164307, 0.6213876837001202, 0.6213852640068861, 0.6213828475307667, 0.621380434265812, 0.6213780242060853, 0.6213756173456613, 0.6213732136786271, 0.6213708131990824, 0.6213684159011387, 0.6213660217789198, 0.6213636308265613, 0.6213612430382114, 0.6213588584080301, 0.6213564769301894, 0.6213540985988731, 0.6213517234082777, 0.6213493513526109, 0.6213469824260927, 0.6213446166229549, 0.6213422539374411, 0.621339894363807, 0.6213375378963201, 0.6213351845292592, 0.6213328342569154, 0.6213304870735915, 0.6213281429736018, 0.6213258019512726, 0.6213234640009413, 0.6213211291169576, 0.6213187972936824, 0.6213164685254883, 0.6213141428067596, 0.6213118201318917, 0.6213095004952922, 0.6213071838913796, 0.621304870314584, 0.6213025597593473, 0.6213002522201222, 0.6212979476913734, 0.6212956461675764, 0.6212933476432184, 0.6212910521127979, 0.6212887595708243, 0.6212864700118189, 0.6212841834303136, 0.621281899820852, 0.6212796191779886, 0.6212773414962892, 0.6212750667703306, 0.6212727949947008, 0.6212705261639988, 0.6212682602728349, 0.62126599731583, 0.6212637372876166, 0.6212614801828378, 0.6212592259961477, 0.6212569747222112, 0.6212547263557046, 0.6212524808913145, 0.6212502383237388, 0.6212479986476862, 0.6212457618578759, 0.621243527949038, 0.621241296915914, 0.6212390687532551, 0.6212368434558241, 0.621234621018394, 0.6212324014357486, 0.6212301847026824, 0.6212279708140006, 0.6212257597645189, 0.6212235515490636, 0.6212213461624715, 0.6212191435995901, 0.6212169438552771, 0.6212147469244013, 0.6212125528018413, 0.6212103614824865, 0.6212081729612364, 0.6212059872330015, 0.621203804292702, 0.6212016241352691, 0.6211994467556438, 0.6211972721487776, 0.6211951003096322, 0.6211929312331796, 0.6211907649144025, 0.621188601348293, 0.621186440529854, 0.6211842824540983, 0.6211821271160487, 0.6211799745107388, 0.6211778246332114, 0.62117567747852, 0.6211735330417282, 0.6211713913179091, 0.6211692523021464, 0.6211671159895333, 0.6211649823751734, 0.6211628514541802, 0.6211607232216765, 0.6211585976727958, 0.6211564748026812, 0.6211543546064857, 0.6211522370793721, 0.6211501222165128, 0.6211480100130903, 0.6211459004642967, 0.6211437935653342, 0.6211416893114142, 0.6211395876977583, 0.6211374887195975, 0.6211353923721724, 0.6211332986507335, 0.621131207550541, 0.6211291190668642, 0.6211270331949826, 0.6211249499301849, 0.6211228692677693, 0.6211207912030438, 0.6211187157313256, 0.6211166428479419, 0.6211145725482285, 0.6211125048275314, 0.6211104396812058, 0.6211083771046163, 0.6211063170931365, 0.6211042596421499, 0.6211022047470492, 0.6211001524032363, 0.6210981026061224, 0.6210960553511282, 0.621094010633683, 0.6210919684492263, 0.6210899287932062, 0.62108789166108, 0.6210858570483143, 0.621083824950385, 0.621081795362777, 0.6210797682809842, 0.6210777437005096, 0.6210757216168655, 0.6210737020255731, 0.6210716849221628, 0.6210696703021737, 0.6210676581611542, 0.6210656484946615, 0.6210636412982617, 0.6210616365675304, 0.6210596342980512, 0.6210576344854173, 0.6210556371252305, 0.6210536422131016, 0.62105164974465, 0.6210496597155041, 0.6210476721213013, 0.6210456869576874, 0.621043704220317, 0.6210417239048538, 0.62103974600697, 0.6210377705223464, 0.6210357974466727, 0.621033826775647, 0.6210318585049766, 0.6210298926303767, 0.6210279291475714, 0.6210259680522938, 0.6210240093402851, 0.6210220530072952, 0.6210200990490825, 0.6210181474614139, 0.621016198240065, 0.6210142513808198, 0.6210123068794705, 0.6210103647318181, 0.6210084249336719, 0.6210064874808494, 0.6210045523691768, 0.6210026195944889, 0.621000689152628, 0.6209987610394455, 0.620996835250801, 0.6209949117825618, 0.6209929906306045, 0.6209910717908131, 0.6209891552590804, 0.6209872410313071, 0.6209853291034021, 0.6209834194712829, 0.6209815121308745, 0.6209796070781107, 0.6209777043089333, 0.6209758038192918, 0.6209739056051443, 0.6209720096624568, 0.6209701159872034, 0.620968224575366, 0.6209663354229352, 0.6209644485259088, 0.6209625638802931, 0.6209606814821024, 0.6209588013273586, 0.6209569234120921, 0.6209550477323407, 0.6209531742841503, 0.6209513030635748, 0.620949434066676, 0.6209475672895234, 0.6209457027281945, 0.6209438403787745, 0.6209419802373564, 0.6209401223000411, 0.6209382665629374, 0.6209364130221616, 0.6209345616738379, 0.620932712514098, 0.6209308655390817, 0.6209290207449364, 0.620927178127817, 0.6209253376838857, 0.6209234994093134, 0.6209216633002778, 0.6209198293529644, 0.6209179975635664, 0.6209161679282843, 0.6209143404433267, 0.6209125151049092, 0.6209106919092552, 0.6209088708525956, 0.6209070519311687, 0.6209052351412205, 0.6209034204790043, 0.6209016079407809, 0.6208997975228182, 0.6208979892213924, 0.6208961830327858, 0.6208943789532895, 0.620892576979201, 0.6208907771068255, 0.6208889793324754, 0.6208871836524708, 0.6208853900631386, 0.620883598560813, 0.6208818091418362, 0.6208800218025569, 0.6208782365393312, 0.6208764533485226, 0.620874672226502, 0.6208728931696469, 0.6208711161743425, 0.6208693412369811, 0.6208675683539621, 0.6208657975216917, 0.6208640287365838, 0.6208622619950589, 0.6208604972935451, 0.620858734628477, 0.6208569739962968, 0.6208552153934533, 0.6208534588164029, 0.6208517042616082, 0.6208499517255395, 0.620848201204674, 0.6208464526954952, 0.6208447061944948, 0.6208429616981703, 0.6208412192030265, 0.6208394787055753, 0.6208377402023353, 0.620836003689832, 0.620834269164598, 0.6208325366231724, 0.6208308060621013, 0.6208290774779377, 0.6208273508672412, 0.6208256262265787, 0.620823903552523, 0.6208221828416546, 0.6208204640905599, 0.620818747295833, 0.6208170324540737, 0.6208153195618893, 0.6208136086158935, 0.6208118996127066, 0.6208101925489555, 0.6208084874212741, 0.6208067842263028, 0.6208050829606883, 0.6208033836210843, 0.6208016862041509, 0.620799990706555, 0.6207982971249698, 0.6207966054560751, 0.6207949156965572, 0.6207932278431094, 0.6207915418924309, 0.6207898578412278, 0.6207881756862121, 0.6207864954241031, 0.620784817051626, 0.6207831405655126, 0.6207814659625012, 0.6207797932393364, 0.620778122392769, 0.6207764534195568, 0.6207747863164632, 0.6207731210802587, 0.6207714577077198, 0.6207697961956291, 0.6207681365407758, 0.6207664787399555, 0.6207648227899698, 0.6207631686876269, 0.6207615164297411, 0.6207598660131328, 0.620758217434629, 0.6207565706910625, 0.6207549257792727, 0.620753282696105, 0.6207516414384111, 0.6207500020030486, 0.6207483643868815, 0.6207467285867803, 0.6207450945996208, 0.6207434624222855, 0.6207418320516629, 0.6207402034846476, 0.6207385767181403, 0.6207369517490476, 0.6207353285742823, 0.6207337071907634, 0.6207320875954155, 0.6207304697851697, 0.620728853756963, 0.6207272395077376, 0.6207256270344431, 0.6207240163340342, 0.6207224074034715, 0.6207208002397218, 0.6207191948397577, 0.6207175912005579, 0.6207159893191069, 0.6207143891923947, 0.6207127908174181, 0.6207111941911789, 0.6207095993106853, 0.6207080061729509, 0.6207064147749953, 0.6207048251138443, 0.6207032371865289, 0.6207016509900863, 0.6207000665215593, 0.6206984837779966, 0.6206969027564525, 0.6206953234539874, 0.6206937458676666, 0.6206921699945623, 0.6206905958317513, 0.6206890233763169, 0.6206874526253477, 0.6206858835759381, 0.6206843162251878, 0.6206827505702028, 0.6206811866080943, 0.6206796243359793, 0.6206780637509802, 0.6206765048502251, 0.620674947630848, 0.6206733920899878, 0.6206718382247899, 0.6206702860324042, 0.6206687355099869, 0.6206671866546996, 0.6206656394637091, 0.6206640939341881, 0.6206625500633145, 0.620661007848272, 0.6206594672862493, 0.6206579283744412, 0.6206563911100472, 0.620654855490273, 0.6206533215123292, 0.620651789173432, 0.6206502584708028, 0.6206487294016688, 0.6206472019632625, 0.6206456761528212, 0.6206441519675884, 0.6206426294048121, 0.6206411084617466, 0.6206395891356506, 0.6206380714237887, 0.6206365553234305, 0.6206350408318513, 0.620633527946331, 0.6206320166641552, 0.6206305069826151, 0.6206289988990065, 0.6206274924106306, 0.6206259875147943, 0.6206244842088089, 0.6206229824899917, 0.6206214823556646, 0.6206199838031552, 0.6206184868297957, 0.620616991432924, 0.6206154976098828, 0.6206140053580199, 0.6206125146746888, 0.6206110255572473, 0.6206095380030591, 0.6206080520094921, 0.6206065675739201, 0.6206050846937216, 0.6206036033662802, 0.6206021235889846, 0.6206006453592284, 0.6205991686744108, 0.620597693531935, 0.62059621992921, 0.6205947478636498, 0.620593277332673, 0.6205918083337033, 0.6205903408641694, 0.6205888749215053, 0.6205874105031493, 0.6205859476065452, 0.6205844862291414, 0.6205830263683912, 0.6205815680217532, 0.6205801111866905, 0.6205786558606712, 0.6205772020411683, 0.6205757497256599, 0.6205742989116281, 0.6205728495965611, 0.6205714017779511, 0.6205699554532954, 0.6205685106200957, 0.6205670672758592, 0.6205656254180976, 0.6205641850443271, 0.6205627461520687, 0.6205613087388492, 0.6205598728021985, 0.6205584383396524, 0.6205570053487512, 0.6205555738270399, 0.6205541437720677, 0.6205527151813895, 0.6205512880525642, 0.6205498623831556, 0.620548438170732, 0.6205470154128665, 0.6205455941071372, 0.620544174251126, 0.6205427558424201, 0.6205413388786116, 0.6205399233572962, 0.6205385092760753, 0.6205370966325542, 0.6205356854243429, 0.6205342756490563, 0.6205328673043135, 0.6205314603877383, 0.6205300548969592, 0.6205286508296092, 0.6205272481833255, 0.6205258469557502, 0.6205244471445297, 0.6205230487473152, 0.6205216517617621, 0.6205202561855303, 0.6205188620162845, 0.6205174692516932, 0.6205160778894301, 0.6205146879271731, 0.6205132993626044, 0.6205119121934106, 0.6205105264172828, 0.6205091420319169, 0.6205077590350125, 0.6205063774242742, 0.6205049971974105, 0.6205036183521346, 0.6205022408861641, 0.6205008647972208, 0.6204994900830307, 0.6204981167413246, 0.6204967447698371, 0.6204953741663076, 0.6204940049284797, 0.6204926370541008, 0.6204912705409233, 0.6204899053867036, 0.6204885415892023, 0.6204871791461843, 0.6204858180554189, 0.6204844583146795, 0.6204830999217437, 0.6204817428743937, 0.6204803871704153, 0.6204790328075992, 0.6204776797837397, 0.6204763280966357, 0.6204749777440904, 0.6204736287239107, 0.6204722810339077, 0.6204709346718975, 0.6204695896356993, 0.6204682459231371, 0.6204669035320386, 0.6204655624602362, 0.6204642227055659, 0.6204628842658679, 0.6204615471389868, 0.6204602113227712, 0.6204588768150734, 0.6204575436137502, 0.6204562117166623, 0.6204548811216748, 0.6204535518266562, 0.6204522238294796, 0.6204508971280219, 0.6204495717201641, 0.6204482476037912, 0.6204469247767922, 0.6204456032370602, 0.6204442829824921, 0.620442964010989, 0.6204416463204558, 0.6204403299088014, 0.620439014773939, 0.6204377009137854, 0.620436388326261, 0.6204350770092911, 0.6204337669608042, 0.6204324581787329, 0.6204311506610138, 0.6204298444055872, 0.6204285394103976, 0.6204272356733932, 0.620425933192526, 0.6204246319657521, 0.6204233319910316, 0.6204220332663277, 0.6204207357896083, 0.6204194395588448, 0.6204181445720124, 0.6204168508270902, 0.6204155583220612, 0.6204142670549118, 0.6204129770236327, 0.6204116882262183, 0.6204104006606668, 0.6204091143249797, 0.620407829217163, 0.6204065453352258, 0.6204052626771817, 0.6204039812410472, 0.6204027010248432, 0.6204014220265942, 0.620400144244328, 0.6203988676760768, 0.620397592319876, 0.620396318173765, 0.6203950452357864, 0.6203937735039873, 0.6203925029764177, 0.6203912336511318, 0.6203899655261873, 0.6203886985996454, 0.6203874328695713, 0.6203861683340333, 0.6203849049911039, 0.6203836428388589, 0.6203823818753779, 0.6203811220987441, 0.6203798635070439, 0.6203786060983681, 0.6203773498708104, 0.6203760948224682, 0.6203748409514428, 0.6203735882558388, 0.6203723367337644, 0.6203710863833313, 0.6203698372026549, 0.6203685891898542, 0.6203673423430515, 0.6203660966603727, 0.6203648521399472, 0.620363608779908, 0.6203623665783919, 0.6203611255335385, 0.6203598856434913, 0.6203586469063973, 0.6203574093204068, 0.620356172883674, 0.6203549375943559, 0.6203537034506136, 0.620352470450611, 0.6203512385925162, 0.6203500078745001, 0.6203487782947372, 0.6203475498514057, 0.620346322542687, 0.6203450963667655, 0.6203438713218298, 0.6203426474060714, 0.6203414246176852, 0.6203402029548697, 0.6203389824158263, 0.6203377629987605, 0.6203365447018806, 0.6203353275233983, 0.6203341114615288, 0.6203328965144906, 0.6203316826805058, 0.620330469957799, 0.620329258344599, 0.6203280478391374, 0.6203268384396495, 0.6203256301443735, 0.6203244229515511, 0.6203232168594273, 0.6203220118662502, 0.6203208079702713, 0.6203196051697456, 0.6203184034629309, 0.6203172028480884, 0.6203160033234829, 0.6203148048873819, 0.6203136075380563, 0.6203124112737806, 0.6203112160928319, 0.6203100219934913, 0.620308828974042, 0.6203076370327716, 0.62030644616797, 0.6203052563779307, 0.6203040676609504, 0.6203028800153289, 0.6203016934393687, 0.6203005079313764, 0.6202993234896608, 0.6202981401125348, 0.6202969577983135, 0.6202957765453159, 0.6202945963518635, 0.6202934172162812, 0.6202922391368973, 0.6202910621120429, 0.6202898861400521, 0.6202887112192621, 0.6202875373480138, 0.6202863645246501, 0.6202851927475183, 0.6202840220149674, 0.6202828523253504, 0.6202816836770233, 0.6202805160683443, 0.6202793494976762, 0.6202781839633831, 0.6202770194638335, 0.6202758559973981, 0.620274693562451, 0.6202735321573692, 0.6202723717805328, 0.6202712124303248, 0.6202700541051311, 0.6202688968033411, 0.6202677405233464, 0.6202665852635422, 0.6202654310223265, 0.6202642777981001, 0.620263125589267, 0.6202619743942339, 0.6202608242114108, 0.6202596750392104, 0.6202585268760483, 0.6202573797203432, 0.6202562335705167, 0.6202550884249931, 0.6202539442821999, 0.6202528011405671, 0.6202516589985284, 0.6202505178545195, 0.6202493777069794, 0.6202482385543502, 0.6202471003950762, 0.6202459632276056, 0.6202448270503884, 0.6202436918618781, 0.6202425576605309, 0.6202414244448059, 0.6202402922131649, 0.6202391609640727, 0.6202380306959969, 0.6202369014074077, 0.6202357730967786, 0.6202346457625854, 0.620233519403307, 0.620232394017425, 0.620231269603424, 0.6202301461597911, 0.6202290236850164, 0.6202279021775926, 0.6202267816360155, 0.6202256620587832, 0.6202245434443969, 0.6202234257913606, 0.6202223090981808, 0.620221193363367, 0.6202200785854312, 0.6202189647628883, 0.6202178518942559, 0.6202167399780545, 0.6202156290128069, 0.620214518997039, 0.6202134099292792, 0.6202123018080589, 0.6202111946319115, 0.6202100883993741, 0.6202089831089856, 0.6202078787592882, 0.6202067753488262, 0.6202056728761471, 0.620204571339801, 0.6202034707383405, 0.6202023710703205, 0.6202012723342994, 0.6202001745288376, 0.6201990776524983, 0.6201979817038471, 0.620196886681453, 0.6201957925838867, 0.6201946994097223, 0.6201936071575357, 0.6201925158259062, 0.6201914254134153, 0.620190335918647, 0.6201892473401884, 0.6201881596766283, 0.6201870729265591, 0.6201859870885752, 0.6201849021612734, 0.6201838181432536, 0.620182735033118, 0.6201816528294714, 0.6201805715309211, 0.6201794911360766, 0.620178411643551, 0.6201773330519585, 0.620176255359917, 0.6201751785660465, 0.6201741026689694, 0.6201730276673109, 0.6201719535596983, 0.620170880344762, 0.6201698080211342, 0.6201687365874502, 0.6201676660423475, 0.620166596384466, 0.6201655276124485, 0.6201644597249397, 0.6201633927205873, 0.6201623265980412, 0.6201612613559536, 0.6201601969929795, 0.6201591335077764, 0.6201580708990037, 0.6201570091653238, 0.6201559483054014, 0.6201548883179036, 0.6201538292014995, 0.6201527709548614, 0.6201517135766637, 0.6201506570655829, 0.6201496014202983, 0.6201485466394913, 0.6201474927218461, 0.6201464396660491, 0.6201453874707888, 0.6201443361347565, 0.6201432856566457, 0.6201422360351522, 0.6201411872689744, 0.6201401393568129, 0.6201390922973706, 0.620138046089353, 0.6201370007314677, 0.6201359562224248, 0.6201349125609366, 0.6201338697457179, 0.6201328277754858, 0.6201317866489597, 0.6201307463648613, 0.6201297069219145, 0.6201286683188457, 0.6201276305543838, 0.6201265936272595, 0.6201255575362061, 0.6201245222799595, 0.6201234878572569, 0.6201224542668391, 0.6201214215074482, 0.620120389577829, 0.6201193584767284, 0.6201183282028958, 0.6201172987550825, 0.6201162701320425, 0.6201152423325317, 0.6201142153553083, 0.620113189199133, 0.6201121638627688, 0.6201111393449801, 0.6201101156445347, 0.6201090927602018, 0.6201080706907532, 0.6201070494349626, 0.6201060289916066, 0.6201050093594631, 0.620103990537313, 0.6201029725239389, 0.6201019553181256, 0.6201009389186605, 0.6200999233243328, 0.6200989085339341, 0.6200978945462581, 0.6200968813601007, 0.62009586897426, 0.6200948573875361, 0.6200938465987316, 0.6200928366066508, 0.6200918274101006, 0.6200908190078896, 0.6200898113988293, 0.6200888045817324, 0.6200877985554144, 0.6200867933186928, 0.6200857888703867, 0.6200847852093183, 0.6200837823343112, 0.6200827802441913, 0.6200817789377866, 0.6200807784139274, 0.6200797786714458, 0.6200787797091762, 0.6200777815259552, 0.6200767841206211, 0.6200757874920144, 0.6200747916389782, 0.6200737965603572, 0.6200728022549981, 0.6200718087217498, 0.6200708159594637, 0.6200698239669924, 0.6200688327431912, 0.6200678422869176, 0.6200668525970303, 0.620065863672391, 0.6200648755118628, 0.6200638881143113, 0.6200629014786037, 0.6200619156036096, 0.6200609304882002, 0.6200599461312493, 0.6200589625316322, 0.6200579796882265, 0.6200569975999117, 0.6200560162655695, 0.6200550356840834, 0.6200540558543388, 0.6200530767752234, 0.6200520984456265, 0.6200511208644399, 0.6200501440305571, 0.6200491679428735, 0.6200481926002864, 0.6200472180016957, 0.6200462441460024, 0.6200452710321099, 0.6200442986589239, 0.6200433270253511, 0.6200423561303013, 0.6200413859726855, 0.6200404165514167, 0.6200394478654101, 0.6200384799135829, 0.6200375126948536, 0.6200365462081435, 0.6200355804523754, 0.6200346154264739, 0.6200336511293655, 0.620032687559979, 0.6200317247172449, 0.6200307626000955, 0.6200298012074651, 0.6200288405382899, 0.620027880591508, 0.6200269213660594, 0.6200259628608858, 0.6200250050749315, 0.6200240480071415, 0.6200230916564636, 0.6200221360218472, 0.6200211811022436, 0.6200202268966059, 0.620019273403889, 0.6200183206230498, 0.620017368553047, 0.6200164171928413, 0.620015466541395, 0.6200145165976725, 0.6200135673606396, 0.6200126188292646, 0.620011671002517, 0.6200107238793685, 0.6200097774587926, 0.6200088317397644, 0.6200078867212612, 0.6200069424022617, 0.6200059987817468, 0.6200050558586987, 0.620004113632102, 0.6200031721009428, 0.6200022312642088, 0.6200012911208901, 0.6200003516699778, 0.6199994129104656, 0.6199984748413482, 0.6199975374616228, 0.6199966007702878, 0.6199956647663439, 0.6199947294487931, 0.6199937948166393, 0.6199928608688882, 0.6199919276045476, 0.6199909950226262, 0.6199900631221357, 0.6199891319020883, 0.6199882013614988, 0.6199872714993832, 0.6199863423147595, 0.6199854138066476, 0.6199844859740689, 0.6199835588160464, 0.6199826323316052, 0.6199817065197719, 0.6199807813795749, 0.6199798569100441, 0.6199789331102113, 0.6199780099791102, 0.6199770875157758, 0.6199761657192451, 0.6199752445885566, 0.6199743241227506, 0.6199734043208692, 0.6199724851819562, 0.6199715667050566, 0.6199706488892177, 0.6199697317334882, 0.6199688152369187, 0.6199678993985608, 0.6199669842174687, 0.6199660696926975, 0.6199651558233047, 0.6199642426083486, 0.6199633300468899, 0.6199624181379904, 0.6199615068807142, 0.6199605962741264, 0.6199596863172939, 0.6199587770092856, 0.6199578683491715, 0.619956960336024, 0.6199560529689161, 0.6199551462469234, 0.6199542401691224, 0.6199533347345917, 0.6199524299424112, 0.6199515257916628, 0.6199506222814297, 0.6199497194107967, 0.6199488171788503, 0.6199479155846788, 0.6199470146273717, 0.6199461143060203, 0.6199452146197174, 0.6199443155675578, 0.6199434171486374, 0.6199425193620539, 0.6199416222069064, 0.6199407256822957, 0.6199398297873245, 0.6199389345210967, 0.6199380398827177, 0.6199371458712944, 0.6199362524859359, 0.6199353597257521, 0.619934467589855, 0.619933576077358, 0.6199326851873759, 0.6199317949190248, 0.6199309052714234, 0.6199300162436906, 0.6199291278349478, 0.6199282400443176, 0.619927352870924, 0.6199264663138927, 0.6199255803723511, 0.6199246950454278, 0.6199238103322531, 0.6199229262319585, 0.6199220427436779, 0.6199211598665454, 0.6199202775996978, 0.6199193959422726, 0.6199185148934093, 0.6199176344522489, 0.6199167546179335, 0.6199158753896068, 0.6199149967664144, 0.6199141187475029, 0.6199132413320207, 0.6199123645191175, 0.6199114883079448, 0.619910612697655, 0.6199097376874024, 0.619908863276343, 0.6199079894636335, 0.6199071162484329, 0.6199062436299009, 0.6199053716071994, 0.6199045001794912, 0.619903629345941, 0.6199027591057146, 0.6199018894579792, 0.6199010204019038, 0.6199001519366587, 0.6198992840614155, 0.6198984167753474, 0.6198975500776289, 0.6198966839674361, 0.6198958184439465, 0.6198949535063388, 0.6198940891537936, 0.6198932253854922, 0.619892362200618, 0.6198914995983557, 0.6198906375778911, 0.6198897761384113, 0.6198889152791058, 0.6198880549991642, 0.6198871952977784, 0.6198863361741412, 0.6198854776274473, 0.6198846196568923, 0.6198837622616732, 0.6198829054409891, 0.6198820491940396, 0.6198811935200261, 0.6198803384181515, 0.6198794838876198, 0.6198786299276365, 0.6198777765374085, 0.6198769237161441, 0.6198760714630529, 0.6198752197773457, 0.6198743686582352, 0.6198735181049347, 0.6198726681166596, 0.6198718186926262, 0.6198709698320524, 0.6198701215341569, 0.6198692737981607, 0.6198684266232853, 0.6198675800087541, 0.6198667339537913, 0.619865888457623, 0.6198650435194764, 0.6198641991385796, 0.6198633553141631, 0.6198625120454576, 0.6198616693316957, 0.6198608271721113, 0.6198599855659396, 0.6198591445124167, 0.6198583040107808, 0.6198574640602709, 0.619856624660127, 0.6198557858095913, 0.6198549475079066, 0.6198541097543172, 0.6198532725480688, 0.6198524358884082, 0.6198515997745837, 0.6198507642058447, 0.6198499291814422, 0.619849094700628, 0.6198482607626555, 0.6198474273667797, 0.619846594512256, 0.6198457621983421, 0.619844930424296, 0.6198440991893779, 0.6198432684928485, 0.6198424383339702, 0.6198416087120067, 0.6198407796262226, 0.6198399510758841, 0.6198391230602586, 0.6198382955786145, 0.6198374686302219, 0.6198366422143516, 0.6198358163302763, 0.6198349909772694, 0.6198341661546056, 0.6198333418615614, 0.6198325180974138, 0.6198316948614414, 0.619830872152924, 0.6198300499711428, 0.6198292283153799, 0.6198284071849186, 0.6198275865790441, 0.6198267664970422, 0.6198259469381996, 0.6198251279018051, 0.6198243093871483, 0.6198234913935199, 0.619822673920212, 0.6198218569665176, 0.6198210405317314, 0.6198202246151489, 0.6198194092160669, 0.6198185943337837, 0.6198177799675982, 0.6198169661168113, 0.619816152780724, 0.6198153399586396, 0.6198145276498619, 0.6198137158536963, 0.6198129045694488, 0.6198120937964274, 0.6198112835339407, 0.6198104737812984, 0.6198096645378118, 0.6198088558027932, 0.619808047575556, 0.6198072398554146, 0.6198064326416851, 0.6198056259336843, 0.6198048197307302, 0.6198040140321421, 0.6198032088372407, 0.6198024041453473, 0.6198015999557847, 0.6198007962678765, 0.6197999930809482, 0.6197991903943257, 0.6197983882073365, 0.6197975865193087, 0.6197967853295723, 0.6197959846374579, 0.6197951844422973, 0.6197943847434236, 0.6197935855401708, 0.6197927868318743, 0.6197919886178707, 0.6197911908974969, 0.6197903936700923, 0.6197895969349961, 0.6197888006915496, 0.6197880049390944, 0.6197872096769738, 0.6197864149045321, 0.6197856206211146, 0.6197848268260677, 0.6197840335187391, 0.6197832406984772, 0.619782448364632, 0.6197816565165541, 0.6197808651535958, 0.61978007427511, 0.6197792838804506, 0.6197784939689731, 0.6197777045400339, 0.6197769155929904, 0.6197761271272009, 0.619775339142025, 0.6197745516368236, 0.6197737646109582, 0.6197729780637918, 0.6197721919946882, 0.6197714064030124, 0.6197706212881305, 0.6197698366494095, 0.6197690524862176, 0.6197682687979242, 0.6197674855838994, 0.6197667028435146, 0.6197659205761424, 0.6197651387811561, 0.6197643574579305, 0.6197635766058408, 0.6197627962242638, 0.6197620163125773, 0.6197612368701602, 0.6197604578963918, 0.6197596793906532, 0.6197589013523265, 0.6197581237807942, 0.6197573466754405, 0.6197565700356502, 0.6197557938608096, 0.6197550181503055, 0.6197542429035261, 0.6197534681198604, 0.6197526937986987, 0.6197519199394319, 0.6197511465414525, 0.6197503736041534, 0.6197496011269291, 0.6197488291091745, 0.619748057550286, 0.619747286449661, 0.6197465158066976, 0.6197457456207952, 0.619744975891354, 0.6197442066177753, 0.6197434377994613, 0.6197426694358155, 0.619741901526242, 0.6197411340701462, 0.6197403670669343, 0.6197396005160136, 0.6197388344167926, 0.6197380687686801, 0.6197373035710869, 0.6197365388234236, 0.619735774525103, 0.619735010675538, 0.6197342472741428, 0.6197334843203327, 0.6197327218135237, 0.6197319597531329, 0.6197311981385785, 0.6197304369692794, 0.6197296762446558, 0.6197289159641286, 0.6197281561271197, 0.6197273967330521, 0.6197266377813497, 0.6197258792714374, 0.6197251212027407, 0.6197243635746867, 0.6197236063867032, 0.6197228496382186, 0.6197220933286625, 0.6197213374574656, 0.6197205820240593, 0.6197198270278763, 0.6197190724683499, 0.6197183183449144, 0.619717564657005, 0.6197168114040581, 0.6197160585855108, 0.6197153062008013, 0.6197145542493686, 0.6197138027306525, 0.6197130516440941, 0.6197123009891353, 0.6197115507652186, 0.6197108009717878, 0.6197100516082876, 0.6197093026741635, 0.619708554168862, 0.6197078060918301, 0.6197070584425164, 0.6197063112203702, 0.6197055644248414, 0.6197048180553811, 0.6197040721114413, 0.6197033265924748, 0.6197025814979352, 0.6197018368272773, 0.6197010925799566, 0.6197003487554297, 0.6196996053531539, 0.6196988623725872, 0.6196981198131891, 0.6196973776744195, 0.6196966359557392, 0.6196958946566103, 0.6196951537764955, 0.6196944133148581, 0.6196936732711629, 0.6196929336448752, 0.6196921944354611, 0.6196914556423881, 0.6196907172651238, 0.6196899793031374, 0.6196892417558987, 0.6196885046228781, 0.6196877679035474, 0.6196870315973787, 0.6196862957038456, 0.619685560222422, 0.6196848251525829, 0.6196840904938046, 0.6196833562455631, 0.6196826224073365, 0.6196818889786032, 0.6196811559588423, 0.6196804233475344, 0.61967969114416, 0.6196789593482014, 0.619678227959141, 0.6196774969764626, 0.6196767663996505, 0.6196760362281902, 0.6196753064615675, 0.6196745770992699, 0.6196738481407845, 0.6196731195856006, 0.6196723914332074, 0.6196716636830951, 0.6196709363347551, 0.6196702093876794, 0.6196694828413608, 0.6196687566952929, 0.61966803094897, 0.6196673056018879, 0.6196665806535426, 0.6196658561034308, 0.6196651319510508, 0.619664408195901, 0.6196636848374807, 0.6196629618752902, 0.6196622393088307, 0.6196615171376042, 0.6196607953611132, 0.6196600739788615, 0.6196593529903532, 0.6196586323950937, 0.6196579121925887, 0.6196571923823451, 0.6196564729638706, 0.6196557539366734, 0.6196550353002628, 0.6196543170541488, 0.6196535991978421, 0.6196528817308544, 0.6196521646526979, 0.6196514479628863, 0.619650731660933, 0.6196500157463528, 0.6196493002186617, 0.6196485850773757, 0.6196478703220122, 0.619647155952089, 0.6196464419671246, 0.6196457283666388, 0.6196450151501518, 0.6196443023171846, 0.6196435898672591, 0.619642877799898, 0.6196421661146245, 0.6196414548109631, 0.6196407438884385, 0.6196400333465762, 0.6196393231849032, 0.6196386134029465, 0.6196379040002342, 0.619637194976295, 0.6196364863306585, 0.6196357780628551, 0.6196350701724158, 0.6196343626588726, 0.619633655521758, 0.6196329487606053, 0.619632242374949, 0.6196315363643233, 0.6196308307282645, 0.6196301254663087, 0.619629420577993, 0.6196287160628553, 0.6196280119204345, 0.6196273081502699, 0.6196266047519013, 0.61962590172487, 0.6196251990687174, 0.619624496782986, 0.6196237948672189, 0.6196230933209596, 0.6196223921437531, 0.6196216913351447, 0.6196209908946803, 0.6196202908219067, 0.6196195911163715, 0.6196188917776229, 0.6196181928052098, 0.6196174941986822, 0.6196167959575902, 0.6196160980814853, 0.6196154005699192, 0.6196147034224443, 0.6196140066386144, 0.6196133102179833, 0.6196126141601057, 0.6196119184645373, 0.6196112231308342, 0.6196105281585532, 0.6196098335472522, 0.6196091392964893, 0.6196084454058238, 0.6196077518748153, 0.6196070587030245, 0.6196063658900122, 0.6196056734353407, 0.6196049813385723, 0.6196042895992705, 0.6196035982169993, 0.6196029071913233, 0.6196022165218079, 0.6196015262080193, 0.6196008362495243, 0.6196001466458902, 0.6195994573966855, 0.619598768501479, 0.6195980799598402, 0.6195973917713393, 0.6195967039355473, 0.6195960164520361, 0.6195953293203776, 0.6195946425401453, 0.6195939561109126, 0.6195932700322537, 0.6195925843037443, 0.6195918989249594, 0.619591213895476, 0.619590529214871, 0.6195898448827222, 0.6195891608986079, 0.6195884772621074, 0.6195877939728006, 0.6195871110302679, 0.6195864284340904, 0.6195857461838499, 0.619585064279129, 0.6195843827195108, 0.619583701504579, 0.6195830206339182, 0.6195823401071138, 0.6195816599237511, 0.6195809800834169, 0.6195803005856984, 0.6195796214301831, 0.6195789426164598, 0.6195782641441174, 0.6195775860127457, 0.619576908221935, 0.6195762307712765, 0.6195755536603622, 0.6195748768887839, 0.619574200456135, 0.619573524362009, 0.6195728486060003, 0.6195721731877037, 0.6195714981067152, 0.6195708233626307, 0.619570148955047, 0.6195694748835622, 0.6195688011477738, 0.6195681277472809, 0.6195674546816831, 0.6195667819505803, 0.6195661095535732, 0.6195654374902632, 0.6195647657602523, 0.6195640943631432, 0.619563423298539, 0.6195627525660434, 0.6195620821652615, 0.619561412095798, 0.6195607423572586, 0.6195600729492499, 0.6195594038713788, 0.6195587351232529, 0.6195580667044807, 0.6195573986146707, 0.6195567308534327, 0.6195560634203765, 0.6195553963151132, 0.619554729537254, 0.6195540630864107, 0.6195533969621959, 0.6195527311642229, 0.6195520656921055, 0.6195514005454581, 0.6195507357238957, 0.6195500712270338, 0.6195494070544888, 0.6195487432058774, 0.6195480796808172, 0.6195474164789261, 0.6195467535998227, 0.6195460910431265, 0.6195454288084571, 0.619544766895435, 0.6195441053036813, 0.6195434440328177, 0.6195427830824664, 0.61954212245225, 0.6195414621417923, 0.619540802150717, 0.619540142478649, 0.6195394831252132, 0.6195388240900358, 0.6195381653727426, 0.6195375069729612, 0.6195368488903188, 0.6195361911244435, 0.6195355336749643, 0.6195348765415102, 0.619534219723711, 0.6195335632211977, 0.619532907033601, 0.6195322511605524, 0.6195315956016846, 0.6195309403566299, 0.6195302854250218, 0.6195296308064943, 0.6195289765006818, 0.6195283225072197, 0.6195276688257433, 0.6195270154558887, 0.6195263623972933, 0.619525709649594, 0.6195250572124287, 0.619524405085436, 0.6195237532682552, 0.6195231017605255, 0.6195224505618876, 0.6195217996719817, 0.6195211490904496, 0.6195204988169329, 0.619519848851074, 0.6195191991925162, 0.6195185498409027, 0.619517900795878, 0.6195172520570863, 0.619516603624173, 0.619515955496784, 0.6195153076745656, 0.6195146601571646, 0.6195140129442285, 0.619513366035405, 0.619512719430343, 0.6195120731286915, 0.6195114271301, 0.6195107814342187, 0.6195101360406985, 0.6195094909491902, 0.6195088461593459, 0.6195082016708181, 0.6195075574832594, 0.6195069135963231, 0.6195062700096639, 0.6195056267229353, 0.6195049837357929, 0.6195043410478922, 0.6195036986588892, 0.6195030565684407, 0.6195024147762038, 0.6195017732818362, 0.6195011320849959, 0.6195004911853421, 0.6194998505825338, 0.6194992102762308, 0.6194985702660937, 0.6194979305517831, 0.6194972911329606, 0.6194966520092879, 0.6194960131804278, 0.6194953746460429, 0.6194947364057969, 0.6194940984593538, 0.6194934608063779, 0.6194928234465347, 0.6194921863794893, 0.6194915496049082, 0.6194909131224577, 0.619490276931805, 0.6194896410326179, 0.6194890054245644, 0.6194883701073131, 0.6194877350805332, 0.6194871003438945, 0.619486465897067, 0.6194858317397216, 0.6194851978715294, 0.6194845642921621, 0.619483931001292, 0.6194832979985917, 0.6194826652837345, 0.6194820328563942, 0.619481400716245, 0.6194807688629614, 0.6194801372962192, 0.6194795060156935, 0.6194788750210608, 0.619478244311998, 0.619477613888182, 0.6194769837492908, 0.6194763538950026, 0.619475724324996, 0.6194750950389502, 0.6194744660365451, 0.6194738373174606, 0.6194732088813776, 0.6194725807279773, 0.6194719528569411, 0.6194713252679515, 0.619470697960691, 0.6194700709348425, 0.6194694441900899, 0.6194688177261173, 0.6194681915426091, 0.6194675656392504, 0.619466940015727, 0.6194663146717245, 0.6194656896069298, 0.6194650648210297, 0.6194644403137117, 0.6194638160846637, 0.6194631921335743, 0.619462568460132, 0.6194619450640267, 0.619461321944948, 0.619460699102586, 0.6194600765366319, 0.6194594542467767, 0.6194588322327123, 0.6194582104941307, 0.6194575890307247, 0.6194569678421874, 0.6194563469282125, 0.6194557262884942, 0.6194551059227267, 0.6194544858306054, 0.6194538660118253, 0.6194532464660829, 0.6194526271930743, 0.6194520081924962, 0.6194513894640462, 0.6194507710074221, 0.619450152822322, 0.6194495349084448, 0.6194489172654895, 0.6194482998931556, 0.6194476827911434, 0.6194470659591534, 0.6194464493968865, 0.6194458331040444, 0.6194452170803286, 0.6194446013254418, 0.6194439858390864, 0.6194433706209662, 0.6194427556707846, 0.6194421409882455, 0.6194415265730538, 0.6194409124249146, 0.6194402985435332, 0.6194396849286158, 0.6194390715798685, 0.6194384584969983, 0.6194378456797123, 0.6194372331277184, 0.6194366208407247, 0.6194360088184397, 0.6194353970605726, 0.6194347855668327, 0.6194341743369303, 0.6194335633705752, 0.6194329526674784, 0.6194323422273514, 0.6194317320499056, 0.6194311221348533, 0.6194305124819067, 0.619429903090779, 0.6194292939611836, 0.6194286850928343, 0.6194280764854454, 0.6194274681387315, 0.6194268600524078, 0.61942625222619, 0.6194256446597937, 0.6194250373529356, 0.6194244303053325, 0.6194238235167017, 0.6194232169867606, 0.6194226107152276, 0.6194220047018214, 0.6194213989462605, 0.6194207934482645, 0.6194201882075534, 0.619419583223847, 0.6194189784968663, 0.6194183740263323, 0.6194177698119663, 0.6194171658534903, 0.6194165621506267, 0.6194159587030982, 0.6194153555106279, 0.6194147525729393, 0.6194141498897565, 0.6194135474608038, 0.6194129452858061, 0.6194123433644886, 0.6194117416965768, 0.6194111402817969, 0.6194105391198751, 0.6194099382105387, 0.6194093375535145, 0.6194087371485304, 0.6194081369953144, 0.6194075370935952, 0.6194069374431013, 0.6194063380435623, 0.619405738894708, 0.6194051399962679, 0.6194045413479732, 0.6194039429495545, 0.619403344800743, 0.6194027469012706, 0.6194021492508693, 0.6194015518492718, 0.6194009546962108, 0.6194003577914197, 0.6193997611346321, 0.6193991647255822, 0.6193985685640044, 0.6193979726496337, 0.6193973769822053, 0.619396781561455, 0.6193961863871187, 0.6193955914589329, 0.6193949967766346, 0.6193944023399607, 0.6193938081486492, 0.619393214202438, 0.6193926205010654, 0.6193920270442703, 0.619391433831792, 0.6193908408633699, 0.619390248138744, 0.6193896556576547, 0.6193890634198427, 0.6193884714250492, 0.6193878796730153, 0.6193872881634834, 0.6193866968961955, 0.6193861058708944, 0.619385515087323, 0.6193849245452245, 0.6193843342443431, 0.6193837441844227, 0.6193831543652079, 0.6193825647864436, 0.6193819754478751, 0.6193813863492482, 0.6193807974903087, 0.6193802088708033, 0.6193796204904787, 0.6193790323490819, 0.6193784444463605, 0.6193778567820625, 0.6193772693559362, 0.6193766821677302, 0.6193760952171936, 0.6193755085040756, 0.6193749220281263, 0.6193743357890955, 0.619373749786734, 0.6193731640207923, 0.6193725784910219, 0.6193719931971744, 0.6193714081390016, 0.619370823316256, 0.6193702387286903, 0.6193696543760574, 0.6193690702581109, 0.6193684863746044, 0.6193679027252922, 0.6193673193099286, 0.6193667361282686, 0.6193661531800675, 0.6193655704650809, 0.6193649879830645, 0.6193644057337747, 0.6193638237169682, 0.6193632419324021, 0.6193626603798336, 0.6193620790590205, 0.6193614979697208, 0.6193609171116932, 0.619360336484696, 0.6193597560884888, 0.6193591759228309, 0.6193585959874821, 0.6193580162822026, 0.6193574368067529, 0.6193568575608941, 0.6193562785443872, 0.6193556997569939, 0.6193551211984762, 0.6193545428685963, 0.6193539647671167, 0.6193533868938006, 0.6193528092484113, 0.6193522318307122, 0.6193516546404677, 0.6193510776774417, 0.6193505009413993, 0.6193499244321055, 0.6193493481493254, 0.6193487720928249, 0.61934819626237, 0.6193476206577272, 0.6193470452786632, 0.619346470124945, 0.6193458951963402, 0.6193453204926165, 0.6193447460135417, 0.6193441717588848, 0.619343597728414, 0.6193430239218987, 0.6193424503391082, 0.6193418769798122, 0.6193413038437812, 0.6193407309307853, 0.6193401582405954, 0.6193395857729824, 0.619339013527718, 0.6193384415045738, 0.619337869703322, 0.619337298123735, 0.6193367267655853, 0.6193361556286463, 0.6193355847126913, 0.619335014017494, 0.6193344435428286, 0.6193338732884693, 0.619333303254191, 0.6193327334397686, 0.6193321638449775, 0.6193315944695933, 0.6193310253133922, 0.6193304563761505, 0.6193298876576446, 0.6193293191576519, 0.6193287508759493, 0.6193281828123146, 0.619327614966526, 0.6193270473383612, 0.6193264799275991, 0.6193259127340187, 0.6193253457573991, 0.6193247789975198, 0.6193242124541606, 0.6193236461271018, 0.6193230800161238, 0.6193225141210074, 0.6193219484415338, 0.6193213829774843, 0.6193208177286407, 0.619320252694785, 0.6193196878756996, 0.6193191232711672, 0.6193185588809709, 0.6193179947048938, 0.6193174307427196, 0.6193168669942323, 0.6193163034592158, 0.6193157401374549, 0.6193151770287347, 0.6193146141328398, 0.6193140514495561, 0.6193134889786692, 0.6193129267199651, 0.6193123646732303, 0.6193118028382514, 0.6193112412148155, 0.6193106798027097, 0.6193101186017218, 0.6193095576116395, 0.6193089968322513, 0.6193084362633454, 0.6193078759047107, 0.6193073157561365, 0.619306755817412, 0.6193061960883267, 0.6193056365686711, 0.6193050772582351, 0.6193045181568098, 0.6193039592641854, 0.6193034005801535, 0.6193028421045058, 0.6193022838370336, 0.6193017257775294, 0.6193011679257854, 0.6193006102815941, 0.619300052844749, 0.6192994956150428, 0.6192989385922695, 0.6192983817762225, 0.6192978251666964, 0.6192972687634853, 0.6192967125663841, 0.6192961565751878, 0.6192956007896918, 0.6192950452096914, 0.6192944898349828, 0.619293934665362, 0.6192933797006256, 0.61929282494057, 0.6192922703849928, 0.6192917160336909, 0.6192911618864622, 0.6192906079431043, 0.6192900542034155, 0.6192895006671945, 0.6192889473342397, 0.6192883942043503, 0.6192878412773258, 0.6192872885529656, 0.6192867360310694, 0.6192861837114378, 0.619285631593871, 0.6192850796781698, 0.619284527964135, 0.6192839764515684, 0.6192834251402711, 0.6192828740300451, 0.6192823231206925, 0.6192817724120158, 0.6192812219038176, 0.6192806715959009, 0.619280121488069, 0.6192795715801254, 0.6192790218718737, 0.6192784723631182, 0.6192779230536632, 0.6192773739433132, 0.6192768250318733, 0.6192762763191484, 0.6192757278049442, 0.6192751794890663, 0.6192746313713207, 0.6192740834515136, 0.6192735357294514, 0.6192729882049413, 0.6192724408777901, 0.619271893747805, 0.6192713468147939, 0.6192708000785646, 0.6192702535389251, 0.6192697071956839, 0.6192691610486497, 0.6192686150976315, 0.6192680693424385, 0.6192675237828801, 0.619266978418766, 0.6192664332499065, 0.6192658882761115, 0.6192653434971918, 0.6192647989129579, 0.6192642545232213, 0.6192637103277931, 0.6192631663264849, 0.6192626225191086, 0.6192620789054761, 0.6192615354854003, 0.6192609922586934, 0.6192604492251684, 0.6192599063846385, 0.619259363736917, 0.6192588212818176, 0.6192582790191545, 0.6192577369487418, 0.6192571950703937, 0.6192566533839252, 0.6192561118891512, 0.6192555705858868, 0.6192550294739476, 0.6192544885531494, 0.6192539478233079, 0.6192534072842396, 0.6192528669357611, 0.6192523267776888, 0.61925178680984, 0.6192512470320319, 0.6192507074440822, 0.6192501680458082, 0.6192496288370283, 0.6192490898175607, 0.6192485509872239, 0.6192480123458365, 0.6192474738932179, 0.619246935629187, 0.6192463975535636, 0.6192458596661672, 0.6192453219668181, 0.6192447844553365, 0.6192442471315427, 0.6192437099952577, 0.6192431730463024, 0.6192426362844982, 0.6192420997096664, 0.6192415633216287, 0.6192410271202075, 0.6192404911052246, 0.6192399552765028, 0.6192394196338644, 0.6192388841771329, 0.6192383489061313, 0.6192378138206829, 0.6192372789206115, 0.6192367442057412, 0.6192362096758959, 0.6192356753309002, 0.6192351411705788, 0.6192346071947563, 0.6192340734032583, 0.6192335397959099, 0.6192330063725369, 0.6192324731329649, 0.6192319400770201, 0.619231407204529, 0.619230874515318, 0.619230342009214, 0.619229809686044, 0.6192292775456352, 0.6192287455878154, 0.619228213812412, 0.6192276822192533, 0.6192271508081673, 0.6192266195789825, 0.6192260885315279, 0.6192255576656319, 0.6192250269811241, 0.6192244964778336, 0.6192239661555904, 0.6192234360142238, 0.6192229060535646, 0.6192223762734425, 0.6192218466736882, 0.6192213172541327, 0.6192207880146068, 0.6192202589549418, 0.6192197300749693, 0.6192192013745209, 0.6192186728534284, 0.6192181445115243, 0.6192176163486405, 0.6192170883646101, 0.6192165605592655, 0.6192160329324402, 0.6192155054839672, 0.6192149782136802, 0.6192144511214127, 0.6192139242069988, 0.6192133974702727, 0.619212870911069, 0.619212344529222, 0.6192118183245668, 0.6192112922969384, 0.6192107664461721, 0.6192102407721037, 0.6192097152745686, 0.6192091899534029, 0.6192086648084428, 0.6192081398395247, 0.6192076150464852, 0.6192070904291613, 0.6192065659873902, 0.619206041721009, 0.6192055176298552, 0.6192049937137665, 0.6192044699725809, 0.6192039464061369, 0.6192034230142723, 0.6192028997968263, 0.6192023767536373, 0.6192018538845446, 0.6192013311893874, 0.6192008086680051, 0.6192002863202375, 0.6191997641459244, 0.6191992421449061, 0.6191987203170226, 0.6191981986621149, 0.6191976771800234, 0.6191971558705894, 0.6191966347336538, 0.6191961137690581, 0.6191955929766442, 0.6191950723562535, 0.6191945519077282, 0.6191940316309106, 0.6191935115256432, 0.6191929915917687, 0.6191924718291297, 0.6191919522375696, 0.6191914328169318, 0.6191909135670594, 0.6191903944877966, 0.6191898755789869, 0.6191893568404747, 0.6191888382721042, 0.6191883198737202, 0.6191878016451674, 0.6191872835862906, 0.6191867656969351, 0.6191862479769461, 0.6191857304261694, 0.619185213044451, 0.6191846958316364, 0.619184178787572, 0.6191836619121044, 0.61918314520508, 0.6191826286663459, 0.6191821122957487, 0.6191815960931359, 0.6191810800583549, 0.6191805641912534, 0.6191800484916792, 0.61917953295948, 0.6191790175945047, 0.619178502396601, 0.6191779873656181, 0.6191774725014046, 0.6191769578038095, 0.6191764432726824, 0.6191759289078723, 0.619175414709229, 0.6191749006766023, 0.6191743868098425, 0.6191738731087993, 0.6191733595733236, 0.619172846203266, 0.6191723329984772, 0.6191718199588081, 0.6191713070841102, 0.6191707943742346, 0.6191702818290332, 0.6191697694483578, 0.6191692572320602, 0.6191687451799928, 0.6191682332920079, 0.6191677215679581, 0.619167210007696, 0.619166698611075, 0.6191661873779478, 0.6191656763081682, 0.6191651654015896, 0.6191646546580656, 0.6191641440774504, 0.6191636336595978, 0.6191631234043624, 0.6191626133115986, 0.6191621033811611, 0.6191615936129049, 0.619161084006685, 0.6191605745623567, 0.6191600652797755, 0.6191595561587971, 0.6191590471992773, 0.6191585384010719, 0.6191580297640374, 0.6191575212880305, 0.619157012972907, 0.6191565048185244, 0.6191559968247394, 0.619155488991409, 0.6191549813183909, 0.6191544738055424, 0.6191539664527214, 0.6191534592597857, 0.6191529522265934, 0.6191524453530026, 0.6191519386388721, 0.6191514320840603, 0.6191509256884262, 0.6191504194518287, 0.619149913374127, 0.6191494074551805, 0.6191489016948488, 0.6191483960929917, 0.619147890649469, 0.6191473853641408, 0.6191468802368677, 0.6191463752675098, 0.6191458704559278, 0.6191453658019828, 0.6191448613055356, 0.6191443569664475, 0.6191438527845797, 0.6191433487597942, 0.6191428448919521, 0.6191423411809158, 0.6191418376265474, 0.619141334228709, 0.6191408309872631, 0.6191403279020722, 0.6191398249729992, 0.6191393221999075, 0.6191388195826596, 0.6191383171211192, 0.6191378148151496, 0.6191373126646149, 0.6191368106693785, 0.6191363088293049, 0.6191358071442579, 0.6191353056141022, 0.6191348042387022, 0.6191343030179228, 0.6191338019516288, 0.6191333010396854, 0.6191328002819577, 0.6191322996783112, 0.6191317992286117, 0.6191312989327248, 0.6191307987905165, 0.6191302988018529, 0.6191297989666005, 0.6191292992846255, 0.6191287997557947, 0.619128300379975, 0.6191278011570334, 0.6191273020868368, 0.6191268031692526, 0.6191263044041486, 0.6191258057913922, 0.6191253073308514, 0.6191248090223941, 0.6191243108658884, 0.6191238128612029, 0.6191233150082059, 0.6191228173067664, 0.6191223197567529, 0.6191218223580345, 0.6191213251104805, 0.6191208280139602, 0.6191203310683432, 0.619119834273499, 0.6191193376292977, 0.6191188411356092, 0.6191183447923038, 0.6191178485992517, 0.6191173525563234, 0.6191168566633897, 0.6191163609203215, 0.6191158653269897, 0.6191153698832654, 0.6191148745890203, 0.6191143794441255, 0.6191138844484528, 0.6191133896018742, 0.6191128949042616, 0.6191124003554871, 0.6191119059554231, 0.6191114117039421, 0.6191109176009164, 0.6191104236462195, 0.6191099298397237, 0.6191094361813025, 0.6191089426708292, 0.619108449308177, 0.6191079560932198, 0.6191074630258312, 0.6191069701058851, 0.6191064773332559, 0.6191059847078173, 0.6191054922294443, 0.6191049998980112, 0.6191045077133926, 0.6191040156754636, 0.619103523784099, 0.6191030320391745, 0.619102540440565, 0.6191020489881461, 0.6191015576817935, 0.6191010665213831, 0.619100575506791, 0.619100084637893, 0.6190995939145657, 0.6190991033366856, 0.6190986129041289, 0.6190981226167728, 0.619097632474494, 0.6190971424771698, 0.6190966526246772, 0.6190961629168935, 0.6190956733536966, 0.619095183934964, 0.6190946946605735, 0.6190942055304032, 0.6190937165443312, 0.6190932277022357, 0.6190927390039955, 0.6190922504494889, 0.6190917620385947, 0.6190912737711919, 0.6190907856471596, 0.619090297666377, 0.6190898098287233, 0.6190893221340783, 0.6190888345823216, 0.6190883471733328, 0.6190878599069922, 0.6190873727831796, 0.6190868858017755, 0.6190863989626604, 0.6190859122657146, 0.619085425710819, 0.6190849392978545, 0.619084453026702, 0.6190839668972428, 0.619083480909358, 0.6190829950629292, 0.619082509357838, 0.6190820237939665, 0.619081538371196, 0.6190810530894088, 0.6190805679484873, 0.6190800829483135, 0.6190795980887703, 0.61907911336974, 0.6190786287911055, 0.6190781443527498, 0.6190776600545558, 0.619077175896407, 0.6190766918781864, 0.6190762079997778, 0.6190757242610647, 0.6190752406619312, 0.6190747572022607, 0.6190742738819378, 0.6190737907008464, 0.619073307658871, 0.6190728247558962, 0.6190723419918066, 0.6190718593664869, 0.6190713768798222, 0.6190708945316974, 0.6190704123219979, 0.6190699302506091, 0.6190694483174163, 0.6190689665223053, 0.6190684848651619, 0.619068003345872, 0.6190675219643217, 0.6190670407203971, 0.6190665596139848, 0.619066078644971, 0.6190655978132426, 0.6190651171186863, 0.6190646365611888, 0.6190641561406375, 0.6190636758569193, 0.6190631957099219, 0.6190627156995324, 0.6190622358256385, 0.619061756088128, 0.6190612764868888, 0.6190607970218088, 0.6190603176927764, 0.6190598384996796, 0.619059359442407, 0.6190588805208473, 0.6190584017348889, 0.6190579230844209, 0.6190574445693321, 0.6190569661895118, 0.619056487944849, 0.6190560098352335, 0.6190555318605542, 0.6190550540207013, 0.6190545763155644, 0.6190540987450333, 0.6190536213089983, 0.6190531440073495, 0.6190526668399771, 0.6190521898067717, 0.619051712907624, 0.6190512361424244, 0.6190507595110639, 0.6190502830134338, 0.6190498066494248, 0.6190493304189283, 0.6190488543218358, 0.6190483783580387, 0.6190479025274288, 0.6190474268298978, 0.6190469512653375, 0.61904647583364, 0.6190460005346977, 0.6190455253684027, 0.6190450503346475, 0.6190445754333248, 0.6190441006643269, 0.6190436260275471, 0.619043151522878, 0.619042677150213, 0.6190422029094453, 0.619041728800468, 0.6190412548231747, 0.619040780977459, 0.6190403072632147, 0.6190398336803358, 0.6190393602287159, 0.6190388869082495, 0.6190384137188305, 0.6190379406603537, 0.6190374677327133, 0.619036994935804, 0.6190365222695206, 0.619036049733758, 0.6190355773284111, 0.6190351050533752, 0.6190346329085455, 0.6190341608938172, 0.6190336890090862, 0.6190332172542479, 0.619032745629198, 0.6190322741338325, 0.6190318027680476, 0.6190313315317392, 0.6190308604248036, 0.6190303894471373, 0.6190299185986367, 0.6190294478791984, 0.6190289772887195, 0.6190285068270963, 0.6190280364942266, 0.6190275662900068, 0.6190270962143345, 0.6190266262671071, 0.619026156448222, 0.619025686757577, 0.6190252171950696, 0.6190247477605978, 0.6190242784540596, 0.6190238092753533, 0.6190233402243768, 0.6190228713010286, 0.6190224025052072, 0.6190219338368114, 0.6190214652957395, 0.6190209968818905, 0.6190205285951637, 0.6190200604354578, 0.619019592402672, 0.6190191244967058, 0.6190186567174586, 0.61901818906483, 0.6190177215387196, 0.6190172541390273, 0.619016786865653, 0.6190163197184966, 0.6190158526974584, 0.6190153858024388, 0.6190149190333378, 0.6190144523900564, 0.6190139858724948, 0.619013519480554, 0.6190130532141349, 0.6190125870731382, 0.6190121210574655, 0.6190116551670175, 0.6190111894016959, 0.6190107237614019, 0.6190102582460372, 0.6190097928555034, 0.6190093275897025, 0.6190088624485364, 0.6190083974319069, 0.6190079325397162, 0.6190074677718668, 0.6190070031282607, 0.6190065386088008, 0.6190060742133896, 0.6190056099419297, 0.6190051457943239, 0.6190046817704753, 0.6190042178702869, 0.619003754093662, 0.6190032904405037, 0.6190028269107156, 0.6190023635042011, 0.619001900220864, 0.6190014370606078, 0.6190009740233364, 0.6190005111089542, 0.6190000483173648, 0.6189995856484725, 0.6189991231021816, 0.6189986606783968, 0.6189981983770223, 0.618997736197963, 0.6189972741411235, 0.6189968122064088, 0.6189963503937238, 0.6189958887029736, 0.6189954271340634, 0.6189949656868986, 0.6189945043613845, 0.6189940431574268, 0.6189935820749309, 0.6189931211138028, 0.6189926602739483, 0.6189921995552733, 0.618991738957684, 0.6189912784810866, 0.6189908181253874, 0.6189903578904926, 0.618989897776309, 0.6189894377827432, 0.6189889779097016, 0.6189885181570918, 0.61898805852482, 0.6189875990127937, 0.6189871396209198, 0.6189866803491058, 0.618986221197259, 0.6189857621652869, 0.6189853032530971, 0.6189848444605974, 0.6189843857876954, 0.6189839272342994, 0.6189834688003171, 0.6189830104856568, 0.6189825522902267, 0.6189820942139352, 0.6189816362566906, 0.6189811784184017, 0.618980720698977, 0.6189802630983255, 0.6189798056163557, 0.6189793482529768, 0.618978891008098, 0.6189784338816285, 0.6189779768734772, 0.6189775199835541, 0.6189770632117683, 0.6189766065580294, 0.6189761500222475, 0.6189756936043319, 0.618975237304193, 0.6189747811217405, 0.6189743250568849, 0.618973869109536, 0.6189734132796044, 0.6189729575670004, 0.6189725019716348, 0.618972046493418, 0.6189715911322609, 0.6189711358880742, 0.618970680760769, 0.6189702257502564, 0.6189697708564473, 0.6189693160792533, 0.6189688614185856, 0.6189684068743556, 0.618967952446475, 0.6189674981348553, 0.6189670439394085, 0.6189665898600463, 0.6189661358966806, 0.6189656820492238, 0.6189652283175877, 0.6189647747016848, 0.6189643212014275, 0.618963867816728, 0.6189634145474993, 0.6189629613936537, 0.6189625083551041, 0.6189620554317634, 0.6189616026235445, 0.6189611499303606, 0.6189606973521247, 0.6189602448887502, 0.6189597925401504, 0.6189593403062388, 0.618958888186929, 0.6189584361821345, 0.6189579842917693, 0.6189575325157473, 0.6189570808539819, 0.6189566293063877, 0.6189561778728787, 0.6189557265533692, 0.6189552753477734, 0.6189548242560058, 0.6189543732779811, 0.6189539224136137, 0.6189534716628184, 0.6189530210255102, 0.6189525705016038, 0.6189521200910143, 0.6189516697936569, 0.6189512196094468, 0.6189507695382991, 0.6189503195801294, 0.6189498697348531, 0.618949420002386, 0.6189489703826436, 0.6189485208755418, 0.6189480714809963, 0.6189476221989231, 0.6189471730292386, 0.6189467239718586, 0.6189462750266994, 0.6189458261936776, 0.6189453774727094, 0.6189449288637114, 0.6189444803666003, 0.6189440319812929, 0.6189435837077057, 0.6189431355457561, 0.6189426874953607, 0.6189422395564368, 0.6189417917289015, 0.6189413440126721, 0.618940896407666, 0.6189404489138006, 0.6189400015309938, 0.6189395542591628, 0.6189391070982257, 0.6189386600481002, 0.6189382131087041, 0.6189377662799557, 0.6189373195617729, 0.618936872954074, 0.6189364264567772, 0.6189359800698011, 0.618935533793064, 0.6189350876264845, 0.6189346415699813, 0.6189341956234734, 0.6189337497868791, 0.6189333040601178, 0.6189328584431083, 0.6189324129357698, 0.6189319675380215, 0.6189315222497828, 0.6189310770709727, 0.6189306320015111, 0.6189301870413174, 0.6189297421903113, 0.6189292974484124, 0.6189288528155408, 0.6189284082916161, 0.6189279638765586, 0.6189275195702881, 0.6189270753727251, 0.6189266312837898, 0.6189261873034024, 0.6189257434314835, 0.6189252996679536, 0.6189248560127332, 0.6189244124657433, 0.6189239690269044, 0.6189235256961377, 0.6189230824733639, 0.6189226393585042, 0.6189221963514797, 0.6189217534522118, 0.6189213106606215, 0.6189208679766306, 0.6189204254001603, 0.6189199829311325, 0.6189195405694685, 0.6189190983150902, 0.6189186561679196, 0.6189182141278785, 0.618917772194889, 0.618917330368873, 0.6189168886497529, 0.618916447037451, 0.6189160055318893, 0.6189155641329906, 0.6189151228406774, 0.6189146816548723, 0.6189142405754979, 0.618913799602477, 0.6189133587357325, 0.6189129179751874, 0.6189124773207648, 0.6189120367723876, 0.6189115963299792, 0.6189111559934628, 0.6189107157627618, 0.6189102756377995, 0.6189098356184999, 0.6189093957047862, 0.6189089558965821, 0.6189085161938116, 0.6189080765963986, 0.6189076371042669, 0.6189071977173407, 0.6189067584355439, 0.6189063192588009, 0.6189058801870359, 0.6189054412201732, 0.6189050023581375, 0.6189045636008531, 0.6189041249482448, 0.6189036864002371, 0.618903247956755, 0.6189028096177231, 0.6189023713830666, 0.6189019332527105, 0.6189014952265797, 0.6189010573045998, 0.6189006194866955, 0.6189001817727926, 0.6188997441628163, 0.6188993066566922, 0.6188988692543459, 0.6188984319557033, 0.6188979947606897, 0.6188975576692312, 0.6188971206812537, 0.6188966837966832, 0.6188962470154457, 0.6188958103374674, 0.6188953737626746, 0.6188949372909935, 0.6188945009223505, 0.6188940646566724, 0.6188936284938852, 0.618893192433916, 0.6188927564766912, 0.6188923206221378, 0.6188918848701824, 0.6188914492207525, 0.6188910136737745, 0.6188905782291759, 0.6188901428868837, 0.6188897076468252, 0.6188892725089278, 0.6188888374731188, 0.6188884025393259, 0.6188879677074764, 0.6188875329774982, 0.618887098349319, 0.6188866638228664, 0.6188862293980686, 0.6188857950748532, 0.6188853608531484, 0.6188849267328825, 0.6188844927139835, 0.6188840587963796, 0.6188836249799994, 0.618883191264771, 0.6188827576506232, 0.6188823241374843, 0.6188818907252833, 0.6188814574139486, 0.6188810242034092, 0.618880591093594, 0.6188801580844316, 0.6188797251758514, 0.6188792923677826, 0.618878859660154, 0.618878427052895, 0.6188779945459352, 0.6188775621392036, 0.6188771298326301, 0.6188766976261438, 0.6188762655196748, 0.6188758335131525, 0.6188754016065067, 0.6188749697996672, 0.6188745380925642, 0.6188741064851276, 0.6188736749772874, 0.6188732435689738, 0.6188728122601171, 0.6188723810506475, 0.6188719499404952, 0.618871518929591, 0.6188710880178653, 0.6188706572052488, 0.6188702264916718, 0.6188697958770656, 0.6188693653613605, 0.6188689349444875, 0.618868504626378, 0.6188680744069625, 0.6188676442861724, 0.6188672142639386, 0.6188667843401926, 0.6188663545148657, 0.6188659247878895, 0.618865495159195, 0.618865065628714, 0.6188646361963783, 0.6188642068621191, 0.6188637776258687, 0.6188633484875588, 0.6188629194471208, 0.6188624905044874, 0.6188620616595901, 0.6188616329123613, 0.6188612042627333, 0.6188607757106378, 0.6188603472560078, 0.6188599188987753, 0.6188594906388729, 0.6188590624762332, 0.6188586344107886, 0.618858206442472, 0.6188577785712162, 0.6188573507969537, 0.6188569231196176, 0.6188564955391409, 0.6188560680554568, 0.618855640668498, 0.6188552133781979, 0.6188547861844897, 0.6188543590873069, 0.6188539320865826, 0.6188535051822505, 0.6188530783742439, 0.6188526516624966, 0.618852225046942, 0.618851798527514, 0.6188513721041465, 0.6188509457767734, 0.6188505195453283, 0.6188500934097454, 0.6188496673699588, 0.6188492414259027, 0.6188488155775113, 0.6188483898247186, 0.6188479641674592, 0.6188475386056675, 0.6188471131392781, 0.6188466877682253, 0.618846262492444, 0.6188458373118685, 0.6188454122264339, 0.6188449872360748, 0.6188445623407262, 0.6188441375403231, 0.6188437128348006, 0.6188432882240935, 0.6188428637081371, 0.6188424392868669, 0.6188420149602177, 0.6188415907281253, 0.6188411665905247, 0.6188407425473519, 0.6188403185985419, 0.6188398947440309, 0.6188394709837541, 0.6188390473176475, 0.618838623745647, 0.6188382002676883, 0.6188377768837074, 0.6188373535936404, 0.6188369303974235, 0.6188365072949925, 0.618836084286284, 0.6188356613712339, 0.6188352385497788, 0.6188348158218551, 0.6188343931873993, 0.6188339706463479, 0.6188335481986376, 0.6188331258442049, 0.6188327035829866, 0.6188322814149195, 0.6188318593399408, 0.6188314373579867, 0.618831015468995, 0.6188305936729022, 0.6188301719696457, 0.6188297503591628, 0.6188293288413904, 0.6188289074162661, 0.6188284860837271, 0.618828064843711, 0.6188276436961552, 0.6188272226409974, 0.6188268016781752, 0.6188263808076262, 0.6188259600292884, 0.6188255393430993, 0.6188251187489969, 0.6188246982469194, 0.6188242778368046, 0.6188238575185906, 0.6188234372922156, 0.6188230171576178, 0.6188225971147354, 0.6188221771635068, 0.6188217573038703, 0.6188213375357646, 0.6188209178591281, 0.6188204982738993, 0.6188200787800168, 0.6188196593774195, 0.618819240066046, 0.6188188208458353, 0.6188184017167261, 0.6188179826786575, 0.6188175637315685, 0.6188171448753981, 0.6188167261100855, 0.6188163074355699, 0.6188158888517906, 0.6188154703586869, 0.6188150519561981, 0.6188146336442638, 0.6188142154228234, 0.6188137972918165, 0.6188133792511827, 0.6188129613008618, 0.6188125434407934, 0.6188121256709174, 0.6188117079911737, 0.6188112904015021, 0.6188108729018428, 0.6188104554921355, 0.6188100381723208, 0.6188096209423385, 0.6188092038021292, 0.6188087867516326, 0.6188083697907897, 0.6188079529195405, 0.6188075361378256, 0.6188071194455856, 0.618806702842761, 0.6188062863292925, 0.6188058699051207, 0.6188054535701865, 0.6188050373244307, 0.6188046211677942, 0.6188042051002179, 0.6188037891216429, 0.6188033732320102, 0.6188029574312609, 0.6188025417193361, 0.6188021260961775, 0.6188017105617257, 0.6188012951159226, 0.6188008797587096, 0.6188004644900277, 0.618800049309819, 0.6187996342180246, 0.6187992192145866, 0.6187988042994464, 0.618798389472546, 0.618797974733827, 0.6187975600832314, 0.6187971455207012, 0.6187967310461783, 0.6187963166596048, 0.6187959023609226, 0.6187954881500741, 0.6187950740270016, 0.6187946599916473, 0.6187942460439536, 0.6187938321838626, 0.6187934184113172, 0.6187930047262596, 0.6187925911286326, 0.6187921776183785, 0.6187917641954402, 0.6187913508597606, 0.6187909376112821, 0.6187905244499479, 0.6187901113757006, 0.6187896983884836, 0.6187892854882395, 0.6187888726749116, 0.618788459948443, 0.6187880473087769, 0.6187876347558565, 0.6187872222896251, 0.6187868099100261, 0.6187863976170029, 0.618785985410499, 0.6187855732904579, 0.6187851612568233, 0.6187847493095385, 0.6187843374485476, 0.6187839256737939, 0.6187835139852218, 0.6187831023827747, 0.6187826908663965, 0.6187822794360315, 0.6187818680916234, 0.6187814568331165, 0.6187810456604547, 0.6187806345735822, 0.6187802235724438, 0.6187798126569831, 0.6187794018271446, 0.618778991082873, 0.6187785804241125, 0.6187781698508078, 0.6187777593629032, 0.6187773489603436, 0.6187769386430737, 0.6187765284110378, 0.6187761182641812, 0.6187757082024484, 0.6187752982257845, 0.6187748883341343, 0.6187744785274428, 0.6187740688056551, 0.6187736591687164, 0.6187732496165718, 0.6187728401491664, 0.6187724307664455, 0.6187720214683545, 0.6187716122548389, 0.6187712031258438, 0.618770794081315, 0.6187703851211976, 0.6187699762454377, 0.6187695674539805, 0.6187691587467722, 0.618768750123758, 0.618768341584884, 0.6187679331300959, 0.6187675247593399, 0.6187671164725614, 0.6187667082697069, 0.6187663001507224, 0.6187658921155537, 0.6187654841641472, 0.6187650762964493, 0.6187646685124059, 0.6187642608119633, 0.6187638531950681, 0.6187634456616667, 0.6187630382117055, 0.6187626308451311, 0.6187622235618899, 0.6187618163619287, 0.6187614092451942, 0.6187610022116329, 0.6187605952611918, 0.6187601883938175, 0.6187597816094573, 0.6187593749080578, 0.618758968289566, 0.618758561753929, 0.6187581553010939, 0.6187577489310078, 0.6187573426436179, 0.6187569364388715, 0.6187565303167158, 0.6187561242770981, 0.618755718319966, 0.6187553124452668, 0.618754906652948, 0.6187545009429571, 0.6187540953152417, 0.6187536897697496, 0.6187532843064282, 0.6187528789252255, 0.6187524736260891, 0.618752068408967, 0.6187516632738072, 0.6187512582205571, 0.6187508532491653, 0.6187504483595796, 0.6187500435517481, 0.618749638825619, 0.6187492341811403, 0.6187488296182603, 0.6187484251369273, 0.6187480207370899, 0.6187476164186962, 0.6187472121816946, 0.6187468080260338, 0.618746403951662, 0.6187459999585282, 0.6187455960465807, 0.6187451922157684, 0.61874478846604, 0.6187443847973442, 0.6187439812096296, 0.6187435777028455, 0.6187431742769405, 0.6187427709318638, 0.6187423676675643, 0.6187419644839911, 0.6187415613810933, 0.61874115835882, 0.6187407554171206, 0.6187403525559442, 0.61873994977524, 0.6187395470749576, 0.6187391444550463, 0.6187387419154555, 0.6187383394561349, 0.6187379370770336, 0.6187375347781017, 0.6187371325592885, 0.6187367304205439, 0.6187363283618176, 0.6187359263830592, 0.6187355244842188, 0.618735122665246, 0.6187347209260908, 0.6187343192667034, 0.6187339176870337, 0.6187335161870315, 0.6187331147666474, 0.6187327134258311, 0.6187323121645331, 0.6187319109827034, 0.6187315098802926, 0.6187311088572508, 0.6187307079135286, 0.6187303070490762, 0.6187299062638442, 0.6187295055577832, 0.6187291049308437, 0.6187287043829764, 0.6187283039141319, 0.618727903524261, 0.6187275032133143, 0.6187271029812427, 0.618726702827997, 0.6187263027535282, 0.6187259027577873, 0.6187255028407251, 0.6187251030022929, 0.6187247032424414, 0.6187243035611221, 0.6187239039582858, 0.6187235044338841, 0.6187231049878681, 0.6187227056201892, 0.6187223063307985, 0.6187219071196476, 0.618721507986688, 0.6187211089318712, 0.6187207099551485, 0.6187203110564716, 0.6187199122357921, 0.618719513493062, 0.6187191148282325, 0.6187187162412556, 0.6187183177320833, 0.6187179193006672, 0.6187175209469592, 0.6187171226709113, 0.6187167244724755, 0.6187163263516038, 0.6187159283082483, 0.618715530342361, 0.6187151324538942, 0.6187147346428, 0.6187143369090309, 0.6187139392525388, 0.6187135416732763, 0.6187131441711959, 0.6187127467462497, 0.6187123493983904, 0.6187119521275701, 0.618711554933742, 0.6187111578168584, 0.6187107607768719, 0.6187103638137351, 0.618709966927401, 0.618709570117822, 0.6187091733849515, 0.6187087767287418, 0.618708380149146, 0.6187079836461171, 0.6187075872196081, 0.6187071908695718, 0.6187067945959617, 0.6187063983987307, 0.6187060022778317, 0.6187056062332184, 0.6187052102648436, 0.6187048143726609, 0.6187044185566235, 0.6187040228166849, 0.6187036271527984, 0.6187032315649174, 0.6187028360529955, 0.6187024406169864, 0.6187020452568435, 0.6187016499725203, 0.6187012547639709, 0.6187008596311486, 0.6187004645740073, 0.6187000695925008, 0.618699674686583, 0.6186992798562079, 0.6186988851013292, 0.6186984904219011, 0.6186980958178772, 0.6186977012892119, 0.6186973068358592, 0.6186969124577734, 0.6186965181549082, 0.6186961239272184, 0.6186957297746583, 0.6186953356971813, 0.6186949416947428, 0.6186945477672966, 0.6186941539147973, 0.6186937601371992, 0.6186933664344573, 0.6186929728065255, 0.6186925792533589, 0.6186921857749118, 0.618691792371139, 0.6186913990419953, 0.6186910057874354, 0.6186906126074141, 0.6186902195018862, 0.6186898264708067, 0.6186894335141303, 0.6186890406318121, 0.6186886478238071, 0.6186882550900703, 0.6186878624305567, 0.6186874698452218, 0.6186870773340205, 0.6186866848969078, 0.6186862925338391, 0.6186859002447701, 0.6186855080296555, 0.618685115888451, 0.6186847238211118, 0.6186843318275936, 0.6186839399078519, 0.6186835480618419, 0.6186831562895194, 0.6186827645908399, 0.6186823729657592, 0.6186819814142329, 0.6186815899362167, 0.6186811985316665, 0.6186808072005379, 0.6186804159427868, 0.6186800247583691, 0.6186796336472408, 0.6186792426093578, 0.6186788516446762, 0.6186784607531517, 0.6186780699347407, 0.6186776791893995, 0.6186772885170838, 0.61867689791775, 0.6186765073913545, 0.6186761169378533, 0.6186757265572029, 0.6186753362493597, 0.6186749460142797, 0.6186745558519198, 0.6186741657622362, 0.6186737757451857, 0.6186733858007246, 0.6186729959288094, 0.618672606129397, 0.6186722164024439, 0.6186718267479068, 0.6186714371657425, 0.6186710476559079, 0.6186706582183594, 0.6186702688530544, 0.6186698795599493, 0.6186694903390014, 0.6186691011901675, 0.6186687121134048, 0.61866832310867, 0.6186679341759205, 0.6186675453151133, 0.6186671565262055, 0.6186667678091544, 0.6186663791639171, 0.6186659905904511, 0.6186656020887136, 0.618665213658662, 0.6186648253002536, 0.6186644370134459, 0.6186640487981961, 0.6186636606544622, 0.6186632725822014, 0.6186628845813713, 0.6186624966519297, 0.6186621087938341, 0.6186617210070421, 0.6186613332915115, 0.6186609456472003, 0.6186605580740661, 0.6186601705720663, 0.6186597831411597, 0.6186593957813036, 0.6186590084924559, 0.6186586212745749, 0.6186582341276186, 0.6186578470515447, 0.6186574600463117, 0.6186570731118777, 0.6186566862482005, 0.6186562994552386, 0.6186559127329504, 0.6186555260812937, 0.6186551395002272, 0.6186547529897093, 0.6186543665496981, 0.6186539801801522, 0.61865359388103, 0.61865320765229, 0.6186528214938909, 0.6186524354057911, 0.6186520493879492, 0.6186516634403239, 0.6186512775628737, 0.6186508917555578, 0.6186505060183346, 0.6186501203511627, 0.6186497347540014, 0.6186493492268091, 0.618648963769545, 0.618648578382168, 0.6186481930646369, 0.6186478078169109, 0.618647422638949, 0.6186470375307102, 0.6186466524921537, 0.6186462675232384, 0.6186458826239237, 0.6186454977941689, 0.618645113033933, 0.6186447283431755, 0.6186443437218557, 0.6186439591699329, 0.6186435746873665, 0.6186431902741159, 0.6186428059301406, 0.6186424216554002, 0.618642037449854, 0.6186416533134618, 0.618641269246183, 0.6186408852479774, 0.6186405013188045, 0.6186401174586242, 0.6186397336673963, 0.6186393499450804, 0.6186389662916363, 0.618638582707024, 0.6186381991912032, 0.618637815744134, 0.6186374323657762, 0.6186370490560898, 0.6186366658150351, 0.6186362826425719, 0.6186358995386602, 0.6186355165032603, 0.6186351335363323, 0.6186347506378364, 0.6186343678077326, 0.6186339850459818, 0.6186336023525436, 0.6186332197273787, 0.6186328371704475, 0.6186324546817102, 0.6186320722611273, 0.6186316899086594, 0.6186313076242667, 0.61863092540791, 0.6186305432595498, 0.6186301611791466, 0.6186297791666611, 0.6186293972220541, 0.6186290153452862, 0.6186286335363181, 0.6186282517951107, 0.6186278701216245, 0.6186274885158207, 0.61862710697766, 0.6186267255071033, 0.6186263441041115, 0.6186259627686459, 0.6186255815006669, 0.6186252003001361, 0.6186248191670142, 0.6186244381012626, 0.6186240571028421, 0.6186236761717141, 0.6186232953078399, 0.6186229145111805, 0.6186225337816972, 0.6186221531193514, 0.6186217725241044, 0.6186213919959177, 0.6186210115347525, 0.6186206311405703, 0.6186202508133326, 0.6186198705530009, 0.6186194903595368, 0.6186191102329016, 0.6186187301730572, 0.6186183501799651, 0.6186179702535869, 0.6186175903938844, 0.6186172106008193, 0.6186168308743534, 0.6186164512144484, 0.6186160716210662, 0.6186156920941687, 0.6186153126337175, 0.6186149332396751, 0.6186145539120028, 0.618614174650663, 0.6186137954556175, 0.6186134163268286, 0.6186130372642582, 0.6186126582678685, 0.6186122793376215, 0.6186119004734797, 0.6186115216754048, 0.6186111429433595, 0.6186107642773059, 0.6186103856772063, 0.618610007143023, 0.6186096286747185, 0.6186092502722551, 0.6186088719355954, 0.6186084936647015, 0.6186081154595363, 0.6186077373200621, 0.6186073592462414, 0.618606981238037, 0.6186066032954115, 0.6186062254183274, 0.6186058476067475, 0.6186054698606344, 0.6186050921799511, 0.6186047145646599, 0.6186043370147242, 0.6186039595301065, 0.6186035821107697, 0.6186032047566767, 0.6186028274677905, 0.618602450244074, 0.6186020730854904, 0.6186016959920024, 0.6186013189635734, 0.6186009420001661, 0.6186005651017439, 0.61860018826827, 0.6185998114997073, 0.6185994347960193, 0.6185990581571691, 0.61859868158312, 0.6185983050738352, 0.6185979286292782, 0.6185975522494123, 0.6185971759342009, 0.6185967996836075, 0.6185964234975955, 0.6185960473761282, 0.6185956713191695, 0.6185952953266826, 0.6185949193986312, 0.6185945435349791, 0.6185941677356896, 0.6185937920007266, 0.6185934163300538, 0.6185930407236347, 0.6185926651814334, 0.6185922897034135, 0.6185919142895389, 0.6185915389397731, 0.6185911636540806, 0.6185907884324248, 0.6185904132747698, 0.6185900381810797, 0.6185896631513184, 0.6185892881854499, 0.6185889132834382, 0.6185885384452475, 0.6185881636708419, 0.6185877889601856, 0.6185874143132427, 0.6185870397299775, 0.618586665210354, 0.6185862907543367, 0.6185859163618898, 0.6185855420329777, 0.6185851677675647, 0.6185847935656151, 0.6185844194270935, 0.6185840453519642, 0.6185836713401918, 0.6185832973917407, 0.6185829235065754, 0.6185825496846605, 0.6185821759259608, 0.6185818022304406, 0.6185814285980646, 0.6185810550287977, 0.6185806815226043, 0.6185803080794493, 0.6185799346992975, 0.6185795613821138, 0.6185791881278627, 0.6185788149365092, 0.6185784418080184, 0.6185780687423548, 0.6185776957394836, 0.6185773227993696, 0.6185769499219781, 0.6185765771072739, 0.618576204355222, 0.6185758316657876, 0.6185754590389357, 0.6185750864746317, 0.6185747139728405, 0.6185743415335271, 0.6185739691566573, 0.6185735968421959, 0.6185732245901084, 0.61857285240036, 0.618572480272916, 0.6185721082077419, 0.618571736204803, 0.6185713642640648, 0.6185709923854926, 0.6185706205690521, 0.6185702488147086, 0.6185698771224276, 0.6185695054921749, 0.6185691339239159, 0.6185687624176164, 0.6185683909732418, 0.6185680195907579, 0.6185676482701304, 0.6185672770113251, 0.6185669058143076, 0.6185665346790438, 0.6185661636054995, 0.6185657925936405, 0.6185654216434328, 0.6185650507548421, 0.6185646799278345, 0.6185643091623757, 0.6185639384584318, 0.6185635678159691, 0.6185631972349531, 0.6185628267153503, 0.6185624562571267, 0.6185620858602483, 0.6185617155246812, 0.6185613452503917, 0.618560975037346, 0.6185606048855103, 0.6185602347948508, 0.6185598647653339, 0.6185594947969255, 0.6185591248895927, 0.6185587550433012, 0.6185583852580177, 0.6185580155337084, 0.61855764587034, 0.6185572762678788, 0.6185569067262912, 0.618556537245544, 0.6185561678256036, 0.6185557984664366, 0.6185554291680095, 0.6185550599302891, 0.6185546907532421, 0.618554321636835, 0.6185539525810344, 0.6185535835858075, 0.6185532146511206, 0.6185528457769407, 0.6185524769632346, 0.6185521082099692, 0.6185517395171113, 0.6185513708846277, 0.6185510023124856, 0.6185506338006517, 0.6185502653490932, 0.6185498969577767, 0.6185495286266697, 0.618549160355739, 0.6185487921449518, 0.6185484239942752, 0.6185480559036761, 0.6185476878731221, 0.6185473199025799, 0.6185469519920171, 0.6185465841414008, 0.6185462163506982, 0.6185458486198766, 0.6185454809489035, 0.6185451133377461, 0.6185447457863718, 0.6185443782947481, 0.618544010862842, 0.6185436434906215, 0.6185432761780538, 0.6185429089251064, 0.6185425417317469, 0.6185421745979429, 0.618541807523662, 0.6185414405088714, 0.6185410735535392, 0.6185407066576328, 0.6185403398211201, 0.6185399730439687, 0.6185396063261461, 0.6185392396676205, 0.6185388730683593, 0.6185385065283306, 0.618538140047502, 0.6185377736258415, 0.6185374072633169, 0.6185370409598963, 0.6185366747155474, 0.6185363085302383, 0.618535942403937, 0.6185355763366113, 0.6185352103282293, 0.6185348443787595, 0.6185344784881694, 0.6185341126564275, 0.6185337468835018, 0.6185333811693604, 0.6185330155139716, 0.6185326499173037, 0.6185322843793246, 0.6185319189000028, 0.6185315534793068, 0.6185311881172045, 0.6185308228136644, 0.6185304575686551, 0.6185300923821446, 0.6185297272541015, 0.6185293621844943, 0.6185289971732914, 0.6185286322204613, 0.6185282673259723, 0.6185279024897934, 0.6185275377118928, 0.6185271729922391, 0.6185268083308012, 0.6185264437275475, 0.6185260791824465, 0.6185257146954674, 0.6185253502665784, 0.6185249858957484, 0.6185246215829464, 0.6185242573281409, 0.6185238931313007, 0.6185235289923948, 0.6185231649113921, 0.6185228008882612, 0.6185224369229713, 0.6185220730154911, 0.6185217091657896, 0.618521345373836, 0.618520981639599, 0.618520617963048, 0.6185202543441516, 0.6185198907828793, 0.6185195272791998, 0.6185191638330826, 0.6185188004444966, 0.618518437113411, 0.6185180738397951, 0.618517710623618, 0.6185173474648492, 0.6185169843634576, 0.6185166213194129, 0.618516258332684, 0.6185158954032404, 0.6185155325310516, 0.6185151697160868, 0.6185148069583156, 0.6185144442577073, 0.6185140816142315, 0.6185137190278573, 0.6185133564985547, 0.618512994026293, 0.6185126316110418, 0.6185122692527706, 0.6185119069514491, 0.6185115447070468, 0.6185111825195333, 0.6185108203888787, 0.6185104583150522, 0.6185100962980237, 0.6185097343377631, 0.6185093724342399, 0.6185090105874242, 0.6185086487972854, 0.6185082870637937, 0.6185079253869187, 0.6185075637666305, 0.618507202202899, 0.6185068406956938, 0.6185064792449854, 0.6185061178507432, 0.6185057565129377, 0.6185053952315385, 0.6185050340065159, 0.6185046728378399, 0.6185043117254806, 0.6185039506694082, 0.6185035896695927, 0.6185032287260043, 0.6185028678386132, 0.6185025070073897, 0.6185021462323038, 0.618501785513326, 0.6185014248504264, 0.6185010642435753, 0.6185007036927431, 0.6185003431979003, 0.6184999827590169, 0.6184996223760636, 0.6184992620490107, 0.6184989017778285, 0.6184985415624876, 0.6184981814029586, 0.6184978212992118, 0.6184974612512179, 0.6184971012589473, 0.6184967413223705, 0.6184963814414584, 0.6184960216161812, 0.61849566184651, 0.6184953021324151, 0.6184949424738673, 0.6184945828708374, 0.618494223323296, 0.6184938638312139, 0.6184935043945617, 0.6184931450133107, 0.6184927856874312, 0.6184924264168942, 0.6184920672016706, 0.6184917080417313, 0.6184913489370472, 0.6184909898875891, 0.6184906308933281, 0.6184902719542352, 0.6184899130702813, 0.6184895542414375, 0.6184891954676747, 0.618488836748964, 0.6184884780852766, 0.6184881194765834, 0.6184877609228558, 0.6184874024240649, 0.6184870439801817, 0.6184866855911775, 0.6184863272570233, 0.6184859689776907, 0.6184856107531508, 0.618485252583375, 0.6184848944683341, 0.618484536408, 0.6184841784023439, 0.6184838204513371, 0.6184834625549509, 0.6184831047131569, 0.6184827469259264, 0.618482389193231, 0.6184820315150419, 0.6184816738913309, 0.6184813163220694, 0.618480958807229, 0.6184806013467811, 0.6184802439406972, 0.6184798865889494, 0.618479529291509, 0.6184791720483475, 0.6184788148594368, 0.6184784577247484, 0.6184781006442543, 0.6184777436179261, 0.6184773866457354, 0.6184770297276542, 0.6184766728636543, 0.6184763160537072, 0.6184759592977851, 0.6184756025958597, 0.6184752459479028, 0.6184748893538866, 0.6184745328137828, 0.6184741763275633, 0.6184738198952002, 0.6184734635166655, 0.6184731071919312, 0.6184727509209691, 0.6184723947037515, 0.6184720385402505, 0.6184716824304379, 0.6184713263742863, 0.6184709703717673, 0.6184706144228536, 0.6184702585275168, 0.6184699026857294, 0.6184695468974637, 0.618469191162692, 0.6184688354813862, 0.6184684798535187, 0.6184681242790622, 0.6184677687579885, 0.6184674132902702, 0.6184670578758796, 0.6184667025147891, 0.6184663472069712, 0.6184659919523983, 0.6184656367510426, 0.6184652816028768, 0.6184649265078735, 0.618464571466005, 0.6184642164772438, 0.6184638615415626, 0.6184635066589339, 0.6184631518293302, 0.6184627970527244, 0.6184624423290888, 0.6184620876583963, 0.6184617330406194, 0.6184613784757308, 0.6184610239637034, 0.6184606695045097, 0.6184603150981227, 0.6184599607445148, 0.6184596064436593, 0.6184592521955286, 0.6184588980000957, 0.6184585438573335, 0.6184581897672148, 0.6184578357297125, 0.6184574817447994, 0.6184571278124487, 0.6184567739326332, 0.6184564201053259, 0.6184560663304998, 0.6184557126081278, 0.6184553589381832, 0.6184550053206388, 0.6184546517554678, 0.6184542982426432, 0.6184539447821383, 0.6184535913739261, 0.6184532380179797, 0.6184528847142724, 0.6184525314627775, 0.6184521782634679, 0.618451825116317, 0.6184514720212982, 0.6184511189783846, 0.6184507659875496, 0.6184504130487661, 0.618450060162008, 0.6184497073272486, 0.6184493545444608, 0.6184490018136185, 0.6184486491346949, 0.6184482965076634, 0.6184479439324976, 0.6184475914091707, 0.6184472389376565, 0.6184468865179283, 0.6184465341499598, 0.6184461818337242, 0.6184458295691955, 0.6184454773563471, 0.6184451251951526, 0.6184447730855858, 0.61844442102762, 0.6184440690212292, 0.6184437170663869, 0.6184433651630667, 0.6184430133112427, 0.6184426615108883, 0.6184423097619776, 0.6184419580644839, 0.6184416064183814, 0.6184412548236438, 0.6184409032802448, 0.6184405517881585, 0.6184402003473586, 0.6184398489578191, 0.6184394976195139, 0.6184391463324169, 0.6184387950965021, 0.6184384439117434, 0.6184380927781148, 0.6184377416955904, 0.6184373906641443, 0.6184370396837503, 0.6184366887543826, 0.6184363378760154, 0.6184359870486227, 0.6184356362721785, 0.6184352855466572, 0.6184349348720327, 0.6184345842482794, 0.6184342336753713, 0.6184338831532828, 0.6184335326819881, 0.6184331822614615, 0.6184328318916772, 0.6184324815726094, 0.6184321313042327, 0.6184317810865212, 0.6184314309194491, 0.6184310808029911, 0.6184307307371216, 0.6184303807218147, 0.6184300307570452, 0.6184296808427872, 0.6184293309790153, 0.618428981165704, 0.6184286314028278, 0.6184282816903612, 0.6184279320282788, 0.618427582416555, 0.6184272328551648, 0.6184268833440821, 0.6184265338832821, 0.6184261844727391, 0.6184258351124278, 0.6184254858023231, 0.6184251365423995, 0.6184247873326316, 0.6184244381729943, 0.6184240890634622, 0.6184237400040102, 0.6184233909946131, 0.6184230420352456, 0.6184226931258825, 0.6184223442664986, 0.6184219954570688, 0.6184216466975679, 0.6184212979879711, 0.6184209493282529, 0.6184206007183883, 0.6184202521583526, 0.6184199036481203, 0.6184195551876664, 0.6184192067769664, 0.6184188584159948, 0.6184185101047268, 0.6184181618431375, 0.6184178136312019, 0.6184174654688951, 0.6184171173561922, 0.6184167692930683, 0.6184164212794985, 0.6184160733154581, 0.6184157254009222, 0.618415377535866, 0.6184150297202646, 0.6184146819540934, 0.6184143342373276, 0.6184139865699424, 0.6184136389519131, 0.6184132913832151, 0.6184129438638235, 0.6184125963937138, 0.6184122489728614, 0.6184119016012416, 0.6184115542788297, 0.6184112070056011, 0.6184108597815314, 0.618410512606596, 0.6184101654807704, 0.6184098184040296, 0.6184094713763498, 0.6184091243977061, 0.6184087774680741, 0.6184084305874294, 0.6184080837557475, 0.618407736973004, 0.6184073902391746, 0.6184070435542347, 0.61840669691816, 0.6184063503309264, 0.6184060037925092, 0.6184056573028842, 0.6184053108620273, 0.6184049644699141, 0.6184046181265203, 0.6184042718318217, 0.6184039255857939, 0.618403579388413, 0.6184032332396546, 0.6184028871394947, 0.6184025410879088, 0.618402195084873, 0.6184018491303632, 0.6184015032243552, 0.618401157366825, 0.6184008115577485, 0.6184004657971015, 0.6184001200848601, 0.6183997744210005, 0.6183994288054983, 0.6183990832383296, 0.6183987377194705, 0.618398392248897, 0.6183980468265855, 0.6183977014525117, 0.6183973561266517, 0.6183970108489817, 0.6183966656194778, 0.6183963204381162, 0.6183959753048732, 0.6183956302197248, 0.6183952851826472, 0.6183949401936166, 0.6183945952526093, 0.6183942503596016, 0.6183939055145697, 0.61839356071749, 0.6183932159683385, 0.6183928712670917, 0.6183925266137261, 0.6183921820082179, 0.6183918374505434, 0.6183914929406791, 0.6183911484786013, 0.6183908040642864, 0.6183904596977109, 0.6183901153788514, 0.618389771107684, 0.6183894268841855, 0.6183890827083326, 0.6183887385801012, 0.6183883944994683, 0.6183880504664103, 0.6183877064809037, 0.6183873625429253, 0.6183870186524515, 0.618386674809459, 0.6183863310139243, 0.6183859872658243, 0.6183856435651354, 0.6183852999118347, 0.6183849563058984, 0.6183846127473034, 0.6183842692360265, 0.6183839257720445, 0.618383582355334, 0.6183832389858719, 0.618382895663635, 0.6183825523886, 0.6183822091607437, 0.6183818659800433, 0.6183815228464752, 0.6183811797600165, 0.6183808367206441, 0.618380493728335, 0.618380150783066, 0.6183798078848141, 0.6183794650335561, 0.6183791222292692, 0.6183787794719303, 0.6183784367615164, 0.6183780940980045, 0.6183777514813716, 0.618377408911595, 0.6183770663886514, 0.6183767239125183, 0.6183763814831725, 0.6183760391005912, 0.6183756967647516, 0.6183753544756309, 0.618375012233206, 0.6183746700374544, 0.618374327888353, 0.6183739857858793, 0.6183736437300105, 0.6183733017207236, 0.618372959757996, 0.6183726178418052, 0.6183722759721282, 0.6183719341489424, 0.618371592372225, 0.6183712506419536, 0.6183709089581056, 0.6183705673206582, 0.6183702257295888, 0.6183698841848746, 0.6183695426864934, 0.6183692012344224, 0.6183688598286392, 0.6183685184691213, 0.618368177155846, 0.618367835888791, 0.6183674946679334, 0.6183671534932514, 0.6183668123647221, 0.6183664712823231, 0.6183661302460319, 0.6183657892558264, 0.618365448311684, 0.6183651074135824, 0.6183647665614991, 0.6183644257554121, 0.6183640849952986, 0.6183637442811366, 0.6183634036129039, 0.6183630629905779, 0.6183627224141364, 0.6183623818835572, 0.6183620413988182, 0.6183617009598972, 0.6183613605667716, 0.6183610202194197, 0.6183606799178191, 0.6183603396619476, 0.6183599994517831, 0.6183596592873035, 0.6183593191684866, 0.6183589790953106, 0.618358639067753, 0.6183582990857921, 0.6183579591494055, 0.6183576192585714, 0.6183572794132677, 0.6183569396134725, 0.6183565998591637, 0.6183562601503195, 0.6183559204869176, 0.6183555808689363, 0.6183552412963536, 0.6183549017691476, 0.6183545622872965, 0.6183542228507781, 0.6183538834595711, 0.6183535441136531, 0.6183532048130025, 0.6183528655575974, 0.6183525263474161, 0.6183521871824368, 0.6183518480626375, 0.6183515089879967, 0.6183511699584925, 0.6183508309741034, 0.6183504920348073, 0.6183501531405826, 0.618349814291408, 0.6183494754872613, 0.6183491367281212, 0.6183487980139658, 0.6183484593447738, 0.6183481207205231, 0.6183477821411928, 0.6183474436067605, 0.6183471051172053, 0.6183467666725051, 0.6183464282726389, 0.6183460899175848, 0.6183457516073213, 0.6183454133418272, 0.6183450751210807, 0.6183447369450606, 0.6183443988137453, 0.6183440607271131, 0.618343722685143, 0.6183433846878135, 0.6183430467351032, 0.6183427088269905, 0.6183423709634542, 0.6183420331444731, 0.6183416953700256, 0.6183413576400906, 0.6183410199546466, 0.6183406823136725, 0.6183403447171467, 0.6183400071650484, 0.618339669657356, 0.6183393321940485, 0.6183389947751045, 0.6183386574005029, 0.6183383200702223, 0.6183379827842418, 0.6183376455425401, 0.6183373083450963, 0.6183369711918888, 0.6183366340828967, 0.6183362970180992, 0.6183359599974748, 0.6183356230210026, 0.6183352860886615, 0.6183349492004304, 0.6183346123562884, 0.6183342755562145, 0.6183339388001875, 0.6183336020881867, 0.6183332654201907, 0.6183329287961791, 0.6183325922161305, 0.618332255680024, 0.6183319191878388, 0.6183315827395544, 0.618331246335149, 0.6183309099746026, 0.6183305736578938, 0.6183302373850019, 0.6183299011559062, 0.6183295649705858, 0.6183292288290199, 0.6183288927311875, 0.6183285566770681, 0.618328220666641, 0.6183278846998851, 0.6183275487767799, 0.6183272128973047, 0.6183268770614389, 0.6183265412691614, 0.6183262055204519, 0.6183258698152896, 0.6183255341536538, 0.6183251985355239, 0.6183248629608794, 0.6183245274296997, 0.618324191941964, 0.6183238564976516, 0.6183235210967425, 0.6183231857392157, 0.6183228504250508, 0.6183225151542272, 0.6183221799267243, 0.6183218447425219, 0.6183215096015995, 0.6183211745039362, 0.6183208394495119, 0.6183205044383063, 0.6183201694702986, 0.6183198345454686, 0.6183194996637957, 0.6183191648252598, 0.6183188300298404, 0.618318495277517, 0.6183181605682696, 0.6183178259020776, 0.6183174912789208, 0.6183171566987786, 0.6183168221616312, 0.618316487667458, 0.6183161532162388, 0.6183158188079533, 0.6183154844425813, 0.6183151501201027, 0.6183148158404971, 0.6183144816037445, 0.6183141474098245, 0.6183138132587171, 0.6183134791504021, 0.6183131450848594, 0.6183128110620687, 0.6183124770820102, 0.6183121431446635, 0.6183118092500086, 0.6183114753980256, 0.6183111415886942, 0.6183108078219943, 0.6183104740979062, 0.6183101404164095, 0.6183098067774846, 0.6183094731811113, 0.6183091396272694, 0.6183088061159393, 0.618308472647101, 0.6183081392207344, 0.6183078058368193, 0.6183074724953365, 0.6183071391962656, 0.6183068059395868, 0.6183064727252804, 0.6183061395533263, 0.6183058064237046, 0.6183054733363958, 0.6183051402913798, 0.618304807288637, 0.6183044743281476, 0.6183041414098915, 0.6183038085338493, 0.618303475700001, 0.6183031429083271, 0.6183028101588075, 0.6183024774514229, 0.6183021447861534, 0.6183018121629793, 0.6183014795818811, 0.6183011470428388, 0.6183008145458331, 0.618300482090844, 0.6183001496778522, 0.618299817306838, 0.6182994849777818, 0.6182991526906639, 0.618298820445465, 0.6182984882421652, 0.6182981560807452, 0.6182978239611855, 0.6182974918834663, 0.6182971598475684, 0.6182968278534722, 0.6182964959011581, 0.6182961639906067, 0.6182958321217986, 0.6182955002947145, 0.6182951685093346, 0.6182948367656398, 0.6182945050636107, 0.6182941734032277, 0.6182938417844714, 0.6182935102073228, 0.6182931786717623, 0.6182928471777703, 0.6182925157253281, 0.6182921843144159, 0.6182918529450145, 0.6182915216171047, 0.6182911903306672, 0.6182908590856826, 0.6182905278821319, 0.6182901967199956, 0.6182898655992548, 0.6182895345198901, 0.6182892034818822, 0.618288872485212, 0.6182885415298603, 0.6182882106158082, 0.6182878797430362, 0.6182875489115254, 0.6182872181212565, 0.6182868873722105, 0.6182865566643683, 0.6182862259977109, 0.6182858953722189, 0.6182855647878737, 0.6182852342446559, 0.6182849037425465, 0.6182845732815268, 0.6182842428615775, 0.6182839124826797, 0.6182835821448142, 0.6182832518479622, 0.6182829215921049, 0.6182825913772232, 0.6182822612032981, 0.6182819310703108, 0.6182816009782424, 0.6182812709270739, 0.6182809409167864, 0.6182806109473612, 0.6182802810187793, 0.6182799511310219, 0.6182796212840701, 0.6182792914779053, 0.6182789617125084, 0.6182786319878607, 0.6182783023039435, 0.618277972660738, 0.6182776430582253, 0.6182773134963868, 0.6182769839752038, 0.6182766544946575, 0.6182763250547293, 0.6182759956554001, 0.6182756662966518, 0.6182753369784653, 0.6182750077008221, 0.6182746784637035, 0.618274349267091, 0.6182740201109659, 0.6182736909953094, 0.6182733619201031, 0.6182730328853284, 0.6182727038909667, 0.6182723749369994, 0.618272046023408, 0.6182717171501739, 0.6182713883172787, 0.6182710595247036, 0.6182707307724304, 0.6182704020604405, 0.6182700733887154, 0.6182697447572367, 0.6182694161659859, 0.6182690876149445, 0.6182687591040942, 0.6182684306334162, 0.6182681022028927, 0.618267773812505, 0.6182674454622346, 0.6182671171520633, 0.6182667888819727, 0.6182664606519445, 0.6182661324619602, 0.6182658043120016, 0.6182654762020504, 0.6182651481320882, 0.6182648201020968, 0.618264492112058, 0.6182641641619535, 0.618263836251765, 0.6182635083814741, 0.6182631805510629, 0.6182628527605128, 0.6182625250098059, 0.618262197298924, 0.6182618696278487, 0.6182615419965621, 0.6182612144050459, 0.618260886853282, 0.6182605593412521, 0.6182602318689383, 0.6182599044363224, 0.6182595770433863, 0.6182592496901119, 0.6182589223764812, 0.6182585951024759, 0.6182582678680782, 0.6182579406732702, 0.6182576135180334, 0.6182572864023502, 0.6182569593262025, 0.6182566322895722, 0.6182563052924412, 0.618255978334792, 0.6182556514166061, 0.6182553245378659, 0.6182549976985534, 0.6182546708986506, 0.6182543441381396, 0.6182540174170026, 0.6182536907352217, 0.6182533640927789, 0.6182530374896562, 0.6182527109258363, 0.6182523844013008, 0.6182520579160321, 0.6182517314700123, 0.6182514050632238, 0.6182510786956487, 0.618250752367269, 0.6182504260780672, 0.6182500998280254, 0.618249773617126, 0.618249447445351, 0.618249121312683, 0.618248795219104, 0.6182484691645965, 0.6182481431491427, 0.6182478171727248, 0.6182474912353253, 0.6182471653369267, 0.6182468394775109, 0.6182465136570607, 0.6182461878755583, 0.6182458621329859, 0.6182455364293263, 0.6182452107645617, 0.6182448851386745, 0.6182445595516471, 0.6182442340034621, 0.6182439084941016, 0.6182435830235485, 0.6182432575917851, 0.6182429321987939, 0.6182426068445573, 0.6182422815290579, 0.6182419562522784, 0.618241631014201, 0.6182413058148085, 0.6182409806540833, 0.618240655532008, 0.6182403304485652, 0.6182400054037375, 0.6182396803975075, 0.6182393554298579, 0.6182390305007712, 0.6182387056102301, 0.6182383807582171, 0.618238055944715, 0.6182377311697065, 0.6182374064331743, 0.6182370817351007, 0.6182367570754691, 0.6182364324542615, 0.6182361078714611, 0.6182357833270504, 0.6182354588210124, 0.6182351343533297, 0.6182348099239849, 0.618234485532961, 0.6182341611802405, 0.6182338368658068, 0.6182335125896422, 0.6182331883517295, 0.6182328641520518, 0.6182325399905919, 0.6182322158673326, 0.6182318917822568, 0.6182315677353473, 0.6182312437265869, 0.6182309197559587, 0.6182305958234456, 0.6182302719290304, 0.6182299480726962, 0.6182296242544256, 0.618229300474202, 0.618228976732008, 0.6182286530278269, 0.6182283293616415, 0.6182280057334347, 0.6182276821431898, 0.6182273585908894, 0.6182270350765171, 0.6182267116000555, 0.6182263881614876, 0.6182260647607968, 0.6182257413979659, 0.6182254180729782, 0.6182250947858166, 0.6182247715364644, 0.6182244483249044, 0.6182241251511202, 0.6182238020150945, 0.6182234789168106, 0.6182231558562518, 0.6182228328334011, 0.6182225098482418, 0.618222186900757, 0.6182218639909298, 0.6182215411187437, 0.6182212182841816, 0.6182208954872271, 0.6182205727278631, 0.6182202500060731, 0.6182199273218402, 0.6182196046751477, 0.618219282065979, 0.6182189594943173, 0.618218636960146, 0.6182183144634483, 0.6182179920042076, 0.6182176695824072, 0.6182173471980305, 0.6182170248510608, 0.6182167025414816, 0.6182163802692762, 0.6182160580344278, 0.6182157358369201, 0.6182154136767366, 0.6182150915538603, 0.618214769468275, 0.6182144474199639, 0.6182141254089106, 0.6182138034350986, 0.6182134814985112, 0.618213159599132, 0.6182128377369447, 0.6182125159119324, 0.6182121941240789, 0.6182118723733677, 0.6182115506597824, 0.6182112289833063, 0.618210907343923, 0.6182105857416162, 0.6182102641763697, 0.6182099426481666, 0.6182096211569909, 0.618209299702826, 0.6182089782856556, 0.6182086569054633, 0.6182083355622329, 0.6182080142559478, 0.6182076929865917, 0.6182073717541485, 0.6182070505586017, 0.618206729399935, 0.6182064082781321, 0.6182060871931769, 0.618205766145053, 0.618205445133744, 0.6182051241592338, 0.6182048032215061, 0.6182044823205448, 0.6182041614563334, 0.6182038406288559, 0.6182035198380962, 0.6182031990840378, 0.6182028783666648, 0.6182025576859608, 0.6182022370419097, 0.6182019164344955, 0.6182015958637019, 0.6182012753295129, 0.6182009548319123, 0.6182006343708838, 0.6182003139464116, 0.6181999935584795, 0.6181996732070715, 0.6181993528921714, 0.6181990326137631, 0.6181987123718308, 0.6181983921663581, 0.6181980719973292, 0.6181977518647281, 0.6181974317685387, 0.618197111708745, 0.618196791685331, 0.618196471698281, 0.6181961517475786, 0.618195831833208, 0.6181955119551534, 0.6181951921133988, 0.6181948723079281, 0.6181945525387255, 0.618194232805775, 0.6181939131090608, 0.6181935934485672, 0.618193273824278, 0.6181929542361773, 0.6181926346842496, 0.6181923151684787, 0.618191995688849, 0.6181916762453444, 0.6181913568379493, 0.6181910374666478, 0.6181907181314242, 0.6181903988322627, 0.6181900795691473, 0.6181897603420626, 0.6181894411509924, 0.6181891219959212, 0.6181888028768333, 0.6181884837937129, 0.6181881647465443, 0.6181878457353117, 0.6181875267599994, 0.6181872078205919, 0.6181868889170734, 0.6181865700494282, 0.6181862512176405, 0.618185932421695, 0.6181856136615757, 0.6181852949372671, 0.6181849762487537, 0.6181846575960197, 0.6181843389790497, 0.6181840203978278, 0.6181837018523387, 0.6181833833425668, 0.6181830648684964, 0.618182746430112, 0.6181824280273979, 0.6181821096603388, 0.618181791328919, 0.6181814730331233, 0.6181811547729359, 0.6181808365483413, 0.6181805183593241, 0.6181802002058688, 0.6181798820879598, 0.618179564005582, 0.6181792459587196, 0.6181789279473573, 0.6181786099714796, 0.6181782920310711, 0.6181779741261164, 0.6181776562566001, 0.618177338422507, 0.6181770206238215, 0.6181767028605281, 0.6181763851326117, 0.6181760674400568, 0.6181757497828482, 0.6181754321609704, 0.618175114574408, 0.618174797023146, 0.618174479507169, 0.6181741620264615, 0.6181738445810082, 0.6181735271707941, 0.6181732097958038, 0.6181728924560219, 0.6181725751514333, 0.6181722578820228, 0.6181719406477751, 0.6181716234486749, 0.6181713062847072, 0.6181709891558566, 0.618170672062108, 0.6181703550034461, 0.6181700379798558, 0.6181697209913221, 0.6181694040378296, 0.6181690871193632, 0.6181687702359079, 0.6181684533874484, 0.6181681365739697, 0.6181678197954569, 0.6181675030518943, 0.6181671863432672, 0.6181668696695606, 0.6181665530307592, 0.6181662364268482, 0.6181659198578122, 0.6181656033236367, 0.618165286824306, 0.6181649703598056, 0.61816465393012, 0.6181643375352346, 0.6181640211751342, 0.6181637048498041, 0.618163388559229, 0.6181630723033941, 0.6181627560822842, 0.6181624398958846, 0.6181621237441803, 0.6181618076271564, 0.6181614915447979, 0.6181611754970899, 0.6181608594840174, 0.6181605435055658, 0.61816022756172, 0.618159911652465, 0.6181595957777862, 0.6181592799376685, 0.6181589641320973, 0.6181586483610576, 0.6181583326245345, 0.6181580169225133, 0.6181577012549793, 0.6181573856219174, 0.618157070023313, 0.6181567544591513, 0.6181564389294174, 0.6181561234340968, 0.6181558079731744, 0.6181554925466357, 0.6181551771544658, 0.61815486179665, 0.6181545464731738, 0.6181542311840222, 0.6181539159291806, 0.6181536007086343, 0.6181532855223688, 0.618152970370369, 0.6181526552526205, 0.6181523401691086, 0.6181520251198188, 0.6181517101047362, 0.6181513951238464, 0.6181510801771346, 0.6181507652645862, 0.6181504503861867, 0.6181501355419214, 0.6181498207317758, 0.6181495059557354, 0.6181491912137853, 0.6181488765059112, 0.6181485618320985, 0.6181482471923329, 0.6181479325865993, 0.6181476180148835, 0.6181473034771711, 0.6181469889734474, 0.618146674503698, 0.6181463600679084, 0.6181460456660639, 0.6181457312981505, 0.6181454169641534, 0.6181451026640582, 0.6181447883978503, 0.6181444741655153, 0.6181441599670393, 0.6181438458024073, 0.6181435316716051, 0.6181432175746182, 0.6181429035114323, 0.618142589482033, 0.6181422754864059, 0.6181419615245366, 0.6181416475964109, 0.6181413337020142, 0.6181410198413323, 0.6181407060143509, 0.6181403922210557, 0.6181400784614323, 0.6181397647354663, 0.6181394510431436, 0.6181391373844499, 0.6181388237593709, 0.6181385101678922, 0.6181381966099995, 0.6181378830856789, 0.6181375695949157, 0.6181372561376961, 0.6181369427140055, 0.61813662932383, 0.6181363159671551, 0.6181360026439668, 0.6181356893542509, 0.6181353760979931, 0.6181350628751793, 0.6181347496857952, 0.6181344365298269, 0.61813412340726, 0.6181338103180807, 0.6181334972622744, 0.6181331842398272, 0.6181328712507251, 0.618132558294954, 0.6181322453724996, 0.6181319324833479, 0.6181316196274848, 0.6181313068048963, 0.618130994015568, 0.6181306812594864, 0.618130368536637, 0.6181300558470062, 0.6181297431905797, 0.6181294305673434, 0.6181291179772832, 0.6181288054203856, 0.6181284928966362, 0.618128180406021, 0.6181278679485261, 0.6181275555241378, 0.6181272431328416, 0.618126930774624, 0.6181266184494708, 0.6181263061573682, 0.6181259938983023, 0.6181256816722589, 0.6181253694792245, 0.6181250573191849, 0.6181247451921263, 0.6181244330980348, 0.6181241210368966, 0.6181238090086977, 0.6181234970134243, 0.6181231850510625, 0.6181228731215987, 0.6181225612250187, 0.6181222493613089, 0.6181219375304555, 0.6181216257324446, 0.6181213139672624, 0.6181210022348951, 0.6181206905353289, 0.6181203788685501, 0.618120067234545, 0.6181197556332996, 0.6181194440648002, 0.6181191325290333, 0.618118821025985, 0.6181185095556415, 0.6181181981179892, 0.6181178867130145, 0.6181175753407032, 0.6181172640010422, 0.6181169526940175, 0.6181166414196154, 0.6181163301778225, 0.6181160189686249, 0.6181157077920089, 0.6181153966479611, 0.6181150855364675, 0.618114774457515, 0.6181144634110893, 0.6181141523971776, 0.6181138414157656, 0.6181135304668399, 0.6181132195503872, 0.6181129086663936, 0.6181125978148455, 0.6181122869957296, 0.6181119762090324, 0.6181116654547398, 0.6181113547328388, 0.6181110440433157, 0.6181107333861571, 0.6181104227613493, 0.6181101121688787, 0.6181098016087321, 0.618109491080896, 0.6181091805853565, 0.6181088701221006, 0.6181085596911144, 0.6181082492923851, 0.6181079389258985, 0.6181076285916417, 0.6181073182896012, 0.6181070080197631, 0.6181066977821146, 0.6181063875766418, 0.6181060774033318, 0.6181057672621707, 0.6181054571531455, 0.6181051470762426, 0.6181048370314488, 0.6181045270187505, 0.6181042170381347, 0.6181039070895877, 0.6181035971730963, 0.6181032872886473, 0.6181029774362272, 0.6181026676158227, 0.6181023578274205, 0.6181020480710075, 0.6181017383465701, 0.6181014286540955, 0.6181011189935699, 0.6181008093649801, 0.6181004997683132, 0.6181001902035557, 0.6180998806706944, 0.6180995711697161, 0.6180992617006075, 0.6180989522633555, 0.6180986428579467, 0.618098333484368, 0.6180980241426064, 0.6180977148326484, 0.6180974055544811, 0.6180970963080911, 0.6180967870934654, 0.6180964779105906, 0.618096168759454, 0.618095859640042, 0.6180955505523417, 0.61809524149634, 0.6180949324720236, 0.6180946234793797, 0.6180943145183949, 0.6180940055890564, 0.6180936966913507, 0.6180933878252651, 0.6180930789907865, 0.6180927701879017, 0.6180924614165977, 0.6180921526768614, 0.6180918439686799, 0.6180915352920399, 0.6180912266469286, 0.6180909180333333, 0.6180906094512404, 0.6180903009006371, 0.6180899923815105, 0.6180896838938476, 0.6180893754376354, 0.618089067012861, 0.6180887586195113, 0.6180884502575734, 0.6180881419270345, 0.6180878336278814, 0.6180875253601016, 0.6180872171236818, 0.6180869089186091, 0.6180866007448708, 0.6180862926024537, 0.6180859844913453, 0.6180856764115324, 0.6180853683630022, 0.6180850603457421, 0.6180847523597388, 0.6180844444049798, 0.6180841364814521, 0.6180838285891428, 0.6180835207280392, 0.6180832128981285, 0.6180829050993979, 0.6180825973318345, 0.6180822895954253, 0.618081981890158, 0.6180816742160193, 0.618081366572997, 0.6180810589610778, 0.6180807513802492, 0.6180804438304983, 0.6180801363118127, 0.6180798288241793, 0.6180795213675854, 0.6180792139420184, 0.6180789065474656, 0.6180785991839142, 0.6180782918513517, 0.6180779845497649, 0.6180776772791419, 0.6180773700394694, 0.6180770628307348, 0.6180767556529257, 0.6180764485060294, 0.6180761413900331, 0.6180758343049242, 0.61807552725069, 0.6180752202273181, 0.6180749132347957, 0.6180746062731104, 0.6180742993422491, 0.6180739924421997, 0.6180736855729496, 0.618073378734486, 0.6180730719267964, 0.6180727651498683, 0.618072458403689, 0.618072151688246, 0.6180718450035269, 0.618071538349519, 0.6180712317262099, 0.618070925133587, 0.6180706185716377, 0.6180703120403497, 0.6180700055397103, 0.6180696990697072, 0.6180693926303278, 0.6180690862215598, 0.6180687798433903, 0.6180684734958074, 0.6180681671787982, 0.6180678608923503, 0.6180675546364516, 0.6180672484110894, 0.6180669422162515, 0.618066636051925, 0.6180663299180978, 0.6180660238147577, 0.6180657177418921, 0.6180654116994887, 0.6180651056875348, 0.6180647997060184, 0.6180644937549269, 0.6180641878342481, 0.6180638819439696, 0.6180635760840791, 0.6180632702545642, 0.6180629644554124, 0.6180626586866117, 0.6180623529481497, 0.618062047240014, 0.6180617415621924, 0.6180614359146724, 0.618061130297442, 0.6180608247104887, 0.6180605191538003, 0.6180602136273646, 0.6180599081311693, 0.6180596026652021, 0.6180592972294509, 0.6180589918239031, 0.618058686448547, 0.61805838110337, 0.61805807578836, 0.6180577705035049, 0.6180574652487923, 0.6180571600242102, 0.6180568548297461, 0.6180565496653883, 0.6180562445311242, 0.6180559394269419, 0.6180556343528291, 0.6180553293087738, 0.6180550242947638, 0.6180547193107868, 0.6180544143568308, 0.6180541094328837, 0.6180538045389334, 0.6180534996749677, 0.6180531948409747, 0.6180528900369421, 0.6180525852628578, 0.6180522805187099, 0.6180519758044861, 0.6180516711201748, 0.6180513664657633, 0.61805106184124, 0.6180507572465928, 0.6180504526818094, 0.6180501481468781, 0.6180498436417867, 0.6180495391665232, 0.6180492347210756, 0.6180489303054321, 0.6180486259195803, 0.6180483215635086, 0.6180480172372048, 0.6180477129406571, 0.6180474086738532, 0.6180471044367815, 0.6180468002294299, 0.6180464960517864, 0.6180461919038394, 0.6180458877855765, 0.618045583696986, 0.6180452796380559, 0.6180449756087746, 0.6180446716091297, 0.6180443676391097, 0.6180440636987026, 0.6180437597878964, 0.6180434559066793, 0.6180431520550397, 0.6180428482329652, 0.6180425444404443, 0.6180422406774652, 0.6180419369440158, 0.6180416332400847, 0.6180413295656595, 0.6180410259207287, 0.6180407223052806, 0.6180404187193033, 0.6180401151627848, 0.6180398116357135, 0.6180395081380776, 0.6180392046698655, 0.618038901231065, 0.6180385978216646, 0.6180382944416526, 0.6180379910910171, 0.6180376877697465, 0.6180373844778291, 0.6180370812152529, 0.6180367779820062, 0.6180364747780777, 0.6180361716034554, 0.6180358684581274, 0.6180355653420823, 0.6180352622553085, 0.6180349591977939, 0.6180346561695271, 0.6180343531704967, 0.6180340502006905, 0.6180337472600971, 0.6180334443487049, 0.6180331414665022, 0.6180328386134772, 0.6180325357896187, 0.6180322329949147, 0.6180319302293537, 0.6180316274929241, 0.6180313247856143, 0.6180310221074127, 0.6180307194583077, 0.6180304168382879, 0.6180301142473413, 0.6180298116854568, 0.6180295091526226, 0.6180292066488271, 0.618028904174059, 0.6180286017283065, 0.6180282993115582, 0.6180279969238026, 0.618027694565028, 0.6180273922352232, 0.6180270899343763, 0.6180267876624761, 0.618026485419511, 0.6180261832054695, 0.6180258810203404, 0.6180255788641117, 0.6180252767367723, 0.6180249746383106, 0.6180246725687153, 0.6180243705279748, 0.6180240685160777, 0.6180237665330125, 0.618023464578768, 0.6180231626533327, 0.6180228607566949, 0.6180225588888436, 0.6180222570497671, 0.6180219552394541, 0.6180216534578934, 0.6180213517050733, 0.6180210499809828, 0.6180207482856102, 0.6180204466189443, 0.6180201449809737, 0.618019843371687, 0.6180195417910729, 0.6180192402391201, 0.6180189387158174, 0.6180186372211531, 0.6180183357551163, 0.6180180343176955, 0.6180177329088795, 0.6180174315286567, 0.6180171301770163, 0.6180168288539466, 0.6180165275594365, 0.6180162262934747, 0.61801592505605, 0.6180156238471511, 0.6180153226667667, 0.6180150215148856, 0.6180147203914967, 0.6180144192965885, 0.6180141182301501, 0.6180138171921699, 0.618013516182637, 0.6180132152015401, 0.618012914248868, 0.6180126133246093, 0.6180123124287533, 0.6180120115612884, 0.6180117107222036, 0.6180114099114877, 0.6180111091291296, 0.6180108083751181, 0.618010507649442, 0.6180102069520903, 0.6180099062830517, 0.6180096056423152, 0.6180093050298696, 0.6180090044457041, 0.618008703889807, 0.6180084033621677, 0.6180081028627746, 0.6180078023916172, 0.6180075019486841, 0.6180072015339645, 0.6180069011474469, 0.6180066007891206, 0.6180063004589743, 0.6180060001569971, 0.6180056998831779, 0.6180053996375057, 0.6180050994199693, 0.618004799230558, 0.6180044990692605, 0.618004198936066, 0.6180038988309633, 0.6180035987539415, 0.6180032987049896, 0.6180029986840966, 0.6180026986912516, 0.6180023987264437, 0.6180020987896615, 0.6180017988808945, 0.6180014990001316, 0.6180011991473617, 0.6180008993225742, 0.6180005995257579, 0.6180002997569018, 0.6180000000159952, 0.6179997003030272, 0.6179994006179866, 0.6179991009608629, 0.6179988013316449, 0.6179985017303217, 0.6179982021568826, 0.6179979026113166, 0.617997603093613, 0.6179973036037606, 0.6179970041417487, 0.6179967047075667, 0.6179964053012034, 0.6179961059226481, 0.61799580657189, 0.6179955072489183, 0.6179952079537221, 0.6179949086862904, 0.6179946094466127, 0.6179943102346781, 0.6179940110504758, 0.617993711893995, 0.6179934127652248, 0.6179931136641547, 0.6179928145907736, 0.617992515545071, 0.6179922165270361, 0.6179919175366579, 0.6179916185739259, 0.6179913196388293, 0.6179910207313574, 0.6179907218514994, 0.6179904229992446, 0.6179901241745822, 0.6179898253775016, 0.6179895266079922, 0.6179892278660432, 0.6179889291516436, 0.6179886304647833, 0.617988331805451, 0.6179880331736365, 0.617987734569329, 0.6179874359925177, 0.6179871374431921, 0.6179868389213417, 0.6179865404269554, 0.6179862419600229, 0.6179859435205334, 0.6179856451084765, 0.6179853467238415, 0.6179850483666176, 0.6179847500367944, 0.6179844517343612, 0.6179841534593075, 0.6179838552116226, 0.617983556991296, 0.617983258798317, 0.6179829606326751, 0.6179826624943597, 0.6179823643833604, 0.6179820662996666, 0.6179817682432676, 0.617981470214153, 0.6179811722123122, 0.6179808742377346, 0.6179805762904099, 0.6179802783703273, 0.6179799804774766, 0.6179796826118469, 0.6179793847734281, 0.6179790869622096, 0.6179787891781808, 0.6179784914213312, 0.6179781936916505, 0.6179778959891282, 0.6179775983137535, 0.6179773006655165, 0.6179770030444063, 0.6179767054504127, 0.6179764078835253, 0.6179761103437333, 0.6179758128310268, 0.6179755153453949, 0.6179752178868273, 0.6179749204553139, 0.617974623050844, 0.6179743256734073, 0.6179740283229932, 0.6179737309995919, 0.6179734337031922, 0.6179731364337844, 0.6179728391913578, 0.6179725419759022, 0.6179722447874071, 0.6179719476258622, 0.6179716504912572, 0.6179713533835818, 0.6179710563028257, 0.6179707592489783, 0.6179704622220294, 0.6179701652219689, 0.6179698682487863, 0.6179695713024713, 0.6179692743830136, 0.617968977490403, 0.6179686806246292, 0.6179683837856819, 0.6179680869735508, 0.6179677901882256, 0.617967493429696, 0.6179671966979519, 0.617966899992983, 0.617966603314779, 0.6179663066633297, 0.617966010038625, 0.6179657134406543, 0.6179654168694078, 0.6179651203248749, 0.6179648238070458, 0.61796452731591, 0.6179642308514574, 0.6179639344136777, 0.6179636380025608, 0.6179633416180967, 0.617963045260275, 0.6179627489290856, 0.6179624526245183, 0.617962156346563, 0.6179618600952095, 0.6179615638704476, 0.6179612676722673, 0.6179609715006585, 0.6179606753556108, 0.6179603792371143, 0.6179600831451589, 0.6179597870797343, 0.6179594910408307, 0.6179591950284375, 0.6179588990425453, 0.6179586030831434, 0.617958307150222, 0.6179580112437709, 0.6179577153637803, 0.6179574195102399, 0.6179571236831396, 0.6179568278824694, 0.6179565321082192, 0.6179562363603792, 0.6179559406389392, 0.6179556449438891, 0.617955349275219, 0.6179550536329187, 0.6179547580169784, 0.617954462427388, 0.6179541668641375, 0.6179538713272169, 0.6179535758166161, 0.6179532803323254, 0.6179529848743347, 0.6179526894426337, 0.617952394037213, 0.6179520986580621, 0.6179518033051714, 0.6179515079785307, 0.6179512126781304, 0.6179509174039602, 0.6179506221560104, 0.6179503269342709, 0.6179500317387319, 0.6179497365693833, 0.6179494414262154, 0.6179491463092183, 0.617948851218382, 0.6179485561536966, 0.6179482611151521, 0.617947966102739, 0.617947671116447, 0.6179473761562665, 0.6179470812221874, 0.6179467863142001, 0.6179464914322945, 0.6179461965764609, 0.6179459017466894, 0.6179456069429703, 0.6179453121652935, 0.6179450174136493, 0.6179447226880279, 0.6179444279884195, 0.6179441333148142, 0.6179438386672024, 0.6179435440455741, 0.6179432494499194, 0.6179429548802288, 0.6179426603364923, 0.6179423658187003, 0.6179420713268429, 0.6179417768609103, 0.6179414824208929, 0.6179411880067807, 0.6179408936185641, 0.6179405992562337, 0.6179403049197789, 0.6179400106091907, 0.6179397163244593, 0.6179394220655745, 0.617939127832527, 0.6179388336253071, 0.6179385394439049, 0.6179382452883108, 0.617937951158515, 0.617937657054508, 0.61793736297628, 0.6179370689238212, 0.6179367748971222, 0.617936480896173, 0.6179361869209642, 0.6179358929714862, 0.617935599047729, 0.6179353051496833, 0.6179350112773392, 0.6179347174306872, 0.6179344236097177, 0.6179341298144211, 0.6179338360447875, 0.6179335423008075, 0.6179332485824716, 0.6179329548897701, 0.6179326612226932, 0.6179323675812317, 0.6179320739653756, 0.6179317803751155, 0.617931486810442, 0.6179311932713452, 0.6179308997578158, 0.6179306062698441, 0.6179303128074206, 0.6179300193705356, 0.6179297259591798, 0.6179294325733437, 0.6179291392130174, 0.6179288458781915, 0.6179285525688567, 0.6179282592850034, 0.6179279660266219, 0.617927672793703, 0.6179273795862368, 0.6179270864042141, 0.6179267932476252, 0.6179265001164609, 0.6179262070107115, 0.6179259139303678, 0.6179256208754198, 0.6179253278458585, 0.6179250348416744, 0.6179247418628577, 0.6179244489093992, 0.6179241559812897, 0.6179238630785193, 0.6179235702010789, 0.6179232773489588, 0.6179229845221498, 0.6179226917206425, 0.6179223989444272, 0.6179221061934949, 0.6179218134678358, 0.6179215207674408, 0.6179212280923003, 0.6179209354424052, 0.6179206428177458, 0.6179203502183128, 0.6179200576440971, 0.617919765095089, 0.6179194725712791, 0.6179191800726586, 0.6179188875992175, 0.6179185951509467, 0.6179183027278369, 0.6179180103298788, 0.6179177179570631, 0.6179174256093802, 0.6179171332868212, 0.6179168409893765, 0.6179165487170368, 0.6179162564697929, 0.6179159642476354, 0.6179156720505552, 0.6179153798785426, 0.6179150877315891, 0.6179147956096845, 0.6179145035128201, 0.6179142114409866, 0.6179139193941745, 0.6179136273723748, 0.6179133353755779, 0.617913043403775, 0.6179127514569566, 0.6179124595351133, 0.6179121676382364, 0.6179118757663162, 0.6179115839193436, 0.6179112920973096, 0.6179110003002046, 0.6179107085280199, 0.6179104167807458, 0.6179101250583733, 0.6179098333608933, 0.6179095416882966, 0.6179092500405738, 0.617908958417716, 0.617908666819714, 0.6179083752465585, 0.6179080836982405, 0.6179077921747507, 0.6179075006760799, 0.6179072092022192, 0.6179069177531593, 0.617906626328891, 0.6179063349294055, 0.6179060435546934, 0.6179057522047456, 0.617905460879553, 0.6179051695791065, 0.6179048783033971, 0.6179045870524156, 0.6179042958261528, 0.6179040046245998, 0.6179037134477476, 0.6179034222955869, 0.6179031311681088, 0.617902840065304, 0.6179025489871637, 0.6179022579336787, 0.6179019669048401, 0.6179016759006386, 0.6179013849210653, 0.6179010939661113, 0.6179008030357672, 0.6179005121300244, 0.6179002212488737, 0.617899930392306, 0.6178996395603124, 0.6178993487528837, 0.6178990579700112, 0.6178987672116857, 0.6178984764778983, 0.6178981857686401, 0.6178978950839018, 0.6178976044236748, 0.6178973137879499, 0.6178970231767182, 0.6178967325899707, 0.6178964420276984, 0.6178961514898925, 0.617895860976544, 0.617895570487644, 0.6178952800231835, 0.6178949895831535, 0.6178946991675452, 0.6178944087763495, 0.6178941184095578, 0.617893828067161, 0.6178935377491501, 0.6178932474555163, 0.6178929571862507, 0.6178926669413446, 0.6178923767207887, 0.6178920865245744, 0.6178917963526928, 0.6178915062051349, 0.617891216081892, 0.6178909259829551, 0.6178906359083155, 0.6178903458579642, 0.6178900558318926, 0.6178897658300914, 0.6178894758525522, 0.617889185899266, 0.617888895970224, 0.6178886060654172, 0.6178883161848371, 0.6178880263284746, 0.6178877364963211, 0.6178874466883676, 0.6178871569046056, 0.617886867145026, 0.6178865774096202, 0.6178862876983794, 0.6178859980112945, 0.6178857083483573, 0.6178854187095587, 0.6178851290948899, 0.6178848395043423, 0.6178845499379069, 0.6178842603955751, 0.6178839708773384, 0.6178836813831876, 0.6178833919131143, 0.6178831024671096, 0.617882813045165, 0.6178825236472715, 0.6178822342734205, 0.6178819449236033, 0.617881655597811, 0.6178813662960355, 0.6178810770182674, 0.6178807877644984, 0.6178804985347197, 0.6178802093289225, 0.6178799201470985, 0.6178796309892386, 0.6178793418553344, 0.617879052745377, 0.617878763659358, 0.6178784745972687, 0.6178781855591005, 0.6178778965448445, 0.6178776075544922, 0.617877318588035, 0.6178770296454643, 0.6178767407267713, 0.6178764518319477, 0.6178761629609847, 0.6178758741138735, 0.6178755852906057, 0.6178752964911727, 0.6178750077155661, 0.617874718963777, 0.6178744302357968, 0.617874141531617, 0.6178738528512291, 0.6178735641946247, 0.6178732755617948, 0.6178729869527311, 0.617872698367425, 0.6178724098058679, 0.6178721212680514, 0.6178718327539666, 0.6178715442636054, 0.6178712557969591, 0.6178709673540191, 0.6178706789347769, 0.6178703905392241, 0.6178701021673519, 0.6178698138191522, 0.6178695254946162, 0.6178692371937355, 0.6178689489165015, 0.6178686606629058, 0.61786837243294, 0.6178680842265954, 0.6178677960438637, 0.6178675078847363, 0.6178672197492049, 0.6178669316372609, 0.6178666435488959, 0.6178663554841014, 0.6178660674428689, 0.6178657794251902, 0.6178654914310565, 0.6178652034604596, 0.6178649155133911, 0.6178646275898424, 0.6178643396898053, 0.6178640518132711, 0.6178637639602316, 0.6178634761306784, 0.6178631883246029, 0.617862900541997, 0.617862612782852, 0.6178623250471597, 0.6178620373349117, 0.6178617496460996, 0.6178614619807151, 0.6178611743387497, 0.6178608867201948, 0.6178605991250425, 0.6178603115532844, 0.6178600240049119, 0.6178597364799167, 0.6178594489782905, 0.6178591615000251, 0.6178588740451119, 0.6178585866135429, 0.6178582992053093, 0.6178580118204033, 0.6178577244588163, 0.61785743712054, 0.6178571498055662, 0.6178568625138865, 0.6178565752454926, 0.6178562880003763, 0.6178560007785292, 0.6178557135799431, 0.6178554264046098, 0.6178551392525208, 0.6178548521236679, 0.6178545650180429, 0.6178542779356376, 0.6178539908764437, 0.6178537038404528, 0.6178534168276568, 0.6178531298380473, 0.6178528428716163, 0.6178525559283556, 0.6178522690082566, 0.6178519821113114, 0.6178516952375117, 0.6178514083868492, 0.6178511215593158, 0.6178508347549032, 0.6178505479736032, 0.6178502612154076, 0.6178499744803084, 0.6178496877682972, 0.6178494010793659, 0.6178491144135063, 0.6178488277707102, 0.6178485411509694, 0.6178482545542759, 0.6178479679806212, 0.6178476814299976, 0.6178473949023967, 0.6178471083978104, 0.6178468219162303, 0.6178465354576486, 0.6178462490220571, 0.6178459626094475, 0.6178456762198119, 0.6178453898531421, 0.6178451035094297, 0.6178448171886671, 0.6178445308908459, 0.617844244615958, 0.6178439583639952, 0.6178436721349496, 0.617843385928813, 0.6178430997455776, 0.6178428135852349, 0.617842527447777, 0.6178422413331959, 0.6178419552414832, 0.6178416691726314, 0.6178413831266321, 0.6178410971034771, 0.6178408111031586, 0.6178405251256686, 0.6178402391709987, 0.6178399532391412, 0.617839667330088, 0.6178393814438311, 0.6178390955803624, 0.6178388097396738, 0.6178385239217575, 0.6178382381266053, 0.6178379523542092, 0.6178376666045613, 0.6178373808776536, 0.6178370951734781, 0.6178368094920268, 0.6178365238332916, 0.6178362381972645, 0.6178359525839379, 0.6178356669933034, 0.6178353814253532, 0.6178350958800795, 0.617834810357474, 0.6178345248575289, 0.6178342393802363, 0.6178339539255884, 0.6178336684935769, 0.617833383084194, 0.617833097697432, 0.6178328123332826, 0.6178325269917382, 0.6178322416727907, 0.6178319563764323, 0.6178316711026549, 0.6178313858514508, 0.617831100622812, 0.6178308154167306, 0.6178305302331986, 0.6178302450722083, 0.6178299599337517, 0.617829674817821, 0.6178293897244084, 0.6178291046535057, 0.6178288196051054, 0.6178285345791995, 0.6178282495757801, 0.6178279645948392, 0.6178276796363692, 0.6178273947003623, 0.6178271097868103, 0.6178268248957057, 0.6178265400270405, 0.6178262551808071, 0.6178259703569974, 0.6178256855556037, 0.6178254007766181, 0.6178251160200328, 0.6178248312858401, 0.6178245465740321, 0.6178242618846012, 0.6178239772175392, 0.6178236925728386, 0.6178234079504916, 0.6178231233504905, 0.6178228387728273, 0.6178225542174942, 0.6178222696844838, 0.617821985173788, 0.6178217006853991, 0.6178214162193093, 0.6178211317755111, 0.6178208473539964, 0.6178205629547577, 0.6178202785777873, 0.6178199942230772, 0.6178197098906199, 0.6178194255804074, 0.6178191412924323, 0.6178188570266868, 0.6178185727831632, 0.6178182885618536, 0.6178180043627504, 0.6178177201858459, 0.6178174360311324, 0.6178171518986024, 0.6178168677882478, 0.6178165837000612, 0.617816299634035, 0.6178160155901613, 0.6178157315684325, 0.617815447568841, 0.6178151635913789, 0.6178148796360388, 0.617814595702813, 0.6178143117916938, 0.6178140279026735, 0.6178137440357446, 0.6178134601908994, 0.6178131763681302, 0.6178128925674293, 0.6178126087887893, 0.6178123250322023, 0.6178120412976611, 0.6178117575851576, 0.6178114738946845, 0.6178111902262341, 0.6178109065797988, 0.617810622955371, 0.6178103393529432, 0.6178100557725075, 0.6178097722140566, 0.6178094886775829, 0.6178092051630787, 0.6178089216705366, 0.6178086381999489, 0.617808354751308, 0.6178080713246065, 0.6178077879198366, 0.6178075045369911, 0.617807221176062, 0.6178069378370421, 0.6178066545199238, 0.6178063712246995, 0.6178060879513615, 0.6178058046999028, 0.6178055214703152, 0.6178052382625917, 0.6178049550767245, 0.6178046719127063, 0.6178043887705293, 0.6178041056501863, 0.6178038225516695, 0.6178035394749717, 0.6178032564200854, 0.6178029733870027, 0.6178026903757166, 0.6178024073862193, 0.6178021244185036, 0.6178018414725618, 0.6178015585483865, 0.6178012756459703, 0.6178009927653056, 0.617800709906385, 0.6178004270692011, 0.6178001442537465, 0.6177998614600138, 0.6177995786879953, 0.6177992959376836, 0.6177990132090716, 0.6177987305021514, 0.6177984478169162, 0.6177981651533578, 0.6177978825114695, 0.6177975998912434, 0.6177973172926724, 0.6177970347157489, 0.6177967521604656, 0.6177964696268149, 0.6177961871147898, 0.6177959046243825, 0.6177956221555859, 0.6177953397083927, 0.6177950572827953, 0.6177947748787862, 0.6177944924963584, 0.6177942101355043, 0.6177939277962166, 0.6177936454784878, 0.6177933631823108, 0.6177930809076781, 0.6177927986545825, 0.6177925164230165, 0.6177922342129729, 0.6177919520244441, 0.6177916698574231, 0.6177913877119023, 0.6177911055878749, 0.6177908234853328, 0.6177905414042693, 0.6177902593446768, 0.617789977306548, 0.6177896952898757, 0.6177894132946526, 0.6177891313208714, 0.6177888493685249, 0.6177885674376057, 0.6177882855281064, 0.61778800364002, 0.617787721773339, 0.6177874399280562, 0.6177871581041644, 0.6177868763016563, 0.6177865945205246, 0.6177863127607621, 0.6177860310223616, 0.6177857493053156, 0.6177854676096172, 0.6177851859352589, 0.6177849042822336, 0.6177846226505341, 0.6177843410401531, 0.6177840594510835, 0.6177837778833178, 0.6177834963368491, 0.61778321481167, 0.6177829333077732, 0.6177826518251519, 0.6177823703637986, 0.6177820889237061, 0.6177818075048672, 0.6177815261072748, 0.6177812447309218, 0.6177809633758007, 0.6177806820419047, 0.6177804007292266, 0.6177801194377589, 0.6177798381674945, 0.6177795569184268, 0.6177792756905479, 0.617778994483851, 0.617778713298329, 0.6177784321339747, 0.6177781509907807, 0.6177778698687403, 0.617777588767846, 0.6177773076880911, 0.6177770266294681, 0.6177767455919699, 0.6177764645755895, 0.6177761835803198, 0.6177759026061537, 0.6177756216530839, 0.6177753407211035, 0.6177750598102054, 0.6177747789203824, 0.6177744980516274, 0.6177742172039334, 0.6177739363772934, 0.6177736555717, 0.6177733747871464, 0.6177730940236257, 0.6177728132811303, 0.6177725325596535, 0.6177722518591883, 0.6177719711797273, 0.6177716905212637, 0.6177714098837905, 0.6177711292673006, 0.6177708486717868, 0.6177705680972422, 0.6177702875436597, 0.6177700070110324, 0.6177697264993534, 0.617769446008615, 0.6177691655388109, 0.6177688850899339, 0.6177686046619768, 0.6177683242549328, 0.6177680438687948, 0.6177677635035558, 0.6177674831592088, 0.6177672028357469, 0.617766922533163, 0.6177666422514502, 0.6177663619906014, 0.6177660817506097, 0.6177658015314681, 0.6177655213331696, 0.6177652411557074, 0.6177649609990744, 0.6177646808632636, 0.6177644007482682, 0.617764120654081, 0.6177638405806952, 0.6177635605281041, 0.6177632804963004, 0.6177630004852773, 0.6177627204950279, 0.6177624405255451, 0.6177621605768222, 0.6177618806488521, 0.617761600741628, 0.6177613208551429, 0.6177610409893899, 0.6177607611443624, 0.617760481320053, 0.617760201516455, 0.6177599217335616, 0.6177596419713659, 0.6177593622298609, 0.6177590825090398, 0.6177588028088956, 0.6177585231294216, 0.6177582434706107, 0.6177579638324563, 0.6177576842149515, 0.617757404618089, 0.6177571250418626, 0.617756845486265, 0.6177565659512895, 0.6177562864369291, 0.6177560069431772, 0.6177557274700268, 0.6177554480174713, 0.6177551685855034, 0.6177548891741166, 0.6177546097833041, 0.6177543304130589, 0.6177540510633744, 0.6177537717342435, 0.6177534924256597, 0.617753213137616, 0.6177529338701055, 0.6177526546231217, 0.6177523753966575, 0.6177520961907065, 0.6177518170052614, 0.6177515378403158, 0.6177512586958627, 0.6177509795718955, 0.6177507004684073, 0.6177504213853913, 0.6177501423228409, 0.6177498632807492, 0.6177495842591094, 0.6177493052579149, 0.6177490262771588, 0.6177487473168345, 0.6177484683769352, 0.617748189457454, 0.6177479105583843, 0.6177476316797195, 0.6177473528214525, 0.617747073983577, 0.6177467951660859, 0.6177465163689728, 0.6177462375922307, 0.617745958835853, 0.6177456800998331, 0.6177454013841642, 0.6177451226888395, 0.6177448440138525, 0.6177445653591963, 0.6177442867248645, 0.61774400811085, 0.6177437295171465, 0.617743450943747, 0.6177431723906451, 0.617742893857834, 0.617742615345307, 0.6177423368530573, 0.6177420583810787, 0.6177417799293642, 0.617741501497907, 0.6177412230867008, 0.6177409446957386, 0.617740666325014, 0.6177403879745204, 0.6177401096442511, 0.6177398313341992, 0.6177395530443585, 0.6177392747747219, 0.6177389965252832, 0.6177387182960357, 0.6177384400869725, 0.6177381618980873, 0.6177378837293733, 0.617737605580824, 0.6177373274524328, 0.6177370493441932, 0.6177367712560982, 0.6177364931881415, 0.6177362151403166, 0.6177359371126168, 0.6177356591050354, 0.6177353811175661, 0.6177351031502019, 0.6177348252029367, 0.6177345472757637, 0.6177342693686764, 0.617733991481668, 0.6177337136147322, 0.6177334357678624, 0.6177331579410522, 0.6177328801342946, 0.6177326023475835, 0.6177323245809123, 0.6177320468342742, 0.6177317691076628, 0.6177314914010716, 0.6177312137144942, 0.6177309360479238, 0.6177306584013542, 0.6177303807747787, 0.6177301031681907, 0.6177298255815837, 0.6177295480149515, 0.6177292704682872, 0.6177289929415846, 0.617728715434837, 0.617728437948038, 0.6177281604811812, 0.61772788303426, 0.6177276056072679, 0.6177273282001986, 0.6177270508130452, 0.6177267734458017, 0.6177264960984614, 0.617726218771018, 0.6177259414634647, 0.6177256641757954, 0.6177253869080035, 0.6177251096600825, 0.6177248324320261, 0.6177245552238279, 0.6177242780354811, 0.6177240008669795, 0.6177237237183167, 0.6177234465894863, 0.6177231694804818, 0.6177228923912966, 0.6177226153219247, 0.6177223382723593, 0.6177220612425941, 0.6177217842326228, 0.6177215072424389, 0.617721230272036, 0.6177209533214078, 0.6177206763905477, 0.6177203994794493, 0.6177201225881066, 0.6177198457165127, 0.6177195688646616, 0.6177192920325468, 0.6177190152201618, 0.6177187384275005, 0.6177184616545562, 0.6177181849013228, 0.6177179081677938, 0.617717631453963, 0.6177173547598237, 0.6177170780853699, 0.6177168014305952, 0.617716524795493, 0.6177162481800572, 0.6177159715842815, 0.6177156950081594, 0.6177154184516847, 0.6177151419148508, 0.6177148653976517, 0.617714588900081, 0.6177143124221323, 0.6177140359637993, 0.6177137595250756, 0.6177134831059551, 0.6177132067064314, 0.6177129303264983, 0.6177126539661493, 0.6177123776253781, 0.6177121013041786, 0.6177118250025445, 0.6177115487204693, 0.6177112724579469, 0.6177109962149709, 0.6177107199915353, 0.6177104437876334, 0.6177101676032594, 0.6177098914384065, 0.6177096152930689, 0.6177093391672402, 0.6177090630609141, 0.6177087869740843, 0.6177085109067447, 0.6177082348588889, 0.6177079588305108, 0.6177076828216039, 0.6177074068321623, 0.6177071308621797, 0.6177068549116497, 0.6177065789805661, 0.6177063030689228, 0.6177060271767135, 0.6177057513039321, 0.6177054754505722, 0.6177051996166277, 0.6177049238020925, 0.6177046480069601, 0.6177043722312247, 0.6177040964748798, 0.6177038207379192, 0.6177035450203369, 0.6177032693221265, 0.6177029936432821, 0.6177027179837973, 0.6177024423436658, 0.6177021667228819, 0.6177018911214388, 0.6177016155393309, 0.6177013399765516, 0.6177010644330951, 0.6177007889089552, 0.6177005134041255, 0.6177002379186, 0.6176999624523726, 0.617699687005437, 0.6176994115777871, 0.617699136169417, 0.6176988607803201, 0.6176985854104908, 0.6176983100599226, 0.6176980347286095, 0.6176977594165454, 0.6176974841237242, 0.6176972088501397, 0.6176969335957857, 0.6176966583606566, 0.6176963831447455, 0.617696107948047, 0.6176958327705546, 0.6176955576122624, 0.6176952824731641, 0.6176950073532537, 0.6176947322525252, 0.6176944571709726, 0.6176941821085897, 0.6176939070653703, 0.6176936320413086, 0.617693357036398, 0.6176930820506331, 0.6176928070840076, 0.6176925321365153, 0.6176922572081502, 0.6176919822989062, 0.6176917074087775, 0.6176914325377578, 0.617691157685841, 0.6176908828530214, 0.6176906080392927, 0.6176903332446488, 0.617690058469084, 0.6176897837125918, 0.6176895089751666, 0.6176892342568021, 0.6176889595574925, 0.6176886848772316, 0.6176884102160135, 0.6176881355738322, 0.6176878609506815, 0.6176875863465556, 0.6176873117614485, 0.6176870371953541, 0.6176867626482665, 0.6176864881201796, 0.6176862136110876, 0.6176859391209844, 0.6176856646498639, 0.6176853901977202, 0.6176851157645474, 0.6176848413503396, 0.6176845669550906, 0.6176842925787945, 0.6176840182214456, 0.6176837438830376, 0.6176834695635646, 0.6176831952630207, 0.6176829209814003, 0.617682646718697, 0.6176823724749049, 0.6176820982500181, 0.6176818240440307, 0.6176815498569368, 0.6176812756887305, 0.6176810015394059, 0.6176807274089569, 0.6176804532973775, 0.6176801792046622, 0.6176799051308047, 0.6176796310757994, 0.61767935703964, 0.6176790830223209, 0.6176788090238361, 0.6176785350441797, 0.6176782610833459, 0.6176779871413287, 0.6176777132181223, 0.6176774393137205, 0.6176771654281178, 0.6176768915613081, 0.6176766177132856, 0.6176763438840446, 0.6176760700735788, 0.6176757962818827, 0.6176755225089504, 0.6176752487547759, 0.6176749750193533, 0.6176747013026769, 0.6176744276047408, 0.617674153925539, 0.6176738802650661, 0.6176736066233156, 0.6176733330002823, 0.6176730593959598, 0.6176727858103427, 0.6176725122434249, 0.6176722386952007, 0.6176719651656642, 0.6176716916548097, 0.6176714181626313, 0.6176711446891231, 0.6176708712342794, 0.6176705977980943, 0.6176703243805624, 0.6176700509816772, 0.6176697776014332, 0.6176695042398248, 0.617669230896846, 0.6176689575724911, 0.6176686842667541, 0.6176684109796295, 0.6176681377111116, 0.6176678644611941, 0.6176675912298717, 0.6176673180171386, 0.6176670448229886, 0.6176667716474163, 0.6176664984904161, 0.6176662253519817, 0.6176659522321079, 0.6176656791307885, 0.617665406048018, 0.6176651329837907, 0.6176648599381006, 0.6176645869109423, 0.6176643139023096, 0.6176640409121971, 0.6176637679405989, 0.6176634949875094, 0.6176632220529228, 0.6176629491368334, 0.6176626762392355, 0.6176624033601235, 0.6176621304994913, 0.6176618576573336, 0.6176615848336444, 0.6176613120284181, 0.617661039241649, 0.6176607664733315, 0.6176604937234597, 0.617660220992028, 0.6176599482790307, 0.617659675584462, 0.6176594029083166, 0.6176591302505884, 0.6176588576112718, 0.6176585849903612, 0.6176583123878511, 0.6176580398037353, 0.6176577672380087, 0.6176574946906654, 0.6176572221616997, 0.617656949651106, 0.6176566771588786, 0.6176564046850119, 0.6176561322295001, 0.6176558597923378, 0.6176555873735191, 0.6176553149730386, 0.6176550425908904, 0.6176547702270692, 0.6176544978815689, 0.6176542255543844, 0.6176539532455098, 0.6176536809549392, 0.6176534086826675, 0.6176531364286888, 0.6176528641929975, 0.617652591975588, 0.6176523197764547, 0.6176520475955921, 0.6176517754329944, 0.6176515032886561, 0.6176512311625717, 0.6176509590547353, 0.6176506869651417, 0.617650414893785, 0.6176501428406598, 0.6176498708057603, 0.6176495987890811, 0.6176493267906166, 0.6176490548103613, 0.6176487828483094, 0.6176485109044555, 0.6176482389787941, 0.6176479670713194, 0.617647695182026, 0.6176474233109084, 0.6176471514579609, 0.6176468796231781, 0.6176466078065542, 0.6176463360080838, 0.6176460642277615, 0.6176457924655817, 0.6176455207215387, 0.617645248995627, 0.6176449772878413, 0.6176447055981756, 0.6176444339266249, 0.6176441622731834, 0.6176438906378456, 0.6176436190206059, 0.6176433474214591, 0.6176430758403995, 0.6176428042774215, 0.6176425327325196, 0.6176422612056884, 0.6176419896969224, 0.617641718206216, 0.6176414467335639, 0.6176411752789603, 0.6176409038424001, 0.6176406324238775, 0.6176403610233872, 0.6176400896409235, 0.6176398182764812, 0.6176395469300546, 0.6176392756016382, 0.6176390042912269, 0.6176387329988149, 0.617638461724397, 0.6176381904679673, 0.6176379192295206, 0.6176376480090516, 0.6176373768065546, 0.6176371056220242, 0.6176368344554553, 0.6176365633068418, 0.6176362921761788, 0.6176360210634606, 0.6176357499686819, 0.6176354788918372, 0.617635207832921, 0.6176349367919283, 0.617634665768853, 0.6176343947636902, 0.6176341237764341, 0.6176338528070797, 0.6176335818556212, 0.6176333109220534, 0.617633040006371, 0.6176327691085683, 0.6176324982286402, 0.617632227366581, 0.6176319565223855, 0.6176316856960483, 0.6176314148875638, 0.6176311440969271, 0.6176308733241322, 0.6176306025691742, 0.6176303318320475, 0.6176300611127468, 0.6176297904112666, 0.6176295197276018, 0.6176292490617468, 0.6176289784136962, 0.6176287077834448, 0.6176284371709873, 0.6176281665763179, 0.6176278959994318, 0.6176276254403233, 0.6176273548989872, 0.6176270843754182, 0.6176268138696108, 0.6176265433815598, 0.6176262729112597, 0.6176260024587054, 0.6176257320238913, 0.6176254616068123, 0.617625191207463, 0.617624920825838, 0.617624650461932, 0.6176243801157398, 0.617624109787256, 0.6176238394764753, 0.6176235691833923, 0.6176232989080018, 0.6176230286502986, 0.6176227584102773, 0.6176224881879324, 0.6176222179832588, 0.6176219477962512, 0.6176216776269045, 0.6176214074752128, 0.6176211373411716, 0.617620867224775, 0.6176205971260181, 0.6176203270448956, 0.6176200569814019, 0.6176197869355322, 0.6176195169072807, 0.6176192468966426, 0.6176189769036123, 0.6176187069281848, 0.6176184369703547, 0.6176181670301167, 0.6176178971074658, 0.6176176272023964, 0.6176173573149036, 0.6176170874449819, 0.6176168175926263, 0.6176165477578313, 0.6176162779405916, 0.6176160081409022, 0.617615738358758, 0.6176154685941535, 0.6176151988470836, 0.6176149291175429, 0.6176146594055264, 0.6176143897110289, 0.617614120034045, 0.6176138503745696, 0.6176135807325974, 0.6176133111081233, 0.617613041501142, 0.6176127719116484, 0.6176125023396374, 0.6176122327851035, 0.6176119632480417, 0.6176116937284469, 0.6176114242263138, 0.6176111547416371, 0.6176108852744118, 0.6176106158246326, 0.6176103463922945, 0.617610076977392, 0.6176098075799203, 0.6176095381998741, 0.6176092688372481, 0.6176089994920373, 0.6176087301642365, 0.6176084608538404, 0.617608191560844, 0.6176079222852422, 0.6176076530270298, 0.6176073837862014, 0.6176071145627522, 0.6176068453566771, 0.6176065761679707, 0.6176063069966278, 0.6176060378426436, 0.6176057687060127, 0.6176054995867301, 0.6176052304847905, 0.6176049614001892, 0.6176046923329206, 0.6176044232829798, 0.6176041542503617, 0.6176038852350613, 0.617603616237073, 0.6176033472563924, 0.6176030782930139, 0.6176028093469325, 0.6176025404181431, 0.6176022715066406, 0.61760200261242, 0.6176017337354762, 0.6176014648758039, 0.6176011960333985, 0.6176009272082543, 0.6176006584003667, 0.6176003896097303, 0.6176001208363402, 0.6175998520801913, 0.6175995833412785, 0.6175993146195967, 0.617599045915141, 0.6175987772279061, 0.6175985085578872, 0.617598239905079, 0.6175979712694766, 0.6175977026510748, 0.6175974340498687, 0.6175971654658533, 0.6175968968990234, 0.6175966283493739, 0.6175963598169, 0.6175960913015967, 0.6175958228034585, 0.6175955543224808, 0.6175952858586584, 0.6175950174119864, 0.6175947489824597, 0.6175944805700733, 0.617594212174822, 0.617593943796701, 0.6175936754357053, 0.6175934070918299, 0.6175931387650695, 0.6175928704554194, 0.6175926021628746, 0.61759233388743, 0.6175920656290803, 0.6175917973878211, 0.6175915291636471, 0.6175912609565535, 0.6175909927665347, 0.6175907245935865, 0.6175904564377036, 0.6175901882988808, 0.6175899201771133, 0.6175896520723962, 0.6175893839847246, 0.6175891159140933, 0.6175888478604974, 0.6175885798239321, 0.6175883118043922, 0.6175880438018728, 0.6175877758163691, 0.6175875078478762, 0.6175872398963888, 0.617586971961902, 0.6175867040444113, 0.6175864361439112, 0.6175861682603973, 0.6175859003938641, 0.617585632544307, 0.617585364711721, 0.6175850968961012, 0.6175848290974426, 0.6175845613157404, 0.6175842935509894, 0.6175840258031852, 0.6175837580723224, 0.6175834903583962, 0.6175832226614016, 0.617582954981334, 0.6175826873181883, 0.6175824196719595, 0.6175821520426428, 0.6175818844302334, 0.6175816168347262, 0.6175813492561164, 0.6175810816943992, 0.6175808141495697, 0.6175805466216225, 0.6175802791105536, 0.6175800116163574, 0.6175797441390295, 0.6175794766785646, 0.6175792092349582, 0.6175789418082052, 0.6175786743983006, 0.6175784070052399, 0.617578139629018, 0.6175778722696302, 0.6175776049270713, 0.6175773376013368, 0.6175770702924216, 0.6175768030003211, 0.6175765357250304, 0.6175762684665442, 0.6175760012248583, 0.6175757339999675, 0.617575466791867, 0.6175751996005521, 0.6175749324260177, 0.6175746652682592, 0.6175743981272717, 0.6175741310030504, 0.6175738638955904, 0.6175735968048868, 0.6175733297309349, 0.6175730626737301, 0.6175727956332672, 0.6175725286095416, 0.6175722616025484, 0.6175719946122828, 0.6175717276387401, 0.6175714606819154, 0.6175711937418039, 0.6175709268184008, 0.6175706599117012, 0.6175703930217006, 0.617570126148394, 0.6175698592917767, 0.6175695924518437, 0.6175693256285905, 0.6175690588220121, 0.6175687920321039, 0.6175685252588611, 0.6175682585022786, 0.6175679917623522, 0.6175677250390766, 0.6175674583324474, 0.6175671916424597, 0.6175669249691086, 0.6175666583123895, 0.6175663916722977, 0.6175661250488284, 0.6175658584419768, 0.617565591851738, 0.6175653252781075, 0.6175650587210804, 0.617564792180652, 0.6175645256568177, 0.6175642591495727, 0.617563992658912, 0.6175637261848312, 0.6175634597273255, 0.6175631932863901, 0.6175629268620202, 0.6175626604542112, 0.6175623940629584, 0.617562127688257, 0.6175618613301023, 0.6175615949884897, 0.6175613286634143, 0.6175610623548715, 0.6175607960628565, 0.6175605297873648, 0.6175602635283914, 0.617559997285932, 0.6175597310599816, 0.6175594648505355, 0.6175591986575892, 0.6175589324811377, 0.6175586663211768, 0.6175584001777014, 0.6175581340507068, 0.6175578679401887, 0.6175576018461421, 0.6175573357685624, 0.617557069707445, 0.6175568036627851, 0.6175565376345781, 0.6175562716228193, 0.6175560056275042, 0.617555739648628, 0.6175554736861859, 0.6175552077401735, 0.617554941810586, 0.617554675897419, 0.6175544100006675, 0.6175541441203269, 0.6175538782563929, 0.6175536124088603, 0.6175533465777251, 0.6175530807629822, 0.6175528149646269, 0.617552549182655, 0.6175522834170617, 0.6175520176678422, 0.617551751934992, 0.6175514862185065, 0.6175512205183811, 0.617550954834611, 0.6175506891671918, 0.6175504235161187, 0.6175501578813872, 0.6175498922629926, 0.6175496266609306, 0.6175493610751962, 0.6175490955057851, 0.6175488299526927, 0.6175485644159139, 0.6175482988954447, 0.6175480333912803, 0.6175477679034159, 0.6175475024318474, 0.6175472369765697, 0.6175469715375785, 0.6175467061148693, 0.6175464407084371, 0.6175461753182778, 0.6175459099443866, 0.617545644586759, 0.6175453792453903, 0.6175451139202761, 0.6175448486114117, 0.6175445833187926, 0.6175443180424143, 0.6175440527822722, 0.6175437875383617, 0.6175435223106782, 0.6175432570992173, 0.6175429919039743, 0.6175427267249447, 0.6175424615621242, 0.6175421964155079, 0.6175419312850914, 0.6175416661708703, 0.6175414010728398, 0.6175411359909956, 0.6175408709253329, 0.6175406058758476, 0.6175403408425347, 0.6175400758253901, 0.617539810824409, 0.6175395458395869, 0.6175392808709195, 0.617539015918402, 0.6175387509820299, 0.6175384860617991, 0.6175382211577047, 0.6175379562697423, 0.6175376913979074, 0.6175374265421955, 0.617537161702602, 0.6175368968791226, 0.6175366320717528, 0.617536367280488, 0.6175361025053238, 0.6175358377462555, 0.6175355730032788, 0.6175353082763891, 0.6175350435655823, 0.6175347788708534, 0.6175345141921983, 0.6175342495296122, 0.6175339848830911, 0.6175337202526301, 0.6175334556382248, 0.6175331910398709, 0.6175329264575639, 0.6175326618912993, 0.6175323973410725, 0.6175321328068794, 0.6175318682887152, 0.6175316037865756, 0.6175313393004561, 0.6175310748303524, 0.6175308103762599, 0.6175305459381742, 0.617530281516091, 0.6175300171100057, 0.6175297527199138, 0.6175294883458111, 0.617529223987693, 0.6175289596455552, 0.6175286953193929, 0.6175284310092024, 0.6175281667149786, 0.6175279024367173, 0.6175276381744143, 0.6175273739280648, 0.6175271096976648, 0.6175268454832096, 0.6175265812846946, 0.617526317102116, 0.6175260529354691, 0.6175257887847493, 0.6175255246499526, 0.6175252605310741, 0.6175249964281099, 0.6175247323410553, 0.6175244682699059, 0.6175242042146576, 0.6175239401753058, 0.6175236761518462, 0.6175234121442743, 0.6175231481525857, 0.6175228841767763, 0.6175226202168413, 0.6175223562727767, 0.6175220923445782, 0.617521828432241, 0.6175215645357611, 0.6175213006551339, 0.6175210367903552, 0.6175207729414207, 0.6175205091083259, 0.6175202452910664, 0.6175199814896379, 0.6175197177040362, 0.6175194539342569, 0.6175191901802954, 0.6175189264421476, 0.6175186627198092, 0.6175183990132757, 0.6175181353225428, 0.6175178716476064, 0.6175176079884619, 0.6175173443451049, 0.6175170807175313, 0.6175168171057368, 0.6175165535097168, 0.6175162899294672, 0.6175160263649837, 0.6175157628162617, 0.6175154992832973, 0.617515235766086, 0.6175149722646235, 0.6175147087789054, 0.6175144453089274, 0.6175141818546852, 0.6175139184161749, 0.6175136549933915, 0.6175133915863312, 0.6175131281949897, 0.6175128648193625, 0.6175126014594453, 0.6175123381152341, 0.6175120747867241, 0.6175118114739117, 0.617511548176792, 0.6175112848953611, 0.6175110216296146, 0.617510758379548, 0.6175104951451575, 0.6175102319264385, 0.6175099687233868, 0.6175097055359983, 0.6175094423642684, 0.617509179208193, 0.617508916067768, 0.617508652942989, 0.6175083898338516, 0.6175081267403518, 0.6175078636624852, 0.6175076006002476, 0.6175073375536348, 0.6175070745226424, 0.6175068115072664, 0.6175065485075022, 0.6175062855233461, 0.6175060225547934, 0.61750575960184, 0.6175054966644815, 0.617505233742714, 0.6175049708365331, 0.6175047079459348, 0.6175044450709144, 0.6175041822114681, 0.6175039193675915, 0.6175036565392805, 0.6175033937265306, 0.617503130929338, 0.6175028681476982, 0.6175026053816071, 0.6175023426310604, 0.617502079896054, 0.6175018171765836, 0.6175015544726451, 0.6175012917842343, 0.617501029111347, 0.6175007664539788, 0.6175005038121258, 0.6175002411857837, 0.6174999785749484, 0.6174997159796154, 0.617499453399781, 0.6174991908354406, 0.61749892828659, 0.6174986657532257, 0.6174984032353426, 0.617498140732937, 0.6174978782460048, 0.6174976157745417, 0.6174973533185435, 0.6174970908780062, 0.6174968284529253, 0.6174965660432971, 0.6174963036491171, 0.6174960412703813, 0.6174957789070854, 0.6174955165592254, 0.6174952542267972, 0.6174949919097965, 0.617494729608219, 0.617494467322061, 0.6174942050513181, 0.617493942795986, 0.6174936805560609, 0.6174934183315386, 0.6174931561224148, 0.6174928939286853, 0.6174926317503464, 0.6174923695873935, 0.6174921074398226, 0.6174918453076299, 0.6174915831908108, 0.6174913210893614, 0.6174910590032778, 0.6174907969325556, 0.6174905348771906, 0.617490272837179, 0.6174900108125166, 0.6174897488031993, 0.6174894868092228, 0.6174892248305831, 0.6174889628672762, 0.617488700919298, 0.6174884389866443, 0.617488177069311, 0.6174879151672942, 0.6174876532805896, 0.6174873914091932, 0.6174871295531009, 0.6174868677123085, 0.6174866058868121, 0.6174863440766077, 0.617486082281691, 0.617485820502058, 0.6174855587377047, 0.6174852969886268, 0.6174850352548206, 0.6174847735362816, 0.6174845118330061, 0.61748425014499, 0.617483988472229, 0.6174837268147193, 0.6174834651724567, 0.6174832035454371, 0.6174829419336564, 0.6174826803371108, 0.6174824187557962, 0.6174821571897086, 0.6174818956388436, 0.6174816341031973, 0.6174813725827659, 0.6174811110775453, 0.6174808495875312, 0.6174805881127199, 0.6174803266531071, 0.6174800652086889, 0.6174798037794613, 0.6174795423654202, 0.6174792809665618, 0.6174790195828815, 0.6174787582143759, 0.6174784968610407, 0.617478235522872, 0.6174779741998657, 0.6174777128920177, 0.6174774515993241, 0.6174771903217808, 0.6174769290593841, 0.6174766678121298, 0.6174764065800138, 0.6174761453630321, 0.6174758841611808, 0.6174756229744559, 0.6174753618028533, 0.6174751006463693, 0.6174748395049996, 0.6174745783787403, 0.6174743172675875, 0.6174740561715371, 0.6174737950905851, 0.6174735340247277, 0.6174732729739608, 0.6174730119382804, 0.6174727509176825, 0.6174724899121633, 0.6174722289217187, 0.6174719679463447, 0.6174717069860375, 0.6174714460407928, 0.6174711851106071, 0.6174709241954761, 0.617470663295396, 0.6174704024103628, 0.6174701415403725, 0.6174698806854211, 0.6174696198455049, 0.6174693590206196, 0.6174690982107616, 0.6174688374159267, 0.6174685766361111, 0.6174683158713107, 0.6174680551215218, 0.6174677943867403, 0.6174675336669624, 0.617467272962184, 0.6174670122724013, 0.6174667515976102, 0.6174664909378069, 0.6174662302929876, 0.6174659696631482, 0.6174657090482847, 0.6174654484483936, 0.6174651878634703, 0.6174649272935115, 0.6174646667385132, 0.617464406198471, 0.6174641456733816, 0.6174638851632407, 0.6174636246680446, 0.6174633641877894, 0.6174631037224709, 0.6174628432720857, 0.6174625828366296, 0.6174623224160986, 0.6174620620104889, 0.6174618016197968, 0.6174615412440183, 0.6174612808831494, 0.6174610205371863, 0.6174607602061252, 0.6174604998899621, 0.617460239588693, 0.6174599793023142, 0.6174597190308219, 0.617459458774212, 0.617459198532481, 0.6174589383056247, 0.6174586780936391, 0.6174584178965208, 0.6174581577142656, 0.6174578975468696, 0.6174576373943294, 0.6174573772566405, 0.6174571171337995, 0.6174568570258022, 0.6174565969326451, 0.6174563368543242, 0.6174560767908357, 0.6174558167421756, 0.6174555567083402, 0.6174552966893256, 0.617455036685128, 0.6174547766957436, 0.6174545167211684, 0.6174542567613986, 0.6174539968164304, 0.6174537368862602, 0.6174534769708838, 0.6174532170702977, 0.6174529571844978, 0.6174526973134805, 0.6174524374572418, 0.6174521776157779, 0.617451917789085, 0.6174516579771595, 0.6174513981799974, 0.6174511383975946, 0.6174508786299479, 0.6174506188770531, 0.6174503591389062, 0.617450099415504, 0.6174498397068423, 0.6174495800129174, 0.6174493203337253, 0.6174490606692624, 0.6174488010195249, 0.617448541384509, 0.617448281764211, 0.6174480221586267, 0.6174477625677529, 0.6174475029915854, 0.6174472434301205, 0.6174469838833546, 0.6174467243512837, 0.617446464833904, 0.6174462053312121, 0.6174459458432037, 0.6174456863698753, 0.6174454269112233, 0.6174451674672435, 0.6174449080379324, 0.6174446486232863, 0.6174443892233014, 0.6174441298379738, 0.6174438704672999, 0.6174436111112758, 0.6174433517698978, 0.6174430924431621, 0.6174428331310651, 0.6174425738336031, 0.617442314550772, 0.6174420552825683, 0.6174417960289883, 0.6174415367900281, 0.6174412775656841, 0.6174410183559526, 0.6174407591608295, 0.6174404999803116, 0.6174402408143946, 0.6174399816630752, 0.6174397225263496, 0.6174394634042141, 0.6174392042966647, 0.6174389452036979, 0.6174386861253099, 0.6174384270614971, 0.6174381680122556, 0.6174379089775818, 0.617437649957472, 0.6174373909519226, 0.6174371319609295, 0.6174368729844895, 0.6174366140225984, 0.6174363550752529, 0.617436096142449, 0.617435837224183, 0.6174355783204514, 0.6174353194312505, 0.6174350605565766, 0.6174348016964258, 0.6174345428507945, 0.6174342840196791, 0.617434025203076, 0.6174337664009811, 0.6174335076133912, 0.6174332488403024, 0.6174329900817108, 0.6174327313376131, 0.6174324726080056, 0.6174322138928843, 0.6174319551922458, 0.6174316965060862, 0.6174314378344021, 0.6174311791771898, 0.6174309205344454, 0.6174306619061654, 0.6174304032923461, 0.6174301446929839, 0.617429886108075, 0.6174296275376159, 0.6174293689816029, 0.6174291104400323, 0.6174288519129003, 0.6174285934002037, 0.6174283349019384, 0.617428076418101, 0.6174278179486877, 0.617427559493695, 0.6174273010531193, 0.6174270426269567, 0.6174267842152037, 0.6174265258178566, 0.617426267434912, 0.6174260090663662, 0.6174257507122153, 0.6174254923724559, 0.6174252340470844, 0.6174249757360971, 0.6174247174394903, 0.6174244591572605, 0.6174242008894041, 0.6174239426359174, 0.6174236843967968, 0.6174234261720386, 0.6174231679616393, 0.6174229097655953, 0.6174226515839031, 0.6174223934165588, 0.6174221352635589, 0.6174218771248999, 0.6174216190005782, 0.6174213608905901, 0.617421102794932, 0.6174208447136005, 0.6174205866465916, 0.6174203285939021, 0.6174200705555283, 0.6174198125314664, 0.6174195545217132, 0.6174192965262649, 0.6174190385451178, 0.6174187805782685, 0.6174185226257134, 0.6174182646874489, 0.6174180067634712, 0.6174177488537772, 0.6174174909583628, 0.6174172330772247, 0.6174169752103597, 0.6174167173577635, 0.6174164595194329, 0.6174162016953644, 0.6174159438855542, 0.6174156860899991, 0.6174154283086952, 0.6174151705416391, 0.6174149127888272, 0.6174146550502561, 0.617414397325922, 0.6174141396158214, 0.6174138819199508, 0.6174136242383068, 0.6174133665708857, 0.6174131089176839, 0.6174128512786979, 0.6174125936539243, 0.6174123360433594, 0.617412078447, 0.617411820864842, 0.6174115632968821, 0.6174113057431169, 0.617411048203543, 0.6174107906781564, 0.6174105331669538, 0.617410275669932, 0.617410018187087, 0.6174097607184155, 0.6174095032639139, 0.6174092458235788, 0.6174089883974067, 0.6174087309853938, 0.617408473587537, 0.6174082162038325, 0.6174079588342769, 0.6174077014788666, 0.6174074441375982, 0.6174071868104681, 0.6174069294974731, 0.6174066721986093, 0.6174064149138734, 0.6174061576432618, 0.6174059003867711, 0.6174056431443978, 0.6174053859161382, 0.6174051287019894, 0.6174048715019472, 0.6174046143160086, 0.6174043571441699, 0.6174040999864274, 0.6174038428427782, 0.6174035857132183, 0.6174033285977446, 0.6174030714963533, 0.6174028144090411, 0.6174025573358045, 0.61740230027664, 0.6174020432315442, 0.6174017862005136, 0.6174015291835446, 0.6174012721806341, 0.6174010151917783, 0.6174007582169738, 0.6174005012562171, 0.617400244309505, 0.6173999873768338, 0.6173997304582001, 0.6173994735536004, 0.6173992166630313, 0.6173989597864896, 0.6173987029239714, 0.6173984460754735, 0.6173981892409925, 0.6173979324205249, 0.6173976756140672, 0.617397418821616, 0.6173971620431679, 0.6173969052787194, 0.6173966485282671, 0.6173963917918077, 0.6173961350693375, 0.6173958783608533, 0.6173956216663514, 0.6173953649858288, 0.6173951083192818, 0.6173948516667069, 0.6173945950281009, 0.6173943384034604, 0.6173940817927817, 0.6173938251960616, 0.6173935686132966, 0.6173933120444833, 0.6173930554896184, 0.6173927989486984, 0.61739254242172, 0.6173922859086796, 0.6173920294095739, 0.6173917729243995, 0.6173915164531528, 0.617391259995831, 0.61739100355243, 0.6173907471229468, 0.617390490707378, 0.61739023430572, 0.6173899779179697, 0.6173897215441233, 0.6173894651841779, 0.6173892088381298, 0.6173889525059755, 0.6173886961877121, 0.6173884398833358, 0.6173881835928433, 0.6173879273162314, 0.6173876710534966, 0.6173874148046354, 0.6173871585696447, 0.617386902348521, 0.6173866461412607, 0.6173863899478609, 0.6173861337683179, 0.6173858776026284, 0.6173856214507891, 0.6173853653127966, 0.6173851091886479, 0.6173848530783388, 0.6173845969818667, 0.6173843408992279, 0.6173840848304191, 0.6173838287754371, 0.6173835727342784, 0.6173833167069396, 0.6173830606934175, 0.6173828046937088, 0.61738254870781, 0.6173822927357178, 0.6173820367774289, 0.6173817808329399, 0.6173815249022476, 0.6173812689853486, 0.6173810130822395, 0.6173807571929171, 0.6173805013173778, 0.6173802454556185, 0.6173799896076361, 0.6173797337734267, 0.6173794779529874, 0.6173792221463149, 0.6173789663534056, 0.6173787105742564, 0.6173784548088641, 0.6173781990572249, 0.6173779433193359, 0.6173776875951937, 0.6173774318847951, 0.6173771761881366, 0.6173769205052149, 0.6173766648360268, 0.6173764091805689, 0.617376153538838, 0.6173758979108309, 0.617375642296544, 0.6173753866959741, 0.6173751311091181, 0.6173748755359727, 0.6173746199765343, 0.6173743644308, 0.617374108898766, 0.6173738533804295, 0.6173735978757872, 0.6173733423848354, 0.6173730869075711, 0.6173728314439911, 0.6173725759940921, 0.6173723205578706, 0.6173720651353234, 0.6173718097264475, 0.6173715543312394, 0.6173712989496957, 0.6173710435818133, 0.6173707882275891, 0.6173705328870194, 0.6173702775601013, 0.6173700222468316, 0.6173697669472066, 0.6173695116612234, 0.6173692563888787, 0.6173690011301692, 0.6173687458850916, 0.6173684906536426, 0.6173682354358193, 0.617367980231618, 0.6173677250410357, 0.6173674698640691, 0.6173672147007149, 0.6173669595509699, 0.6173667044148308, 0.6173664492922947, 0.6173661941833577, 0.6173659390880172, 0.6173656840062697, 0.617365428938112, 0.6173651738835407, 0.6173649188425528, 0.6173646638151451, 0.6173644088013142, 0.6173641538010568, 0.6173638988143699, 0.6173636438412503, 0.6173633888816946, 0.6173631339356996, 0.6173628790032623, 0.6173626240843793, 0.6173623691790471, 0.6173621142872632, 0.6173618594090238, 0.6173616045443258, 0.6173613496931661, 0.6173610948555415, 0.6173608400314486, 0.6173605852208844, 0.6173603304238459, 0.6173600756403294, 0.6173598208703321, 0.6173595661138506, 0.6173593113708816, 0.6173590566414222, 0.6173588019254691, 0.617358547223019, 0.6173582925340687, 0.6173580378586152, 0.6173577831966554, 0.6173575285481857, 0.617357273913203, 0.6173570192917045, 0.6173567646836867, 0.6173565100891465, 0.6173562555080808, 0.6173560009404863, 0.6173557463863598, 0.6173554918456983, 0.6173552373184986, 0.6173549828047573, 0.6173547283044716, 0.617354473817638, 0.6173542193442534, 0.6173539648843149, 0.617353710437819, 0.6173534560047627, 0.6173532015851426, 0.6173529471789562, 0.6173526927861996, 0.6173524384068702, 0.6173521840409644, 0.6173519296884793, 0.6173516753494117, 0.6173514210237585, 0.6173511667115166, 0.6173509124126826, 0.6173506581272535, 0.6173504038552263, 0.6173501495965977, 0.6173498953513646, 0.6173496411195238, 0.6173493869010723, 0.617349132696007, 0.6173488785043244, 0.6173486243260219, 0.6173483701610959, 0.6173481160095436, 0.6173478618713617, 0.6173476077465472, 0.617347353635097, 0.6173470995370076, 0.6173468454522762, 0.6173465913808999, 0.6173463373228751, 0.617346083278199, 0.6173458292468683, 0.61734557522888, 0.617345321224231, 0.6173450672329183, 0.6173448132549384, 0.6173445592902885, 0.6173443053389656, 0.6173440514009664, 0.6173437974762878, 0.6173435435649265, 0.61734328966688, 0.6173430357821448, 0.6173427819107177, 0.6173425280525957, 0.6173422742077758, 0.617342020376255, 0.6173417665580299, 0.6173415127530977, 0.6173412589614552, 0.6173410051830992, 0.6173407514180268, 0.6173404976662349, 0.6173402439277202, 0.61733999020248, 0.617339736490511, 0.6173394827918101, 0.6173392291063742, 0.6173389754342001, 0.6173387217752851, 0.617338468129626, 0.6173382144972196, 0.6173379608780629, 0.6173377072721529, 0.6173374536794863, 0.6173372001000604, 0.6173369465338718, 0.6173366929809178, 0.617336439441195, 0.6173361859147005, 0.6173359324014311, 0.6173356789013841, 0.617335425414556, 0.6173351719409441, 0.6173349184805451, 0.6173346650333561, 0.617334411599374, 0.6173341581785958, 0.6173339047710185, 0.6173336513766389, 0.6173333979954541, 0.6173331446274609, 0.6173328912726566, 0.6173326379310377, 0.6173323846026014, 0.6173321312873447, 0.6173318779852646, 0.6173316246963578, 0.6173313714206217, 0.617331118158053, 0.6173308649086485, 0.6173306116724057, 0.6173303584493212, 0.6173301052393918, 0.617329852042615, 0.6173295988589874, 0.6173293456885062, 0.6173290925311682, 0.6173288393869705, 0.6173285862559099, 0.6173283331379837, 0.6173280800331887, 0.6173278269415219, 0.6173275738629802, 0.6173273207975609, 0.6173270677452607, 0.6173268147060768, 0.6173265616800059, 0.6173263086670453, 0.6173260556671919, 0.6173258026804427, 0.6173255497067947, 0.6173252967462449, 0.6173250437987904, 0.6173247908644282, 0.617324537943155, 0.6173242850349682, 0.6173240321398646, 0.6173237792578414, 0.6173235263888953, 0.6173232735330239, 0.6173230206902235, 0.6173227678604915, 0.6173225150438248, 0.6173222622402207, 0.6173220094496759, 0.6173217566721876, 0.6173215039077529, 0.6173212511563684, 0.6173209984180317, 0.6173207456927394, 0.6173204929804887, 0.6173202402812767, 0.6173199875951005, 0.6173197349219569, 0.6173194822618431, 0.617319229614756, 0.6173189769806928, 0.6173187243596505, 0.6173184717516261, 0.6173182191566167, 0.6173179665746192, 0.617317714005631, 0.6173174614496487, 0.6173172089066696, 0.6173169563766908, 0.6173167038597093, 0.6173164513557221, 0.6173161988647261, 0.6173159463867188, 0.617315693921697, 0.6173154414696577, 0.617315189030598, 0.6173149366045151, 0.6173146841914059, 0.6173144317912675, 0.6173141794040972, 0.6173139270298916, 0.6173136746686484, 0.6173134223203639, 0.6173131699850359, 0.617312917662661, 0.6173126653532367, 0.6173124130567597, 0.6173121607732271, 0.6173119085026362, 0.6173116562449839, 0.6173114040002674, 0.6173111517684838, 0.61731089954963, 0.6173106473437034, 0.6173103951507009, 0.6173101429706196, 0.6173098908034564, 0.6173096386492087, 0.6173093865078736, 0.617309134379448, 0.6173088822639291, 0.6173086301613139, 0.6173083780715996, 0.6173081259947835, 0.6173078739308622, 0.6173076218798333, 0.6173073698416937, 0.6173071178164404, 0.6173068658040708, 0.6173066138045816, 0.6173063618179703, 0.6173061098442338, 0.6173058578833693, 0.617305605935374, 0.6173053540002448, 0.617305102077979, 0.6173048501685735, 0.6173045982720257, 0.6173043463883326, 0.6173040945174914, 0.6173038426594991, 0.6173035908143528, 0.6173033389820498, 0.617303087162587, 0.6173028353559619, 0.6173025835621713, 0.6173023317812123, 0.6173020800130824, 0.6173018282577785, 0.6173015765152976, 0.617301324785637, 0.617301073068794, 0.6173008213647654, 0.6173005696735486, 0.6173003179951407, 0.6173000663295388, 0.6172998146767401, 0.6172995630367417, 0.6172993114095406, 0.6172990597951344, 0.6172988081935199, 0.6172985566046942, 0.6172983050286547, 0.6172980534653983, 0.6172978019149225, 0.6172975503772242, 0.6172972988523006, 0.6172970473401489, 0.6172967958407664, 0.6172965443541498, 0.6172962928802967, 0.6172960414192045, 0.6172957899708695, 0.6172955385352898, 0.6172952871124621, 0.6172950357023836, 0.6172947843050516, 0.617294532920463, 0.6172942815486153, 0.6172940301895057, 0.617293778843131, 0.6172935275094887, 0.617293276188576, 0.61729302488039, 0.6172927735849278, 0.6172925223021868, 0.6172922710321639, 0.6172920197748565, 0.6172917685302619, 0.617291517298377, 0.617291266079199, 0.6172910148727255, 0.6172907636789533, 0.6172905124978797, 0.6172902613295019, 0.6172900101738172, 0.6172897590308227, 0.6172895079005157, 0.6172892567828933, 0.6172890056779529, 0.6172887545856912, 0.617288503506106, 0.6172882524391942, 0.6172880013849532, 0.6172877503433801, 0.617287499314472, 0.6172872482982262, 0.6172869972946401, 0.6172867463037107, 0.6172864953254353, 0.6172862443598112, 0.6172859934068354, 0.6172857424665054, 0.6172854915388182, 0.6172852406237711, 0.6172849897213614, 0.6172847388315862, 0.6172844879544428, 0.6172842370899284, 0.6172839862380406, 0.617283735398776, 0.6172834845721321, 0.6172832337581063, 0.6172829829566957, 0.6172827321678975, 0.617282481391709, 0.6172822306281277, 0.6172819798771502, 0.6172817291387744, 0.6172814784129972, 0.617281227699816, 0.6172809769992278, 0.6172807263112302, 0.6172804756358202, 0.6172802249729952, 0.6172799743227524, 0.6172797236850889, 0.6172794730600022, 0.6172792224474895, 0.6172789718475479, 0.6172787212601749, 0.6172784706853676, 0.6172782201231233, 0.6172779695734393, 0.6172777190363129, 0.6172774685117413, 0.6172772179997217, 0.6172769675002514, 0.6172767170133279, 0.6172764665389482, 0.6172762160771096, 0.6172759656278096, 0.6172757151910452, 0.6172754647668138, 0.6172752143551127, 0.6172749639559393, 0.6172747135692905, 0.617274463195164, 0.6172742128335569, 0.6172739624844665, 0.6172737121478901, 0.6172734618238249, 0.6172732115122683, 0.6172729612132176, 0.6172727109266699, 0.6172724606526229, 0.6172722103910734, 0.6172719601420191, 0.6172717099054571, 0.6172714596813846, 0.6172712094697992, 0.617270959270698, 0.6172707090840783, 0.6172704589099375, 0.6172702087482727, 0.6172699585990815, 0.6172697084623611, 0.6172694583381085, 0.6172692082263216, 0.6172689581269972, 0.617268708040133, 0.6172684579657259, 0.6172682079037736, 0.6172679578542732, 0.6172677078172222, 0.6172674577926175, 0.617267207780457, 0.6172669577807377, 0.6172667077934569, 0.6172664578186119, 0.6172662078562003, 0.6172659579062191, 0.6172657079686659, 0.6172654580435378, 0.6172652081308322, 0.6172649582305465, 0.6172647083426781, 0.617264458467224, 0.617264208604182, 0.6172639587535491, 0.6172637089153229, 0.6172634590895003, 0.6172632092760791, 0.6172629594750565, 0.6172627096864298, 0.6172624599101962, 0.6172622101463534, 0.6172619603948984, 0.6172617106558288, 0.6172614609291419, 0.6172612112148349, 0.6172609615129053, 0.6172607118233505, 0.6172604621461677, 0.6172602124813543, 0.6172599628289076, 0.6172597131888252, 0.6172594635611043, 0.6172592139457421, 0.6172589643427362, 0.617258714752084, 0.6172584651737826, 0.6172582156078296, 0.6172579660542222, 0.617257716512958, 0.6172574669840343, 0.6172572174674481, 0.6172569679631973, 0.6172567184712789, 0.6172564689916906, 0.6172562195244294, 0.6172559700694931, 0.6172557206268787, 0.6172554711965839, 0.6172552217786058, 0.6172549723729419, 0.6172547229795894, 0.6172544735985462, 0.6172542242298092, 0.6172539748733761, 0.6172537255292438, 0.6172534761974104, 0.6172532268778728, 0.6172529775706284, 0.6172527282756747, 0.6172524789930093, 0.617252229722629, 0.617251980464532, 0.6172517312187152, 0.6172514819851762, 0.6172512327639121, 0.6172509835549205, 0.6172507343581989, 0.6172504851737446, 0.6172502360015548, 0.6172499868416275, 0.6172497376939595, 0.6172494885585484, 0.6172492394353917, 0.6172489903244869, 0.6172487412258311, 0.6172484921394219, 0.6172482430652568, 0.6172479940033331, 0.6172477449536483, 0.6172474959161998, 0.6172472468909848, 0.6172469978780011, 0.6172467488772457, 0.6172464998887164, 0.6172462509124106, 0.6172460019483255, 0.6172457529964587, 0.6172455040568077, 0.6172452551293695, 0.6172450062141419, 0.6172447573111224, 0.6172445084203082, 0.6172442595416968, 0.6172440106752858, 0.6172437618210725, 0.6172435129790543, 0.6172432641492287, 0.6172430153315931, 0.6172427665261451, 0.617242517732882, 0.6172422689518012, 0.6172420201829002, 0.6172417714261764, 0.6172415226816275, 0.6172412739492509, 0.6172410252290436, 0.6172407765210035, 0.6172405278251278, 0.6172402791414142, 0.6172400304698601, 0.6172397818104627, 0.6172395331632198, 0.6172392845281287, 0.6172390359051868, 0.6172387872943916, 0.6172385386957409, 0.6172382901092316, 0.6172380415348614, 0.6172377929726278, 0.6172375444225284, 0.6172372958845606]\n"
          ]
        }
      ]
    },
    {
      "cell_type": "code",
      "source": [
        "model.plot()"
      ],
      "metadata": {
        "colab": {
          "base_uri": "https://localhost:8080/",
          "height": 285
        },
        "id": "96PT2ZDKxKgv",
        "outputId": "73fc223e-2b3b-4397-b751-ccda2d0afaf1"
      },
      "execution_count": 272,
      "outputs": [
        {
          "output_type": "display_data",
          "data": {
            "image/png": "[encoded data removed]",
            "text/plain": [
              "<Figure size 432x288 with 1 Axes>"
            ]
          },
          "metadata": {
            "needs_background": "light"
          }
        }
      ]
    },
    {
      "cell_type": "code",
      "source": [
        ""
      ],
      "metadata": {
        "id": "Jj9dyvjMVgXV"
      },
      "execution_count": 272,
      "outputs": []
    },
    {
      "cell_type": "code",
      "source": [
        "|# model.fit(x_train,y_train)\n",
        "# model.plot()"
      ],
      "metadata": {
        "id": "5AOW756BVOQv"
      },
      "execution_count": null,
      "outputs": []
    },
    {
      "cell_type": "code",
      "source": [
        "# Create a model by instanciating the class logistic_regression\n",
        "model = logistic_regression(num_iters=10000)"
      ],
      "metadata": {
        "id": "PyAKBcDvgOYg"
      },
      "execution_count": null,
      "outputs": []
    },
    {
      "cell_type": "code",
      "source": [
        "%%time\n",
        "model.fit(x_train, y_train)"
      ],
      "metadata": {
        "colab": {
          "base_uri": "https://localhost:8080/"
        },
        "id": "NdezNg1egOb9",
        "outputId": "3a1eebe3-1541-4560-9e13-939a88d29d1b"
      },
      "execution_count": null,
      "outputs": [
        {
          "output_type": "stream",
          "name": "stdout",
          "text": [
            "cost for 100 iteration : 0.6362373605032056\n",
            "cost for 200 iteration : 0.5988470249186553\n",
            "cost for 300 iteration : 0.5731266601190665\n",
            "cost for 400 iteration : 0.5546596118987498\n",
            "cost for 500 iteration : 0.5409170138988207\n",
            "cost for 600 iteration : 0.5303898928558933\n",
            "cost for 700 iteration : 0.5221361975391885\n",
            "cost for 800 iteration : 0.5155423018805115\n",
            "cost for 900 iteration : 0.5101931110081553\n",
            "cost for 1000 iteration : 0.5057984298137365\n",
            "cost for 1100 iteration : 0.5021495355459176\n",
            "cost for 1200 iteration : 0.49909259434535147\n",
            "cost for 1300 iteration : 0.49651182432058544\n",
            "cost for 1400 iteration : 0.49431849661589616\n",
            "cost for 1500 iteration : 0.4924435467133995\n",
            "cost for 1600 iteration : 0.4908324847043871\n",
            "cost for 1700 iteration : 0.489441809331206\n",
            "cost for 1800 iteration : 0.4882364300560567\n",
            "cost for 1900 iteration : 0.4871877801040583\n",
            "cost for 2000 iteration : 0.48627241286696055\n",
            "cost for 2100 iteration : 0.485470942723045\n",
            "cost for 2200 iteration : 0.4847672353998577\n",
            "cost for 2300 iteration : 0.4841477818920112\n",
            "cost for 2400 iteration : 0.4836012092532888\n",
            "cost for 2500 iteration : 0.4831178947242058\n",
            "cost for 2600 iteration : 0.4826896587540938\n",
            "cost for 2700 iteration : 0.4823095188744711\n",
            "cost for 2800 iteration : 0.4819714909448642\n",
            "cost for 2900 iteration : 0.48167042759244216\n",
            "cost for 3000 iteration : 0.48140188608246187\n",
            "cost for 3100 iteration : 0.4811620196448118\n",
            "cost for 3200 iteration : 0.4809474876196708\n",
            "cost for 3300 iteration : 0.4807553807956448\n",
            "cost for 3400 iteration : 0.48058315908359994\n",
            "cost for 3500 iteration : 0.480428599260872\n",
            "cost for 3600 iteration : 0.48028975097836424\n",
            "cost for 3700 iteration : 0.48016489957997954\n",
            "cost for 3800 iteration : 0.48005253456392233\n",
            "cost for 3900 iteration : 0.4799513227365528\n",
            "cost for 4000 iteration : 0.47986008528510443\n",
            "cost for 4100 iteration : 0.479777778135803\n",
            "cost for 4200 iteration : 0.4797034750764696\n",
            "cost for 4300 iteration : 0.4796363532134561\n",
            "cost for 4400 iteration : 0.47957568040629617\n",
            "cost for 4500 iteration : 0.4795208043833043\n",
            "cost for 4600 iteration : 0.4794711432902505\n",
            "cost for 4700 iteration : 0.47942617746437177\n",
            "cost for 4800 iteration : 0.47938544225902224\n",
            "cost for 4900 iteration : 0.4793485217715861\n",
            "cost for 5000 iteration : 0.47931504334994046\n",
            "cost for 5100 iteration : 0.4792846727716249\n",
            "cost for 5200 iteration : 0.4792571100056271\n",
            "cost for 5300 iteration : 0.4792320854798967\n",
            "cost for 5400 iteration : 0.47920935678879667\n",
            "cost for 5500 iteration : 0.47918870578404477\n",
            "cost for 5600 iteration : 0.4791699360006103\n",
            "cost for 5700 iteration : 0.4791528703757207\n",
            "cost for 5800 iteration : 0.4791373492248335\n",
            "cost for 5900 iteration : 0.4791232284432731\n",
            "cost for 6000 iteration : 0.47911037790637934\n",
            "cost for 6100 iteration : 0.4790986800445573\n",
            "cost for 6200 iteration : 0.4790880285726645\n",
            "cost for 6300 iteration : 0.4790783273557897\n",
            "cost for 6400 iteration : 0.47906948939572974\n",
            "cost for 6500 iteration : 0.4790614359244259\n",
            "cost for 6600 iteration : 0.479054095592303\n",
            "cost for 6700 iteration : 0.47904740374091986\n",
            "cost for 6800 iteration : 0.47904130175061016\n",
            "cost for 6900 iteration : 0.47903573645489733\n",
            "cost for 7000 iteration : 0.47903065961443636\n",
            "cost for 7100 iteration : 0.479026027444071\n",
            "cost for 7200 iteration : 0.4790218001873391\n",
            "cost for 7300 iteration : 0.4790179417333983\n",
            "cost for 7400 iteration : 0.4790144192719181\n",
            "cost for 7500 iteration : 0.47901120298197564\n",
            "cost for 7600 iteration : 0.4790082657514358\n",
            "cost for 7700 iteration : 0.4790055829236825\n",
            "cost for 7800 iteration : 0.4790031320689062\n",
            "cost for 7900 iteration : 0.4790008927774589\n",
            "cost for 8000 iteration : 0.47899884647304913\n",
            "cost for 8100 iteration : 0.47899697624379295\n",
            "cost for 8200 iteration : 0.47899526668933834\n",
            "cost for 8300 iteration : 0.4789937037824757\n",
            "cost for 8400 iteration : 0.47899227474380257\n",
            "cost for 8500 iteration : 0.47899096792816964\n",
            "cost for 8600 iteration : 0.4789897727217549\n",
            "cost for 8700 iteration : 0.47898867944873735\n",
            "cost for 8800 iteration : 0.4789876792866441\n",
            "cost for 8900 iteration : 0.47898676418953695\n",
            "cost for 9000 iteration : 0.47898592681828867\n",
            "cost for 9100 iteration : 0.4789851604772743\n",
            "cost for 9200 iteration : 0.47898445905686776\n",
            "cost for 9300 iteration : 0.4789838169811986\n",
            "cost for 9400 iteration : 0.47898322916066965\n",
            "cost for 9500 iteration : 0.47898269094879325\n",
            "cost for 9600 iteration : 0.4789821981029402\n",
            "cost for 9700 iteration : 0.4789817467486381\n",
            "cost for 9800 iteration : 0.47898133334709037\n",
            "cost for 9900 iteration : 0.4789809546656182\n",
            "CPU times: user 1.21 s, sys: 15.7 ms, total: 1.22 s\n",
            "Wall time: 1.46 s\n"
          ]
        }
      ]
    },
    {
      "cell_type": "code",
      "source": [
        "pred= model.predict(x_test)"
      ],
      "metadata": {
        "id": "OvI1XF0Wju9H"
      },
      "execution_count": 273,
      "outputs": []
    },
    {
      "cell_type": "code",
      "source": [
        "pred"
      ],
      "metadata": {
        "id": "3izqcnB6Tm4R"
      },
      "execution_count": null,
      "outputs": []
    },
    {
      "cell_type": "code",
      "source": [
        "# Predict Proba\n",
        "print(model.predict_proba(x_test))"
      ],
      "metadata": {
        "id": "8PozH_SWVTI5"
      },
      "execution_count": null,
      "outputs": []
    },
    {
      "cell_type": "code",
      "source": [
        "model.plot()"
      ],
      "metadata": {
        "colab": {
          "base_uri": "https://localhost:8080/",
          "height": 280
        },
        "id": "iKjM9LqgLFxp",
        "outputId": "ddf56683-0246-48fa-c009-29b1c2f84b06"
      },
      "execution_count": null,
      "outputs": [
        {
          "output_type": "display_data",
          "data": {
            "image/png": "[encoded data removed]",
            "text/plain": [
              "<Figure size 432x288 with 1 Axes>"
            ]
          },
          "metadata": {
            "needs_background": "light"
          }
        }
      ]
    },
    {
      "cell_type": "markdown",
      "source": [
        "## Push your works to Githup Repo\n",
        "\n",
        "Setps:\n",
        "1. Fork the repo: `https://github.com/AMMI-2022/test-live-coding`\n",
        "2. Clone in your colab;\n",
        "3. Push\n",
        "4. Make a pull request"
      ],
      "metadata": {
        "id": "7pyf_N6pOCK5"
      }
    },
    {
      "cell_type": "markdown",
      "source": [
        "Set your credential"
      ],
      "metadata": {
        "id": "2S-a49qmeUGp"
      }
    },
    {
      "cell_type": "code",
      "source": [
        "my_token= \"\"\n",
        "my_repository= \"\"\n",
        "username= \"\"\n",
        "useremail= \"\""
      ],
      "metadata": {
        "id": "ECo9DTv9PfNU"
      },
      "execution_count": null,
      "outputs": []
    },
    {
      "cell_type": "markdown",
      "source": [
        "Clone the repo"
      ],
      "metadata": {
        "id": "pTUr6f9JeWiG"
      }
    },
    {
      "cell_type": "code",
      "source": [
        "! git clone https://github.com/{username}/{my_repository}.git"
      ],
      "metadata": {
        "id": "EQhDd_U_PfRm"
      },
      "execution_count": null,
      "outputs": []
    },
    {
      "cell_type": "code",
      "source": [
        "! git remote -v"
      ],
      "metadata": {
        "id": "Uv69w1Bfe0i3"
      },
      "execution_count": null,
      "outputs": []
    },
    {
      "cell_type": "markdown",
      "source": [
        "Copy data to test-live-coding folder"
      ],
      "metadata": {
        "id": "Kse_ZT1henjR"
      }
    },
    {
      "cell_type": "code",
      "source": [
        "!cp diabetes.csv /content/test-live-coding"
      ],
      "metadata": {
        "id": "AS207mQ3PfTp"
      },
      "execution_count": null,
      "outputs": []
    },
    {
      "cell_type": "code",
      "source": [
        "%cd /content/test-live-coding"
      ],
      "metadata": {
        "id": "ua0-f8gFPfXu"
      },
      "execution_count": null,
      "outputs": []
    },
    {
      "cell_type": "code",
      "source": [
        "!git status"
      ],
      "metadata": {
        "id": "S0SNgpwZPfsk"
      },
      "execution_count": null,
      "outputs": []
    },
    {
      "cell_type": "code",
      "source": [
        "!git config user.email useremail\n",
        "!git config user.name username"
      ],
      "metadata": {
        "id": "331HWnMJeuSN"
      },
      "execution_count": null,
      "outputs": []
    },
    {
      "cell_type": "code",
      "source": [
        "!git add .\n",
        "!git commit -m \"Add my files\""
      ],
      "metadata": {
        "id": "XIkRAG99fUGf"
      },
      "execution_count": null,
      "outputs": []
    },
    {
      "cell_type": "code",
      "source": [
        "!git status"
      ],
      "metadata": {
        "id": "kK8TdaCifXJ-"
      },
      "execution_count": null,
      "outputs": []
    },
    {
      "cell_type": "code",
      "source": [
        "!git push -u origin master --force"
      ],
      "metadata": {
        "id": "gObs-0HjeuV8"
      },
      "execution_count": null,
      "outputs": []
    },
    {
      "cell_type": "markdown",
      "source": [
        "# If you cannot push, use:"
      ],
      "metadata": {
        "id": "niOB3_vIe5n7"
      }
    },
    {
      "cell_type": "code",
      "source": [
        "!git remote rm origin"
      ],
      "metadata": {
        "id": "XCRZgbm8e_1f"
      },
      "execution_count": null,
      "outputs": []
    },
    {
      "cell_type": "code",
      "source": [
        "!git remote add origin https://{my_token}@github.com/{username}/{my_repository}.git\n",
        "!git remote -v"
      ],
      "metadata": {
        "id": "61psHyK3fCRM"
      },
      "execution_count": null,
      "outputs": []
    },
    {
      "cell_type": "code",
      "source": [
        "!git push -u origin master --force"
      ],
      "metadata": {
        "id": "c0sQOc7ffCYP"
      },
      "execution_count": null,
      "outputs": []
    },
    {
      "cell_type": "markdown",
      "source": [
        "---\n",
        "\n",
        "\n",
        "\n",
        "---\n",
        "\n",
        "\n",
        "\n",
        "---"
      ],
      "metadata": {
        "id": "C0hWgk1XMjl-"
      }
    },
    {
      "cell_type": "markdown",
      "source": [
        "# Assignment\n",
        "\n",
        "Just follow the class logistic_regression, try to implement Logistic regression with `l1`, `l2` and `l1-l2`. That we call respectively `Lasso (least absolute shrinkage and selection operator)`, `Ridge` and `ElasticNet`.\n",
        "Given cross-entropy:\n",
        "\\begin{equation}\n",
        "  l(θ)= -\\sum_{i= 1}^{N} \\left(y_{true} \\times \\log y_{pred} + (1-y_{true}) \\times \\log (1-y_{pred}) \\right)\n",
        "\\end{equation}\n",
        "\n",
        "1. l1-regularization (LASSO):\n",
        "\n",
        "\\begin{equation}\n",
        "   l(θ) + λ\\| \\theta\\|_1\n",
        "\\end{equation}\n",
        "\n",
        "\n",
        "2. l2-regularization (Ridge):\n",
        "\\begin{equation}\n",
        "   l(θ)+ λ\\| \\theta\\|_2\n",
        "\\end{equation}\n",
        "\n",
        "3. l1-l2-regularization (ElasticNet):\n",
        "\\begin{equation}\n",
        "  l(θ) + λ_1\\| \\theta\\|_1 + λ_2\\| \\theta\\|_2\n",
        "\\end{equation}\n",
        "\n",
        "`Note: please use mini-batch as learning algorithm`"
      ],
      "metadata": {
        "id": "9WIvYaFRTEOo"
      }
    },
    {
      "cell_type": "code",
      "source": [
        "class logistic_regression_l1:\n",
        "  pass"
      ],
      "metadata": {
        "id": "oru7W5P6FNyh"
      },
      "execution_count": null,
      "outputs": []
    },
    {
      "cell_type": "code",
      "source": [
        "class logistic_regression_l2:\n",
        "  pass"
      ],
      "metadata": {
        "id": "Q4MuLTNNT5qE"
      },
      "execution_count": null,
      "outputs": []
    },
    {
      "cell_type": "code",
      "source": [
        "class logistic_regression_l1_l2:\n",
        "  pass"
      ],
      "metadata": {
        "id": "vnHpkvRIT71Z"
      },
      "execution_count": null,
      "outputs": []
    },
    {
      "cell_type": "markdown",
      "source": [
        "# Concepts [Assignment]:\n",
        "1. Why there is no close form for cross-entropy loss?\n",
        "2. Why we need cross-entropy loss instead of mse?\n",
        "3. Why is logistic regression a type of classification technique and not a regression?"
      ],
      "metadata": {
        "id": "jqSi--hEpa9N"
      }
    },
    {
      "cell_type": "code",
      "source": [
        ""
      ],
      "metadata": {
        "id": "3IPn0NYZrUdP"
      },
      "execution_count": null,
      "outputs": []
    }
  ]
}